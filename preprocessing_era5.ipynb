{
 "cells": [
  {
   "cell_type": "markdown",
   "metadata": {},
   "source": [
    "## Download ERA5 summer mean variables at pressure levels\n"
   ]
  },
  {
   "cell_type": "code",
   "execution_count": 27,
   "metadata": {},
   "outputs": [],
   "source": [
    "import creampy\n",
    "from creampy.dataproducts import Pressure, Surface \n",
    "import xarray as xr\n",
    "import numpy as np"
   ]
  },
  {
   "cell_type": "code",
   "execution_count": 113,
   "metadata": {},
   "outputs": [],
   "source": [
    "# ERA5 pressure levels, variables q u v p, monthly resolution, domain \n",
    "variables =  ['geopotential', 'specific_humidity', 'u_component_of_wind',\n",
    "            'v_component_of_wind']\n",
    "\n",
    "variables = ['surface_pressure']\n",
    "\n",
    "\n",
    "variables = ['precipitation', 'large_scale_precipitation', 'convective_precipitation']\n",
    "\n",
    "\n",
    "variables= ['vertical_integral_of_eastward_water_vapour_flux', 'vertical_integral_of_northward_water_vapour_flux']"
   ]
  },
  {
   "cell_type": "code",
   "execution_count": 114,
   "metadata": {},
   "outputs": [
    {
     "name": "stderr",
     "output_type": "stream",
     "text": [
      "2020-11-09 09:03:38,613 INFO Welcome to the CDS\n",
      "2020-11-09 09:03:38,615 INFO Sending request to https://cds.climate.copernicus.eu/api/v2/resources/reanalysis-era5-single-levels\n",
      "2020-11-09 09:03:38,841 INFO Request is queued\n",
      "2020-11-09 09:03:39,882 INFO Request is running\n",
      "2020-11-09 09:04:54,137 INFO Request is completed\n",
      "2020-11-09 09:04:54,139 INFO Downloading http://136.156.132.235/cache-compute-0006/cache/data3/adaptor.mars.internal-1604909019.350907-8550-22-5ab814fd-69c3-4030-9fca-08636d7ee379.nc to cache/era5_single-levels_1979_months5_vertical_integral_of_eastward_water_vapour_fluxvertical_integral_of_northward_water_vapour_flux_60,50,10,130.nc (183.1M)\n",
      "2020-11-09 09:05:26,633 INFO Download rate 5.6M/s  \n"
     ]
    },
    {
     "name": "stdout",
     "output_type": "stream",
     "text": [
      "file downloaded and saved as  cache/era5_single-levels_1979_months5_vertical_integral_of_eastward_water_vapour_fluxvertical_integral_of_northward_water_vapour_flux_60,50,10,130.nc\n"
     ]
    }
   ],
   "source": [
    "era5_pressure = creampy.dataproducts.ERA5('single-levels', variables, 'hourly', domain = ['60', '50', '10','130'])\n",
    "\n",
    "\n",
    "era5_pressure.get_data_per_year(np.arange(1979,1980).astype(str),  months = ['5'], pressure_levels ='all')\n"
   ]
  },
  {
   "cell_type": "markdown",
   "metadata": {},
   "source": [
    "## Download water vapor transport "
   ]
  },
  {
   "cell_type": "code",
   "execution_count": null,
   "metadata": {},
   "outputs": [],
   "source": []
  },
  {
   "cell_type": "code",
   "execution_count": null,
   "metadata": {},
   "outputs": [],
   "source": []
  },
  {
   "cell_type": "code",
   "execution_count": null,
   "metadata": {},
   "outputs": [],
   "source": []
  },
  {
   "cell_type": "markdown",
   "metadata": {},
   "source": [
    "## Download ERA5 data for 2D precip\n",
    "\n"
   ]
  },
  {
   "cell_type": "code",
   "execution_count": 15,
   "metadata": {},
   "outputs": [],
   "source": [
    "# ERA5 pressure levels, variables q u v p, monthly resolution, domain \n",
    "variables = ['convective_precipitation', 'large_scale_precipitation', 'total_precipitation']\n",
    "variables = ['vertically_integrated_moisture_divergence']\n",
    "era5_single= creampy.dataproducts.ERA5('single-levels', variables, 'monthly', domain = ['60', '50', '10','130'] )"
   ]
  },
  {
   "cell_type": "code",
   "execution_count": 16,
   "metadata": {},
   "outputs": [
    {
     "name": "stderr",
     "output_type": "stream",
     "text": [
      "2020-09-16 16:35:25,551 INFO Welcome to the CDS\n",
      "2020-09-16 16:35:25,552 INFO Sending request to https://cds.climate.copernicus.eu/api/v2/resources/reanalysis-era5-single-levels-monthly-means\n",
      "2020-09-16 16:35:26,363 INFO Request is queued\n",
      "2020-09-16 16:35:28,946 INFO Request is running\n",
      "2020-09-16 16:35:47,374 INFO Request is failed\n",
      "2020-09-16 16:35:47,375 ERROR Message: no data is available within your requested subset\n",
      "2020-09-16 16:35:47,376 ERROR Reason:  Request returned no data\n",
      "2020-09-16 16:35:47,376 ERROR   Traceback (most recent call last):\n",
      "2020-09-16 16:35:47,376 ERROR     File \"/opt/cdstoolbox/cdscompute/cdscompute/cdshandlers/services/handler.py\", line 49, in handle_request\n",
      "2020-09-16 16:35:47,377 ERROR       result = cached(context.method, proc, context, context.args, context.kwargs)\n",
      "2020-09-16 16:35:47,377 ERROR     File \"/opt/cdstoolbox/cdscompute/cdscompute/caching.py\", line 108, in cached\n",
      "2020-09-16 16:35:47,378 ERROR       result = proc(context, *context.args, **context.kwargs)\n",
      "2020-09-16 16:35:47,379 ERROR     File \"/opt/cdstoolbox/cdscompute/cdscompute/services.py\", line 118, in __call__\n",
      "2020-09-16 16:35:47,379 ERROR       return p(*args, **kwargs)\n",
      "2020-09-16 16:35:47,379 ERROR     File \"/opt/cdstoolbox/cdscompute/cdscompute/services.py\", line 59, in __call__\n",
      "2020-09-16 16:35:47,380 ERROR       return self.proc(context, *args, **kwargs)\n",
      "2020-09-16 16:35:47,380 ERROR     File \"/home/cds/cdsservices/services/mars.py\", line 347, in internal\n",
      "2020-09-16 16:35:47,380 ERROR       return mars(context, request, **kwargs)\n",
      "2020-09-16 16:35:47,380 ERROR     File \"/home/cds/cdsservices/services/mars.py\", line 48, in mars\n",
      "2020-09-16 16:35:47,381 ERROR       execute_mars(context, requests)\n",
      "2020-09-16 16:35:47,381 ERROR     File \"/home/cds/cdsservices/services/mars.py\", line 196, in execute_mars\n",
      "2020-09-16 16:35:47,381 ERROR       raise NoDataException(\"Request returned no data\", '')\n",
      "2020-09-16 16:35:47,381 ERROR   cdsinf.exceptions.NoDataException: Request returned no data\n"
     ]
    },
    {
     "ename": "Exception",
     "evalue": "no data is available within your requested subset. Request returned no data.",
     "output_type": "error",
     "traceback": [
      "\u001b[0;31m---------------------------------------------------------------------------\u001b[0m",
      "\u001b[0;31mException\u001b[0m                                 Traceback (most recent call last)",
      "\u001b[0;32m<ipython-input-16-6057ccc2053e>\u001b[0m in \u001b[0;36m<module>\u001b[0;34m\u001b[0m\n\u001b[1;32m      1\u001b[0m \u001b[0;31m# download data\u001b[0m\u001b[0;34m\u001b[0m\u001b[0;34m\u001b[0m\u001b[0;34m\u001b[0m\u001b[0m\n\u001b[0;32m----> 2\u001b[0;31m \u001b[0mera5_single\u001b[0m\u001b[0;34m.\u001b[0m\u001b[0mget_data_per_year\u001b[0m\u001b[0;34m(\u001b[0m\u001b[0myears\u001b[0m \u001b[0;34m=\u001b[0m \u001b[0mlist\u001b[0m\u001b[0;34m(\u001b[0m\u001b[0mnp\u001b[0m\u001b[0;34m.\u001b[0m\u001b[0marange\u001b[0m\u001b[0;34m(\u001b[0m\u001b[0;36m1979\u001b[0m\u001b[0;34m,\u001b[0m\u001b[0;36m2020\u001b[0m\u001b[0;34m)\u001b[0m\u001b[0;34m.\u001b[0m\u001b[0mastype\u001b[0m\u001b[0;34m(\u001b[0m\u001b[0mstr\u001b[0m\u001b[0;34m)\u001b[0m\u001b[0;34m)\u001b[0m\u001b[0;34m,\u001b[0m \u001b[0mmonths\u001b[0m \u001b[0;34m=\u001b[0m \u001b[0mlist\u001b[0m\u001b[0;34m(\u001b[0m\u001b[0mnp\u001b[0m\u001b[0;34m.\u001b[0m\u001b[0marange\u001b[0m\u001b[0;34m(\u001b[0m\u001b[0;36m5\u001b[0m\u001b[0;34m,\u001b[0m\u001b[0;36m10\u001b[0m\u001b[0;34m)\u001b[0m\u001b[0;34m.\u001b[0m\u001b[0mastype\u001b[0m\u001b[0;34m(\u001b[0m\u001b[0mstr\u001b[0m\u001b[0;34m)\u001b[0m\u001b[0;34m)\u001b[0m\u001b[0;34m)\u001b[0m\u001b[0;34m\u001b[0m\u001b[0;34m\u001b[0m\u001b[0m\n\u001b[0m",
      "\u001b[0;32m/media/juli/Data/projects/moisture_transport/moisture_transport/creampy/dataproducts.py\u001b[0m in \u001b[0;36mget_data_per_year\u001b[0;34m(self, years, months, days, hours, pressure_levels)\u001b[0m\n\u001b[1;32m    125\u001b[0m                         \u001b[0;34m\"day\"\u001b[0m\u001b[0;34m:\u001b[0m           \u001b[0mdays\u001b[0m\u001b[0;34m,\u001b[0m\u001b[0;34m\u001b[0m\u001b[0;34m\u001b[0m\u001b[0m\n\u001b[1;32m    126\u001b[0m                         \u001b[0;34m\"time\"\u001b[0m\u001b[0;34m:\u001b[0m          \u001b[0mhours\u001b[0m\u001b[0;34m\u001b[0m\u001b[0;34m\u001b[0m\u001b[0m\n\u001b[0;32m--> 127\u001b[0;31m                     }, filepath)\n\u001b[0m\u001b[1;32m    128\u001b[0m \u001b[0;34m\u001b[0m\u001b[0m\n\u001b[1;32m    129\u001b[0m                     \u001b[0mprint\u001b[0m\u001b[0;34m(\u001b[0m\u001b[0;34m'file downloaded and saved as '\u001b[0m\u001b[0;34m,\u001b[0m \u001b[0mfilepath\u001b[0m\u001b[0;34m)\u001b[0m\u001b[0;34m\u001b[0m\u001b[0;34m\u001b[0m\u001b[0m\n",
      "\u001b[0;32m~/anaconda3/lib/python3.6/site-packages/cdsapi/api.py\u001b[0m in \u001b[0;36mretrieve\u001b[0;34m(self, name, request, target)\u001b[0m\n\u001b[1;32m    308\u001b[0m \u001b[0;34m\u001b[0m\u001b[0m\n\u001b[1;32m    309\u001b[0m     \u001b[0;32mdef\u001b[0m \u001b[0mretrieve\u001b[0m\u001b[0;34m(\u001b[0m\u001b[0mself\u001b[0m\u001b[0;34m,\u001b[0m \u001b[0mname\u001b[0m\u001b[0;34m,\u001b[0m \u001b[0mrequest\u001b[0m\u001b[0;34m,\u001b[0m \u001b[0mtarget\u001b[0m\u001b[0;34m=\u001b[0m\u001b[0;32mNone\u001b[0m\u001b[0;34m)\u001b[0m\u001b[0;34m:\u001b[0m\u001b[0;34m\u001b[0m\u001b[0;34m\u001b[0m\u001b[0m\n\u001b[0;32m--> 310\u001b[0;31m         \u001b[0mresult\u001b[0m \u001b[0;34m=\u001b[0m \u001b[0mself\u001b[0m\u001b[0;34m.\u001b[0m\u001b[0m_api\u001b[0m\u001b[0;34m(\u001b[0m\u001b[0;34m'%s/resources/%s'\u001b[0m \u001b[0;34m%\u001b[0m \u001b[0;34m(\u001b[0m\u001b[0mself\u001b[0m\u001b[0;34m.\u001b[0m\u001b[0murl\u001b[0m\u001b[0;34m,\u001b[0m \u001b[0mname\u001b[0m\u001b[0;34m)\u001b[0m\u001b[0;34m,\u001b[0m \u001b[0mrequest\u001b[0m\u001b[0;34m,\u001b[0m \u001b[0;34m'POST'\u001b[0m\u001b[0;34m)\u001b[0m\u001b[0;34m\u001b[0m\u001b[0;34m\u001b[0m\u001b[0m\n\u001b[0m\u001b[1;32m    311\u001b[0m         \u001b[0;32mif\u001b[0m \u001b[0mtarget\u001b[0m \u001b[0;32mis\u001b[0m \u001b[0;32mnot\u001b[0m \u001b[0;32mNone\u001b[0m\u001b[0;34m:\u001b[0m\u001b[0;34m\u001b[0m\u001b[0;34m\u001b[0m\u001b[0m\n\u001b[1;32m    312\u001b[0m             \u001b[0mresult\u001b[0m\u001b[0;34m.\u001b[0m\u001b[0mdownload\u001b[0m\u001b[0;34m(\u001b[0m\u001b[0mtarget\u001b[0m\u001b[0;34m)\u001b[0m\u001b[0;34m\u001b[0m\u001b[0;34m\u001b[0m\u001b[0m\n",
      "\u001b[0;32m~/anaconda3/lib/python3.6/site-packages/cdsapi/api.py\u001b[0m in \u001b[0;36m_api\u001b[0;34m(self, url, request, method)\u001b[0m\n\u001b[1;32m    442\u001b[0m                         \u001b[0;32mbreak\u001b[0m\u001b[0;34m\u001b[0m\u001b[0;34m\u001b[0m\u001b[0m\n\u001b[1;32m    443\u001b[0m                     \u001b[0mself\u001b[0m\u001b[0;34m.\u001b[0m\u001b[0merror\u001b[0m\u001b[0;34m(\u001b[0m\u001b[0;34m\"  %s\"\u001b[0m\u001b[0;34m,\u001b[0m \u001b[0mn\u001b[0m\u001b[0;34m)\u001b[0m\u001b[0;34m\u001b[0m\u001b[0;34m\u001b[0m\u001b[0m\n\u001b[0;32m--> 444\u001b[0;31m                 \u001b[0;32mraise\u001b[0m \u001b[0mException\u001b[0m\u001b[0;34m(\u001b[0m\u001b[0;34m\"%s. %s.\"\u001b[0m \u001b[0;34m%\u001b[0m \u001b[0;34m(\u001b[0m\u001b[0mreply\u001b[0m\u001b[0;34m[\u001b[0m\u001b[0;34m'error'\u001b[0m\u001b[0;34m]\u001b[0m\u001b[0;34m.\u001b[0m\u001b[0mget\u001b[0m\u001b[0;34m(\u001b[0m\u001b[0;34m'message'\u001b[0m\u001b[0;34m)\u001b[0m\u001b[0;34m,\u001b[0m \u001b[0mreply\u001b[0m\u001b[0;34m[\u001b[0m\u001b[0;34m'error'\u001b[0m\u001b[0;34m]\u001b[0m\u001b[0;34m.\u001b[0m\u001b[0mget\u001b[0m\u001b[0;34m(\u001b[0m\u001b[0;34m'reason'\u001b[0m\u001b[0;34m)\u001b[0m\u001b[0;34m)\u001b[0m\u001b[0;34m)\u001b[0m\u001b[0;34m\u001b[0m\u001b[0;34m\u001b[0m\u001b[0m\n\u001b[0m\u001b[1;32m    445\u001b[0m \u001b[0;34m\u001b[0m\u001b[0m\n\u001b[1;32m    446\u001b[0m             \u001b[0;32mraise\u001b[0m \u001b[0mException\u001b[0m\u001b[0;34m(\u001b[0m\u001b[0;34m'Unknown API state [%s]'\u001b[0m \u001b[0;34m%\u001b[0m \u001b[0;34m(\u001b[0m\u001b[0mreply\u001b[0m\u001b[0;34m[\u001b[0m\u001b[0;34m'state'\u001b[0m\u001b[0;34m]\u001b[0m\u001b[0;34m,\u001b[0m\u001b[0;34m)\u001b[0m\u001b[0;34m)\u001b[0m\u001b[0;34m\u001b[0m\u001b[0;34m\u001b[0m\u001b[0m\n",
      "\u001b[0;31mException\u001b[0m: no data is available within your requested subset. Request returned no data."
     ]
    }
   ],
   "source": [
    "# download data \n",
    "era5_single.get_data_per_year(years = list(np.arange(1979,2020).astype(str)), months = list(np.arange(5,10).astype(str)))"
   ]
  },
  {
   "cell_type": "markdown",
   "metadata": {},
   "source": [
    "## Hourly ERA5 precip data for wavelet spectrum analysis "
   ]
  },
  {
   "cell_type": "code",
   "execution_count": null,
   "metadata": {},
   "outputs": [
    {
     "name": "stderr",
     "output_type": "stream",
     "text": [
      "2020-08-27 12:45:32,830 INFO Welcome to the CDS\n",
      "2020-08-27 12:45:32,830 INFO Sending request to https://cds.climate.copernicus.eu/api/v2/resources/reanalysis-era5-single-levels\n"
     ]
    },
    {
     "name": "stdout",
     "output_type": "stream",
     "text": [
      "omittted download for  era5_single-levels_1982_months56789_convective_precipitationlarge_scale_precipitationtotal_precipitationevaporation_60,50,10,130.nc\n"
     ]
    },
    {
     "name": "stderr",
     "output_type": "stream",
     "text": [
      "2020-08-27 12:45:32,985 INFO Request is completed\n",
      "2020-08-27 12:45:32,985 INFO Downloading http://136.156.133.37/cache-compute-0011/cache/data0/adaptor.mars.internal-1598523527.6131334-13236-5-df077f2a-727c-45c0-bda7-61915060dd85.nc to cache/era5_single-levels_1983_months56789_convective_precipitationlarge_scale_precipitationtotal_precipitationevaporation_60,50,10,130.nc (1.8G)\n",
      "2020-08-27 12:49:05,777 INFO Download rate 8.5M/s   \n",
      "2020-08-27 12:49:06,119 INFO Welcome to the CDS\n",
      "2020-08-27 12:49:06,119 INFO Sending request to https://cds.climate.copernicus.eu/api/v2/resources/reanalysis-era5-single-levels\n"
     ]
    },
    {
     "name": "stdout",
     "output_type": "stream",
     "text": [
      "file downloaded and saved as  cache/era5_single-levels_1983_months56789_convective_precipitationlarge_scale_precipitationtotal_precipitationevaporation_60,50,10,130.nc\n"
     ]
    },
    {
     "name": "stderr",
     "output_type": "stream",
     "text": [
      "2020-08-27 12:49:06,605 INFO Request is queued\n",
      "2020-08-27 12:49:07,638 INFO Request is running\n",
      "2020-08-27 13:15:26,808 INFO Request is completed\n",
      "2020-08-27 13:15:26,809 INFO Downloading http://136.156.132.105/cache-compute-0000/cache/data0/adaptor.mars.internal-1598525346.7679303-27924-39-50b2fff2-ee1b-40ff-b688-ffb205580915.nc to cache/era5_single-levels_1984_months56789_convective_precipitationlarge_scale_precipitationtotal_precipitationevaporation_60,50,10,130.nc (1.8G)\n",
      "2020-08-27 13:18:48,679 INFO Download rate 9M/s     \n",
      "2020-08-27 13:18:49,453 INFO Welcome to the CDS\n",
      "2020-08-27 13:18:49,453 INFO Sending request to https://cds.climate.copernicus.eu/api/v2/resources/reanalysis-era5-single-levels\n"
     ]
    },
    {
     "name": "stdout",
     "output_type": "stream",
     "text": [
      "file downloaded and saved as  cache/era5_single-levels_1984_months56789_convective_precipitationlarge_scale_precipitationtotal_precipitationevaporation_60,50,10,130.nc\n"
     ]
    },
    {
     "name": "stderr",
     "output_type": "stream",
     "text": [
      "2020-08-27 13:18:51,120 INFO Request is queued\n",
      "2020-08-27 13:18:53,688 INFO Request is running\n",
      "2020-08-27 13:43:11,156 INFO Request is completed\n",
      "2020-08-27 13:43:11,157 INFO Downloading http://136.156.133.42/cache-compute-0014/cache/data7/adaptor.mars.internal-1598527132.788269-23651-19-ef198261-438c-49c6-a86d-9aa038cfb28a.nc to cache/era5_single-levels_1985_months56789_convective_precipitationlarge_scale_precipitationtotal_precipitationevaporation_60,50,10,130.nc (1.8G)\n",
      "2020-08-27 13:46:29,939 INFO Download rate 9.1M/s   \n",
      "2020-08-27 13:46:30,369 INFO Welcome to the CDS\n",
      "2020-08-27 13:46:30,369 INFO Sending request to https://cds.climate.copernicus.eu/api/v2/resources/reanalysis-era5-single-levels\n"
     ]
    },
    {
     "name": "stdout",
     "output_type": "stream",
     "text": [
      "file downloaded and saved as  cache/era5_single-levels_1985_months56789_convective_precipitationlarge_scale_precipitationtotal_precipitationevaporation_60,50,10,130.nc\n"
     ]
    },
    {
     "name": "stderr",
     "output_type": "stream",
     "text": [
      "2020-08-27 13:46:30,620 INFO Request is queued\n",
      "2020-08-27 13:46:31,654 INFO Request is running\n",
      "2020-08-27 14:12:50,652 INFO Request is completed\n",
      "2020-08-27 14:12:50,652 INFO Downloading http://136.156.133.41/cache-compute-0013/cache/data5/adaptor.mars.internal-1598528791.1314566-24312-21-c03e91f6-391e-4ac0-8ecd-d7b4ffe62a08.nc to cache/era5_single-levels_1986_months56789_convective_precipitationlarge_scale_precipitationtotal_precipitationevaporation_60,50,10,130.nc (1.8G)\n",
      "2020-08-27 14:16:19,991 INFO Download rate 8.6M/s   \n",
      "2020-08-27 14:16:20,811 INFO Welcome to the CDS\n",
      "2020-08-27 14:16:20,812 INFO Sending request to https://cds.climate.copernicus.eu/api/v2/resources/reanalysis-era5-single-levels\n"
     ]
    },
    {
     "name": "stdout",
     "output_type": "stream",
     "text": [
      "file downloaded and saved as  cache/era5_single-levels_1986_months56789_convective_precipitationlarge_scale_precipitationtotal_precipitationevaporation_60,50,10,130.nc\n"
     ]
    },
    {
     "name": "stderr",
     "output_type": "stream",
     "text": [
      "2020-08-27 14:16:25,218 INFO Request is queued\n",
      "2020-08-27 14:16:26,251 INFO Request is running\n",
      "2020-08-27 14:40:45,286 INFO Request is completed\n",
      "2020-08-27 14:40:45,287 INFO Downloading http://136.156.133.46/cache-compute-0015/cache/data6/adaptor.mars.internal-1598530586.1858952-4724-7-3ab266c2-3f03-428a-9906-ed11fba2f5c0.nc to cache/era5_single-levels_1987_months56789_convective_precipitationlarge_scale_precipitationtotal_precipitationevaporation_60,50,10,130.nc (1.8G)\n",
      "2020-08-27 14:44:55,564 INFO Download rate 7.2M/s   \n",
      "2020-08-27 14:44:56,382 INFO Welcome to the CDS\n",
      "2020-08-27 14:44:56,383 INFO Sending request to https://cds.climate.copernicus.eu/api/v2/resources/reanalysis-era5-single-levels\n"
     ]
    },
    {
     "name": "stdout",
     "output_type": "stream",
     "text": [
      "file downloaded and saved as  cache/era5_single-levels_1987_months56789_convective_precipitationlarge_scale_precipitationtotal_precipitationevaporation_60,50,10,130.nc\n"
     ]
    },
    {
     "name": "stderr",
     "output_type": "stream",
     "text": [
      "2020-08-27 14:44:56,501 INFO Request is queued\n",
      "2020-08-27 14:44:57,535 INFO Request is running\n",
      "2020-08-27 15:09:16,477 INFO Request is completed\n",
      "2020-08-27 15:09:16,478 INFO Downloading http://136.156.132.236/cache-compute-0007/cache/data9/adaptor.mars.internal-1598532296.7733698-20004-1-8c5a101e-2142-41a2-bf7f-4cfd327dcbef.nc to cache/era5_single-levels_1988_months56789_convective_precipitationlarge_scale_precipitationtotal_precipitationevaporation_60,50,10,130.nc (1.8G)\n",
      "2020-08-27 15:13:18,161 INFO Download rate 7.5M/s   \n",
      "2020-08-27 15:13:19,130 INFO Welcome to the CDS\n",
      "2020-08-27 15:13:19,131 INFO Sending request to https://cds.climate.copernicus.eu/api/v2/resources/reanalysis-era5-single-levels\n"
     ]
    },
    {
     "name": "stdout",
     "output_type": "stream",
     "text": [
      "file downloaded and saved as  cache/era5_single-levels_1988_months56789_convective_precipitationlarge_scale_precipitationtotal_precipitationevaporation_60,50,10,130.nc\n"
     ]
    },
    {
     "name": "stderr",
     "output_type": "stream",
     "text": [
      "2020-08-27 15:13:20,744 INFO Request is queued\n",
      "2020-08-27 15:13:23,313 INFO Request is running\n",
      "2020-08-27 15:35:40,665 INFO Request is completed\n",
      "2020-08-27 15:35:40,665 INFO Downloading http://136.156.133.25/cache-compute-0008/cache/data4/adaptor.mars.internal-1598534002.8744597-29096-3-d4e5f276-7268-4b31-a4c0-f68e896acd4f.nc to cache/era5_single-levels_1989_months56789_convective_precipitationlarge_scale_precipitationtotal_precipitationevaporation_60,50,10,130.nc (1.8G)\n",
      " 68%|██████▊   | 1.20G/1.77G [02:39<18:12, 551kB/s] "
     ]
    }
   ],
   "source": [
    "# ERA5 pressure levels, variables q u v p, monthly resolution, domain \n",
    "variables = ['convective_precipitation', 'large_scale_precipitation', 'total_precipitation', 'evaporation']\n",
    "era5_single= creampy.dataproducts.ERA5('single-levels', variables, 'hourly', domain = ['60', '50', '10','130'] )\n",
    "\n",
    "# download data \n",
    "era5_single.get_data_per_year(years = list(np.arange(1982,2020).astype(str)), months = list(np.arange(5,10).astype(str)))"
   ]
  },
  {
   "cell_type": "markdown",
   "metadata": {},
   "source": [
    "## Hourly data for eddy calculation "
   ]
  }
 ],
 "metadata": {
  "kernelspec": {
   "display_name": "Python 3",
   "language": "python",
   "name": "python3"
  },
  "language_info": {
   "codemirror_mode": {
    "name": "ipython",
    "version": 3
   },
   "file_extension": ".py",
   "mimetype": "text/x-python",
   "name": "python",
   "nbconvert_exporter": "python",
   "pygments_lexer": "ipython3",
   "version": "3.6.7"
  }
 },
 "nbformat": 4,
 "nbformat_minor": 2
}
