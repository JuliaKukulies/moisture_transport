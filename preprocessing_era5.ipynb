{
 "cells": [
  {
   "cell_type": "markdown",
   "metadata": {},
   "source": [
    "## Download ERA5 summer mean variables at pressure levels\n"
   ]
  },
  {
   "cell_type": "code",
   "execution_count": 27,
   "metadata": {},
   "outputs": [],
   "source": [
    "import creampy\n",
    "from creampy.dataproducts import Pressure, Surface \n",
    "import xarray as xr\n",
    "import numpy as np"
   ]
  },
  {
   "cell_type": "code",
   "execution_count": 105,
   "metadata": {},
   "outputs": [],
   "source": [
    "# ERA5 pressure levels, variables q u v p, monthly resolution, domain \n",
    "variables =  ['geopotential', 'specific_humidity', 'u_component_of_wind',\n",
    "            'v_component_of_wind']\n",
    "\n",
    "variables = ['surface_pressure']\n",
    "\n",
    "\n",
    "variables = ['precipitation', 'large_scale_precipitation', 'convective_precipitation']"
   ]
  },
  {
   "cell_type": "code",
   "execution_count": 106,
   "metadata": {},
   "outputs": [
    {
     "name": "stderr",
     "output_type": "stream",
     "text": [
      "2020-10-29 17:21:27,930 INFO Welcome to the CDS\n",
      "2020-10-29 17:21:27,932 INFO Sending request to https://cds.climate.copernicus.eu/api/v2/resources/reanalysis-era5-single-levels\n",
      "2020-10-29 17:21:28,120 INFO Request is queued\n",
      "2020-10-29 17:21:29,159 INFO Request is running\n",
      "2020-10-29 17:33:48,275 INFO Request is completed\n",
      "2020-10-29 17:33:48,275 INFO Downloading http://136.156.133.32/cache-compute-0009/cache/data5/adaptor.mars.internal-1603988488.2302377-21815-5-b63ce872-f23f-47db-a139-626c8cea649b.nc to cache/era5_single-levels_1979_months56789_precipitationlarge_scale_precipitationconvective_precipitation_60,50,10,130.nc (1.3G)\n",
      "2020-10-29 17:36:22,824 INFO Download rate 8.8M/s   \n"
     ]
    },
    {
     "name": "stdout",
     "output_type": "stream",
     "text": [
      "file downloaded and saved as  cache/era5_single-levels_1979_months56789_precipitationlarge_scale_precipitationconvective_precipitation_60,50,10,130.nc\n"
     ]
    },
    {
     "name": "stderr",
     "output_type": "stream",
     "text": [
      "2020-10-29 17:36:23,352 INFO Welcome to the CDS\n",
      "2020-10-29 17:36:23,353 INFO Sending request to https://cds.climate.copernicus.eu/api/v2/resources/reanalysis-era5-single-levels\n",
      "2020-10-29 17:36:23,451 INFO Request is queued\n",
      "2020-10-29 17:36:24,491 INFO Request is running\n",
      "2020-10-29 17:50:43,585 INFO Request is completed\n",
      "2020-10-29 17:50:43,587 INFO Downloading http://136.156.133.46/cache-compute-0015/cache/data6/adaptor.mars.internal-1603989383.526047-10557-7-fb237668-3da9-4973-b6b4-a81702cfc7ad.nc to cache/era5_single-levels_1980_months56789_precipitationlarge_scale_precipitationconvective_precipitation_60,50,10,130.nc (1.3G)\n",
      "2020-10-29 17:53:23,911 INFO Download rate 8.5M/s   \n",
      "2020-10-29 17:53:24,221 INFO Welcome to the CDS\n",
      "2020-10-29 17:53:24,223 INFO Sending request to https://cds.climate.copernicus.eu/api/v2/resources/reanalysis-era5-single-levels\n"
     ]
    },
    {
     "name": "stdout",
     "output_type": "stream",
     "text": [
      "file downloaded and saved as  cache/era5_single-levels_1980_months56789_precipitationlarge_scale_precipitationconvective_precipitation_60,50,10,130.nc\n"
     ]
    },
    {
     "name": "stderr",
     "output_type": "stream",
     "text": [
      "2020-10-29 17:53:24,330 INFO Request is queued\n",
      "2020-10-29 17:53:25,372 INFO Request is running\n",
      "2020-10-29 18:07:44,562 INFO Request is completed\n",
      "2020-10-29 18:07:44,564 INFO Downloading http://136.156.132.105/cache-compute-0000/cache/data2/adaptor.mars.internal-1603990404.435734-10980-6-8550fb50-c436-4a2f-ae61-cd1352187558.nc to cache/era5_single-levels_1981_months56789_precipitationlarge_scale_precipitationconvective_precipitation_60,50,10,130.nc (1.3G)\n",
      "2020-10-29 18:10:47,608 INFO Download rate 7.4M/s   \n",
      "2020-10-29 18:10:47,918 INFO Welcome to the CDS\n",
      "2020-10-29 18:10:47,920 INFO Sending request to https://cds.climate.copernicus.eu/api/v2/resources/reanalysis-era5-single-levels\n"
     ]
    },
    {
     "name": "stdout",
     "output_type": "stream",
     "text": [
      "file downloaded and saved as  cache/era5_single-levels_1981_months56789_precipitationlarge_scale_precipitationconvective_precipitation_60,50,10,130.nc\n"
     ]
    },
    {
     "name": "stderr",
     "output_type": "stream",
     "text": [
      "2020-10-29 18:10:48,039 INFO Request is queued\n",
      "2020-10-29 18:10:49,079 INFO Request is running\n",
      "2020-10-29 18:23:07,973 INFO Request is completed\n",
      "2020-10-29 18:23:07,975 INFO Downloading http://136.156.133.25/cache-compute-0008/cache/data2/adaptor.mars.internal-1603991448.1006784-6886-3-271705b6-dbd7-4114-9a03-e2e88883354d.nc to cache/era5_single-levels_1982_months56789_precipitationlarge_scale_precipitationconvective_precipitation_60,50,10,130.nc (1.3G)\n",
      "2020-10-29 18:25:30,331 INFO Download rate 9.5M/s   \n",
      "2020-10-29 18:25:30,638 INFO Welcome to the CDS\n",
      "2020-10-29 18:25:30,640 INFO Sending request to https://cds.climate.copernicus.eu/api/v2/resources/reanalysis-era5-single-levels\n"
     ]
    },
    {
     "name": "stdout",
     "output_type": "stream",
     "text": [
      "file downloaded and saved as  cache/era5_single-levels_1982_months56789_precipitationlarge_scale_precipitationconvective_precipitation_60,50,10,130.nc\n"
     ]
    },
    {
     "name": "stderr",
     "output_type": "stream",
     "text": [
      "2020-10-29 18:25:30,734 INFO Request is queued\n",
      "2020-10-29 18:25:31,779 INFO Request is running\n",
      "2020-10-29 18:37:50,647 INFO Request is completed\n",
      "2020-10-29 18:37:50,649 INFO Downloading http://136.156.133.41/cache-compute-0013/cache/data1/adaptor.mars.internal-1603992330.8520763-6732-23-ac11510b-3fbd-46d3-a13e-761aaf6c188f.nc to cache/era5_single-levels_1983_months56789_precipitationlarge_scale_precipitationconvective_precipitation_60,50,10,130.nc (1.3G)\n",
      "2020-10-29 18:40:26,448 INFO Download rate 8.7M/s   \n",
      "2020-10-29 18:40:26,754 INFO Welcome to the CDS\n",
      "2020-10-29 18:40:26,756 INFO Sending request to https://cds.climate.copernicus.eu/api/v2/resources/reanalysis-era5-single-levels\n"
     ]
    },
    {
     "name": "stdout",
     "output_type": "stream",
     "text": [
      "file downloaded and saved as  cache/era5_single-levels_1983_months56789_precipitationlarge_scale_precipitationconvective_precipitation_60,50,10,130.nc\n"
     ]
    },
    {
     "name": "stderr",
     "output_type": "stream",
     "text": [
      "2020-10-29 18:40:26,900 INFO Request is queued\n",
      "2020-10-29 18:40:27,942 INFO Request is running\n",
      "2020-10-29 18:54:46,252 INFO Request is completed\n",
      "2020-10-29 18:54:46,254 INFO Downloading http://136.156.132.110/cache-compute-0001/cache/data6/adaptor.mars.internal-1603993227.037067-8170-17-be7a5f30-bc41-47c9-9e65-cb60d89bb1d8.nc to cache/era5_single-levels_1984_months56789_precipitationlarge_scale_precipitationconvective_precipitation_60,50,10,130.nc (1.3G)\n",
      "2020-10-29 18:58:05,147 INFO Download rate 6.8M/s   \n",
      "2020-10-29 18:58:05,703 INFO Welcome to the CDS\n",
      "2020-10-29 18:58:05,705 INFO Sending request to https://cds.climate.copernicus.eu/api/v2/resources/reanalysis-era5-single-levels\n"
     ]
    },
    {
     "name": "stdout",
     "output_type": "stream",
     "text": [
      "file downloaded and saved as  cache/era5_single-levels_1984_months56789_precipitationlarge_scale_precipitationconvective_precipitation_60,50,10,130.nc\n"
     ]
    },
    {
     "name": "stderr",
     "output_type": "stream",
     "text": [
      "2020-10-29 18:58:05,802 INFO Request is queued\n",
      "2020-10-29 18:58:06,842 INFO Request is running\n",
      "2020-10-29 19:10:24,827 INFO Request is completed\n",
      "2020-10-29 19:10:24,830 INFO Downloading http://136.156.133.46/cache-compute-0015/cache/data2/adaptor.mars.internal-1603994286.3671265-20789-1-b067f665-899e-42ad-ac3e-4607dbfdc579.nc to cache/era5_single-levels_1985_months56789_precipitationlarge_scale_precipitationconvective_precipitation_60,50,10,130.nc (1.3G)\n",
      "2020-10-29 19:14:33,193 INFO Download rate 5.5M/s   \n",
      "2020-10-29 19:14:34,320 INFO Welcome to the CDS\n",
      "2020-10-29 19:14:34,322 INFO Sending request to https://cds.climate.copernicus.eu/api/v2/resources/reanalysis-era5-single-levels\n"
     ]
    },
    {
     "name": "stdout",
     "output_type": "stream",
     "text": [
      "file downloaded and saved as  cache/era5_single-levels_1985_months56789_precipitationlarge_scale_precipitationconvective_precipitation_60,50,10,130.nc\n"
     ]
    },
    {
     "name": "stderr",
     "output_type": "stream",
     "text": [
      "2020-10-29 19:14:34,418 INFO Request is queued\n",
      "2020-10-29 19:14:35,457 INFO Request is running\n",
      "2020-10-29 19:28:55,459 INFO Request is completed\n",
      "2020-10-29 19:28:55,461 INFO Downloading http://136.156.133.25/cache-compute-0008/cache/data5/adaptor.mars.internal-1603995274.652215-3587-17-3f8f2345-a22f-41fc-9899-30d84b48cc5d.nc to cache/era5_single-levels_1986_months56789_precipitationlarge_scale_precipitationconvective_precipitation_60,50,10,130.nc (1.3G)\n",
      "2020-10-29 19:31:31,790 INFO Download rate 8.7M/s   \n",
      "2020-10-29 19:31:32,093 INFO Welcome to the CDS\n",
      "2020-10-29 19:31:32,095 INFO Sending request to https://cds.climate.copernicus.eu/api/v2/resources/reanalysis-era5-single-levels\n"
     ]
    },
    {
     "name": "stdout",
     "output_type": "stream",
     "text": [
      "file downloaded and saved as  cache/era5_single-levels_1986_months56789_precipitationlarge_scale_precipitationconvective_precipitation_60,50,10,130.nc\n"
     ]
    },
    {
     "name": "stderr",
     "output_type": "stream",
     "text": [
      "2020-10-29 19:31:32,174 INFO Request is queued\n",
      "2020-10-29 19:31:33,215 INFO Request is running\n",
      "2020-10-29 19:45:52,752 INFO Request is completed\n",
      "2020-10-29 19:45:52,754 INFO Downloading http://136.156.132.236/cache-compute-0007/cache/data2/adaptor.mars.internal-1603996292.416896-7008-15-d6486f8e-7ec8-4a5f-921b-1d91244b0858.nc to cache/era5_single-levels_1987_months56789_precipitationlarge_scale_precipitationconvective_precipitation_60,50,10,130.nc (1.3G)\n",
      "2020-10-29 19:49:58,383 INFO Download rate 5.5M/s   \n",
      "2020-10-29 19:49:58,692 INFO Welcome to the CDS\n",
      "2020-10-29 19:49:58,693 INFO Sending request to https://cds.climate.copernicus.eu/api/v2/resources/reanalysis-era5-single-levels\n"
     ]
    },
    {
     "name": "stdout",
     "output_type": "stream",
     "text": [
      "file downloaded and saved as  cache/era5_single-levels_1987_months56789_precipitationlarge_scale_precipitationconvective_precipitation_60,50,10,130.nc\n"
     ]
    },
    {
     "name": "stderr",
     "output_type": "stream",
     "text": [
      "2020-10-29 19:49:58,826 INFO Request is queued\n",
      "2020-10-29 19:49:59,866 INFO Request is running\n",
      "2020-10-29 20:02:22,156 INFO Request is completed\n",
      "2020-10-29 20:02:22,159 INFO Downloading http://136.156.133.25/cache-compute-0008/cache/data9/adaptor.mars.internal-1603997398.920927-19921-15-4494800b-2f0d-47ce-a66c-a72c0d0b55a2.nc to cache/era5_single-levels_1988_months56789_precipitationlarge_scale_precipitationconvective_precipitation_60,50,10,130.nc (1.3G)\n",
      "2020-10-29 20:05:54,972 INFO Download rate 6.4M/s   \n",
      "2020-10-29 20:05:55,267 INFO Welcome to the CDS\n",
      "2020-10-29 20:05:55,269 INFO Sending request to https://cds.climate.copernicus.eu/api/v2/resources/reanalysis-era5-single-levels\n"
     ]
    },
    {
     "name": "stdout",
     "output_type": "stream",
     "text": [
      "file downloaded and saved as  cache/era5_single-levels_1988_months56789_precipitationlarge_scale_precipitationconvective_precipitation_60,50,10,130.nc\n"
     ]
    },
    {
     "name": "stderr",
     "output_type": "stream",
     "text": [
      "2020-10-29 20:05:55,326 INFO Request is queued\n",
      "2020-10-29 20:05:56,366 INFO Request is running\n",
      "2020-10-29 20:18:15,140 INFO Request is completed\n",
      "2020-10-29 20:18:15,142 INFO Downloading http://136.156.133.32/cache-compute-0009/cache/data2/adaptor.mars.internal-1603998355.3969367-8340-16-40d4ad73-2f52-4e25-b38a-7ed827467161.nc to cache/era5_single-levels_1989_months56789_precipitationlarge_scale_precipitationconvective_precipitation_60,50,10,130.nc (1.3G)\n",
      "2020-10-29 20:21:25,963 INFO Download rate 7.1M/s   \n",
      "2020-10-29 20:21:26,273 INFO Welcome to the CDS\n",
      "2020-10-29 20:21:26,275 INFO Sending request to https://cds.climate.copernicus.eu/api/v2/resources/reanalysis-era5-single-levels\n"
     ]
    },
    {
     "name": "stdout",
     "output_type": "stream",
     "text": [
      "file downloaded and saved as  cache/era5_single-levels_1989_months56789_precipitationlarge_scale_precipitationconvective_precipitation_60,50,10,130.nc\n"
     ]
    },
    {
     "name": "stderr",
     "output_type": "stream",
     "text": [
      "2020-10-29 20:21:26,412 INFO Request is queued\n",
      "2020-10-29 20:21:27,451 INFO Request is running\n",
      "2020-10-29 20:33:46,974 INFO Request is completed\n",
      "2020-10-29 20:33:46,976 INFO Downloading http://136.156.132.201/cache-compute-0004/cache/data8/adaptor.mars.internal-1603999286.4911022-22641-25-c6a60ca8-1239-4748-a8e6-f90754b551d9.nc to cache/era5_single-levels_1990_months56789_precipitationlarge_scale_precipitationconvective_precipitation_60,50,10,130.nc (1.3G)\n",
      "2020-10-29 20:36:20,417 INFO Download rate 8.8M/s   \n",
      "2020-10-29 20:36:20,709 INFO Welcome to the CDS\n",
      "2020-10-29 20:36:20,711 INFO Sending request to https://cds.climate.copernicus.eu/api/v2/resources/reanalysis-era5-single-levels\n"
     ]
    },
    {
     "name": "stdout",
     "output_type": "stream",
     "text": [
      "file downloaded and saved as  cache/era5_single-levels_1990_months56789_precipitationlarge_scale_precipitationconvective_precipitation_60,50,10,130.nc\n"
     ]
    },
    {
     "name": "stderr",
     "output_type": "stream",
     "text": [
      "2020-10-29 20:36:20,783 INFO Request is queued\n",
      "2020-10-29 20:36:21,823 INFO Request is running\n",
      "2020-10-29 20:48:41,380 INFO Request is completed\n",
      "2020-10-29 20:48:41,382 INFO Downloading http://136.156.132.105/cache-compute-0000/cache/data4/adaptor.mars.internal-1604000180.8863401-28618-31-835d11ef-1023-4fbc-957c-5ff31798d354.nc to cache/era5_single-levels_1991_months56789_precipitationlarge_scale_precipitationconvective_precipitation_60,50,10,130.nc (1.3G)\n",
      "2020-10-29 20:51:05,725 INFO Download rate 9.4M/s   \n",
      "2020-10-29 20:51:06,018 INFO Welcome to the CDS\n",
      "2020-10-29 20:51:06,020 INFO Sending request to https://cds.climate.copernicus.eu/api/v2/resources/reanalysis-era5-single-levels\n"
     ]
    },
    {
     "name": "stdout",
     "output_type": "stream",
     "text": [
      "file downloaded and saved as  cache/era5_single-levels_1991_months56789_precipitationlarge_scale_precipitationconvective_precipitation_60,50,10,130.nc\n"
     ]
    },
    {
     "name": "stderr",
     "output_type": "stream",
     "text": [
      "2020-10-29 20:51:06,104 INFO Request is queued\n",
      "2020-10-29 20:51:07,143 INFO Request is running\n",
      "2020-10-29 21:03:27,693 INFO Request is completed\n",
      "2020-10-29 21:03:27,695 INFO Downloading http://136.156.133.36/cache-compute-0010/cache/data0/adaptor.mars.internal-1604001066.2767367-6615-15-8c72556b-af8d-4568-8040-391e3d1001fa.nc to cache/era5_single-levels_1992_months56789_precipitationlarge_scale_precipitationconvective_precipitation_60,50,10,130.nc (1.3G)\n",
      "2020-10-29 21:05:54,960 INFO Download rate 9.2M/s   \n",
      "2020-10-29 21:05:55,258 INFO Welcome to the CDS\n",
      "2020-10-29 21:05:55,259 INFO Sending request to https://cds.climate.copernicus.eu/api/v2/resources/reanalysis-era5-single-levels\n",
      "2020-10-29 21:05:55,313 INFO Request is queued\n"
     ]
    },
    {
     "name": "stdout",
     "output_type": "stream",
     "text": [
      "file downloaded and saved as  cache/era5_single-levels_1992_months56789_precipitationlarge_scale_precipitationconvective_precipitation_60,50,10,130.nc\n"
     ]
    },
    {
     "name": "stderr",
     "output_type": "stream",
     "text": [
      "2020-10-29 21:05:56,351 INFO Request is running\n",
      "2020-10-29 21:18:16,646 INFO Request is completed\n",
      "2020-10-29 21:18:16,648 INFO Downloading http://136.156.133.41/cache-compute-0013/cache/data9/adaptor.mars.internal-1604001955.4384968-29321-3-5411d074-f7c5-43c8-9315-c4383cfa3de1.nc to cache/era5_single-levels_1993_months56789_precipitationlarge_scale_precipitationconvective_precipitation_60,50,10,130.nc (1.3G)\n",
      "2020-10-29 21:20:31,131 INFO Download rate 10.1M/s  \n",
      "2020-10-29 21:20:31,454 INFO Welcome to the CDS\n",
      "2020-10-29 21:20:31,456 INFO Sending request to https://cds.climate.copernicus.eu/api/v2/resources/reanalysis-era5-single-levels\n"
     ]
    },
    {
     "name": "stdout",
     "output_type": "stream",
     "text": [
      "file downloaded and saved as  cache/era5_single-levels_1993_months56789_precipitationlarge_scale_precipitationconvective_precipitation_60,50,10,130.nc\n"
     ]
    },
    {
     "name": "stderr",
     "output_type": "stream",
     "text": [
      "2020-10-29 21:20:31,573 INFO Request is queued\n",
      "2020-10-29 21:20:32,611 INFO Request is running\n",
      "2020-10-29 21:32:50,577 INFO Request is completed\n",
      "2020-10-29 21:32:50,578 INFO Downloading http://136.156.132.105/cache-compute-0000/cache/data9/adaptor.mars.internal-1604002831.6771398-20034-3-8ac21621-5170-43a1-b5f4-e717eb0b8ac7.nc to cache/era5_single-levels_1994_months56789_precipitationlarge_scale_precipitationconvective_precipitation_60,50,10,130.nc (1.3G)\n",
      "2020-10-29 21:35:20,953 INFO Download rate 9M/s     \n",
      "2020-10-29 21:35:21,267 INFO Welcome to the CDS\n",
      "2020-10-29 21:35:21,269 INFO Sending request to https://cds.climate.copernicus.eu/api/v2/resources/reanalysis-era5-single-levels\n"
     ]
    },
    {
     "name": "stdout",
     "output_type": "stream",
     "text": [
      "file downloaded and saved as  cache/era5_single-levels_1994_months56789_precipitationlarge_scale_precipitationconvective_precipitation_60,50,10,130.nc\n"
     ]
    },
    {
     "name": "stderr",
     "output_type": "stream",
     "text": [
      "2020-10-29 21:35:21,364 INFO Request is queued\n",
      "2020-10-29 21:35:22,403 INFO Request is running\n",
      "2020-10-29 21:47:40,378 INFO Request is completed\n",
      "2020-10-29 21:47:40,380 INFO Downloading http://136.156.132.235/cache-compute-0006/cache/data3/adaptor.mars.internal-1604003721.4546876-27151-3-dbc25e7f-dd75-4534-ba53-a293383e4a18.nc to cache/era5_single-levels_1995_months56789_precipitationlarge_scale_precipitationconvective_precipitation_60,50,10,130.nc (1.3G)\n",
      "2020-10-29 21:53:35,138 INFO Download rate 3.8M/s   \n",
      "2020-10-29 21:53:35,398 INFO Welcome to the CDS\n",
      "2020-10-29 21:53:35,399 INFO Sending request to https://cds.climate.copernicus.eu/api/v2/resources/reanalysis-era5-single-levels\n"
     ]
    },
    {
     "name": "stdout",
     "output_type": "stream",
     "text": [
      "file downloaded and saved as  cache/era5_single-levels_1995_months56789_precipitationlarge_scale_precipitationconvective_precipitation_60,50,10,130.nc\n"
     ]
    },
    {
     "name": "stderr",
     "output_type": "stream",
     "text": [
      "2020-10-29 21:53:35,570 INFO Request is queued\n",
      "2020-10-29 21:53:36,605 INFO Request is running\n"
     ]
    },
    {
     "ename": "KeyboardInterrupt",
     "evalue": "",
     "output_type": "error",
     "traceback": [
      "\u001b[0;31m---------------------------------------------------------------------------\u001b[0m",
      "\u001b[0;31mKeyboardInterrupt\u001b[0m                         Traceback (most recent call last)",
      "\u001b[0;32m<ipython-input-106-83f6b492a907>\u001b[0m in \u001b[0;36m<module>\u001b[0;34m\u001b[0m\n\u001b[1;32m      1\u001b[0m \u001b[0mera5_pressure\u001b[0m \u001b[0;34m=\u001b[0m \u001b[0mcreampy\u001b[0m\u001b[0;34m.\u001b[0m\u001b[0mdataproducts\u001b[0m\u001b[0;34m.\u001b[0m\u001b[0mERA5\u001b[0m\u001b[0;34m(\u001b[0m\u001b[0;34m'single-levels'\u001b[0m\u001b[0;34m,\u001b[0m \u001b[0mvariables\u001b[0m\u001b[0;34m,\u001b[0m \u001b[0;34m'hourly'\u001b[0m\u001b[0;34m,\u001b[0m \u001b[0mdomain\u001b[0m \u001b[0;34m=\u001b[0m \u001b[0;34m[\u001b[0m\u001b[0;34m'60'\u001b[0m\u001b[0;34m,\u001b[0m \u001b[0;34m'50'\u001b[0m\u001b[0;34m,\u001b[0m \u001b[0;34m'10'\u001b[0m\u001b[0;34m,\u001b[0m\u001b[0;34m'130'\u001b[0m\u001b[0;34m]\u001b[0m\u001b[0;34m)\u001b[0m\u001b[0;34m\u001b[0m\u001b[0;34m\u001b[0m\u001b[0m\n\u001b[1;32m      2\u001b[0m \u001b[0;31m#era5_pressure.get_data_per_year(np.arange(1979,2020).astype(str),  months = ['5', '6', '7','8', '9'], pressure_levels ='all')\u001b[0m\u001b[0;34m\u001b[0m\u001b[0;34m\u001b[0m\u001b[0;34m\u001b[0m\u001b[0m\n\u001b[0;32m----> 3\u001b[0;31m \u001b[0mera5_pressure\u001b[0m\u001b[0;34m.\u001b[0m\u001b[0mget_data_per_year\u001b[0m\u001b[0;34m(\u001b[0m\u001b[0mnp\u001b[0m\u001b[0;34m.\u001b[0m\u001b[0marange\u001b[0m\u001b[0;34m(\u001b[0m\u001b[0;36m1979\u001b[0m\u001b[0;34m,\u001b[0m\u001b[0;36m2020\u001b[0m\u001b[0;34m)\u001b[0m\u001b[0;34m.\u001b[0m\u001b[0mastype\u001b[0m\u001b[0;34m(\u001b[0m\u001b[0mstr\u001b[0m\u001b[0;34m)\u001b[0m\u001b[0;34m,\u001b[0m  \u001b[0mmonths\u001b[0m \u001b[0;34m=\u001b[0m \u001b[0;34m[\u001b[0m\u001b[0;34m'5'\u001b[0m\u001b[0;34m,\u001b[0m \u001b[0;34m'6'\u001b[0m\u001b[0;34m,\u001b[0m \u001b[0;34m'7'\u001b[0m\u001b[0;34m,\u001b[0m \u001b[0;34m'8'\u001b[0m\u001b[0;34m,\u001b[0m \u001b[0;34m'9'\u001b[0m\u001b[0;34m]\u001b[0m\u001b[0;34m)\u001b[0m\u001b[0;34m\u001b[0m\u001b[0;34m\u001b[0m\u001b[0m\n\u001b[0m",
      "\u001b[0;32m/media/juli/Data/projects/moisture_transport/moisture_transport/creampy/dataproducts.py\u001b[0m in \u001b[0;36mget_data_per_year\u001b[0;34m(self, years, months, days, hours, pressure_levels)\u001b[0m\n\u001b[1;32m    125\u001b[0m                         \u001b[0;34m\"day\"\u001b[0m\u001b[0;34m:\u001b[0m           \u001b[0mdays\u001b[0m\u001b[0;34m,\u001b[0m\u001b[0;34m\u001b[0m\u001b[0;34m\u001b[0m\u001b[0m\n\u001b[1;32m    126\u001b[0m                         \u001b[0;34m\"time\"\u001b[0m\u001b[0;34m:\u001b[0m          \u001b[0mhours\u001b[0m\u001b[0;34m\u001b[0m\u001b[0;34m\u001b[0m\u001b[0m\n\u001b[0;32m--> 127\u001b[0;31m                     }, filepath)\n\u001b[0m\u001b[1;32m    128\u001b[0m \u001b[0;34m\u001b[0m\u001b[0m\n\u001b[1;32m    129\u001b[0m                     \u001b[0mprint\u001b[0m\u001b[0;34m(\u001b[0m\u001b[0;34m'file downloaded and saved as '\u001b[0m\u001b[0;34m,\u001b[0m \u001b[0mfilepath\u001b[0m\u001b[0;34m)\u001b[0m\u001b[0;34m\u001b[0m\u001b[0;34m\u001b[0m\u001b[0m\n",
      "\u001b[0;32m~/anaconda3/lib/python3.6/site-packages/cdsapi/api.py\u001b[0m in \u001b[0;36mretrieve\u001b[0;34m(self, name, request, target)\u001b[0m\n\u001b[1;32m    308\u001b[0m \u001b[0;34m\u001b[0m\u001b[0m\n\u001b[1;32m    309\u001b[0m     \u001b[0;32mdef\u001b[0m \u001b[0mretrieve\u001b[0m\u001b[0;34m(\u001b[0m\u001b[0mself\u001b[0m\u001b[0;34m,\u001b[0m \u001b[0mname\u001b[0m\u001b[0;34m,\u001b[0m \u001b[0mrequest\u001b[0m\u001b[0;34m,\u001b[0m \u001b[0mtarget\u001b[0m\u001b[0;34m=\u001b[0m\u001b[0;32mNone\u001b[0m\u001b[0;34m)\u001b[0m\u001b[0;34m:\u001b[0m\u001b[0;34m\u001b[0m\u001b[0;34m\u001b[0m\u001b[0m\n\u001b[0;32m--> 310\u001b[0;31m         \u001b[0mresult\u001b[0m \u001b[0;34m=\u001b[0m \u001b[0mself\u001b[0m\u001b[0;34m.\u001b[0m\u001b[0m_api\u001b[0m\u001b[0;34m(\u001b[0m\u001b[0;34m'%s/resources/%s'\u001b[0m \u001b[0;34m%\u001b[0m \u001b[0;34m(\u001b[0m\u001b[0mself\u001b[0m\u001b[0;34m.\u001b[0m\u001b[0murl\u001b[0m\u001b[0;34m,\u001b[0m \u001b[0mname\u001b[0m\u001b[0;34m)\u001b[0m\u001b[0;34m,\u001b[0m \u001b[0mrequest\u001b[0m\u001b[0;34m,\u001b[0m \u001b[0;34m'POST'\u001b[0m\u001b[0;34m)\u001b[0m\u001b[0;34m\u001b[0m\u001b[0;34m\u001b[0m\u001b[0m\n\u001b[0m\u001b[1;32m    311\u001b[0m         \u001b[0;32mif\u001b[0m \u001b[0mtarget\u001b[0m \u001b[0;32mis\u001b[0m \u001b[0;32mnot\u001b[0m \u001b[0;32mNone\u001b[0m\u001b[0;34m:\u001b[0m\u001b[0;34m\u001b[0m\u001b[0;34m\u001b[0m\u001b[0m\n\u001b[1;32m    312\u001b[0m             \u001b[0mresult\u001b[0m\u001b[0;34m.\u001b[0m\u001b[0mdownload\u001b[0m\u001b[0;34m(\u001b[0m\u001b[0mtarget\u001b[0m\u001b[0;34m)\u001b[0m\u001b[0;34m\u001b[0m\u001b[0;34m\u001b[0m\u001b[0m\n",
      "\u001b[0;32m~/anaconda3/lib/python3.6/site-packages/cdsapi/api.py\u001b[0m in \u001b[0;36m_api\u001b[0;34m(self, url, request, method)\u001b[0m\n\u001b[1;32m    420\u001b[0m \u001b[0;34m\u001b[0m\u001b[0m\n\u001b[1;32m    421\u001b[0m                 \u001b[0mself\u001b[0m\u001b[0;34m.\u001b[0m\u001b[0mdebug\u001b[0m\u001b[0;34m(\u001b[0m\u001b[0;34m\"Request ID is %s, sleep %s\"\u001b[0m\u001b[0;34m,\u001b[0m \u001b[0mrid\u001b[0m\u001b[0;34m,\u001b[0m \u001b[0msleep\u001b[0m\u001b[0;34m)\u001b[0m\u001b[0;34m\u001b[0m\u001b[0;34m\u001b[0m\u001b[0m\n\u001b[0;32m--> 422\u001b[0;31m                 \u001b[0mtime\u001b[0m\u001b[0;34m.\u001b[0m\u001b[0msleep\u001b[0m\u001b[0;34m(\u001b[0m\u001b[0msleep\u001b[0m\u001b[0;34m)\u001b[0m\u001b[0;34m\u001b[0m\u001b[0;34m\u001b[0m\u001b[0m\n\u001b[0m\u001b[1;32m    423\u001b[0m                 \u001b[0msleep\u001b[0m \u001b[0;34m*=\u001b[0m \u001b[0;36m1.5\u001b[0m\u001b[0;34m\u001b[0m\u001b[0;34m\u001b[0m\u001b[0m\n\u001b[1;32m    424\u001b[0m                 \u001b[0;32mif\u001b[0m \u001b[0msleep\u001b[0m \u001b[0;34m>\u001b[0m \u001b[0mself\u001b[0m\u001b[0;34m.\u001b[0m\u001b[0msleep_max\u001b[0m\u001b[0;34m:\u001b[0m\u001b[0;34m\u001b[0m\u001b[0;34m\u001b[0m\u001b[0m\n",
      "\u001b[0;31mKeyboardInterrupt\u001b[0m: "
     ]
    }
   ],
   "source": [
    "era5_pressure = creampy.dataproducts.ERA5('single-levels', variables, 'hourly', domain = ['60', '50', '10','130'])\n",
    "#era5_pressure.get_data_per_year(np.arange(1979,2020).astype(str),  months = ['5', '6', '7','8', '9'], pressure_levels ='all')\n",
    "era5_pressure.get_data_per_year(np.arange(1979,2020).astype(str),  months = ['5', '6', '7', '8', '9'])"
   ]
  },
  {
   "cell_type": "markdown",
   "metadata": {},
   "source": [
    "## Download ERA5 data for 2D precip\n",
    "\n"
   ]
  },
  {
   "cell_type": "code",
   "execution_count": 15,
   "metadata": {},
   "outputs": [],
   "source": [
    "# ERA5 pressure levels, variables q u v p, monthly resolution, domain \n",
    "variables = ['convective_precipitation', 'large_scale_precipitation', 'total_precipitation']\n",
    "variables = ['vertically_integrated_moisture_divergence']\n",
    "era5_single= creampy.dataproducts.ERA5('single-levels', variables, 'monthly', domain = ['60', '50', '10','130'] )"
   ]
  },
  {
   "cell_type": "code",
   "execution_count": 16,
   "metadata": {},
   "outputs": [
    {
     "name": "stderr",
     "output_type": "stream",
     "text": [
      "2020-09-16 16:35:25,551 INFO Welcome to the CDS\n",
      "2020-09-16 16:35:25,552 INFO Sending request to https://cds.climate.copernicus.eu/api/v2/resources/reanalysis-era5-single-levels-monthly-means\n",
      "2020-09-16 16:35:26,363 INFO Request is queued\n",
      "2020-09-16 16:35:28,946 INFO Request is running\n",
      "2020-09-16 16:35:47,374 INFO Request is failed\n",
      "2020-09-16 16:35:47,375 ERROR Message: no data is available within your requested subset\n",
      "2020-09-16 16:35:47,376 ERROR Reason:  Request returned no data\n",
      "2020-09-16 16:35:47,376 ERROR   Traceback (most recent call last):\n",
      "2020-09-16 16:35:47,376 ERROR     File \"/opt/cdstoolbox/cdscompute/cdscompute/cdshandlers/services/handler.py\", line 49, in handle_request\n",
      "2020-09-16 16:35:47,377 ERROR       result = cached(context.method, proc, context, context.args, context.kwargs)\n",
      "2020-09-16 16:35:47,377 ERROR     File \"/opt/cdstoolbox/cdscompute/cdscompute/caching.py\", line 108, in cached\n",
      "2020-09-16 16:35:47,378 ERROR       result = proc(context, *context.args, **context.kwargs)\n",
      "2020-09-16 16:35:47,379 ERROR     File \"/opt/cdstoolbox/cdscompute/cdscompute/services.py\", line 118, in __call__\n",
      "2020-09-16 16:35:47,379 ERROR       return p(*args, **kwargs)\n",
      "2020-09-16 16:35:47,379 ERROR     File \"/opt/cdstoolbox/cdscompute/cdscompute/services.py\", line 59, in __call__\n",
      "2020-09-16 16:35:47,380 ERROR       return self.proc(context, *args, **kwargs)\n",
      "2020-09-16 16:35:47,380 ERROR     File \"/home/cds/cdsservices/services/mars.py\", line 347, in internal\n",
      "2020-09-16 16:35:47,380 ERROR       return mars(context, request, **kwargs)\n",
      "2020-09-16 16:35:47,380 ERROR     File \"/home/cds/cdsservices/services/mars.py\", line 48, in mars\n",
      "2020-09-16 16:35:47,381 ERROR       execute_mars(context, requests)\n",
      "2020-09-16 16:35:47,381 ERROR     File \"/home/cds/cdsservices/services/mars.py\", line 196, in execute_mars\n",
      "2020-09-16 16:35:47,381 ERROR       raise NoDataException(\"Request returned no data\", '')\n",
      "2020-09-16 16:35:47,381 ERROR   cdsinf.exceptions.NoDataException: Request returned no data\n"
     ]
    },
    {
     "ename": "Exception",
     "evalue": "no data is available within your requested subset. Request returned no data.",
     "output_type": "error",
     "traceback": [
      "\u001b[0;31m---------------------------------------------------------------------------\u001b[0m",
      "\u001b[0;31mException\u001b[0m                                 Traceback (most recent call last)",
      "\u001b[0;32m<ipython-input-16-6057ccc2053e>\u001b[0m in \u001b[0;36m<module>\u001b[0;34m\u001b[0m\n\u001b[1;32m      1\u001b[0m \u001b[0;31m# download data\u001b[0m\u001b[0;34m\u001b[0m\u001b[0;34m\u001b[0m\u001b[0;34m\u001b[0m\u001b[0m\n\u001b[0;32m----> 2\u001b[0;31m \u001b[0mera5_single\u001b[0m\u001b[0;34m.\u001b[0m\u001b[0mget_data_per_year\u001b[0m\u001b[0;34m(\u001b[0m\u001b[0myears\u001b[0m \u001b[0;34m=\u001b[0m \u001b[0mlist\u001b[0m\u001b[0;34m(\u001b[0m\u001b[0mnp\u001b[0m\u001b[0;34m.\u001b[0m\u001b[0marange\u001b[0m\u001b[0;34m(\u001b[0m\u001b[0;36m1979\u001b[0m\u001b[0;34m,\u001b[0m\u001b[0;36m2020\u001b[0m\u001b[0;34m)\u001b[0m\u001b[0;34m.\u001b[0m\u001b[0mastype\u001b[0m\u001b[0;34m(\u001b[0m\u001b[0mstr\u001b[0m\u001b[0;34m)\u001b[0m\u001b[0;34m)\u001b[0m\u001b[0;34m,\u001b[0m \u001b[0mmonths\u001b[0m \u001b[0;34m=\u001b[0m \u001b[0mlist\u001b[0m\u001b[0;34m(\u001b[0m\u001b[0mnp\u001b[0m\u001b[0;34m.\u001b[0m\u001b[0marange\u001b[0m\u001b[0;34m(\u001b[0m\u001b[0;36m5\u001b[0m\u001b[0;34m,\u001b[0m\u001b[0;36m10\u001b[0m\u001b[0;34m)\u001b[0m\u001b[0;34m.\u001b[0m\u001b[0mastype\u001b[0m\u001b[0;34m(\u001b[0m\u001b[0mstr\u001b[0m\u001b[0;34m)\u001b[0m\u001b[0;34m)\u001b[0m\u001b[0;34m)\u001b[0m\u001b[0;34m\u001b[0m\u001b[0;34m\u001b[0m\u001b[0m\n\u001b[0m",
      "\u001b[0;32m/media/juli/Data/projects/moisture_transport/moisture_transport/creampy/dataproducts.py\u001b[0m in \u001b[0;36mget_data_per_year\u001b[0;34m(self, years, months, days, hours, pressure_levels)\u001b[0m\n\u001b[1;32m    125\u001b[0m                         \u001b[0;34m\"day\"\u001b[0m\u001b[0;34m:\u001b[0m           \u001b[0mdays\u001b[0m\u001b[0;34m,\u001b[0m\u001b[0;34m\u001b[0m\u001b[0;34m\u001b[0m\u001b[0m\n\u001b[1;32m    126\u001b[0m                         \u001b[0;34m\"time\"\u001b[0m\u001b[0;34m:\u001b[0m          \u001b[0mhours\u001b[0m\u001b[0;34m\u001b[0m\u001b[0;34m\u001b[0m\u001b[0m\n\u001b[0;32m--> 127\u001b[0;31m                     }, filepath)\n\u001b[0m\u001b[1;32m    128\u001b[0m \u001b[0;34m\u001b[0m\u001b[0m\n\u001b[1;32m    129\u001b[0m                     \u001b[0mprint\u001b[0m\u001b[0;34m(\u001b[0m\u001b[0;34m'file downloaded and saved as '\u001b[0m\u001b[0;34m,\u001b[0m \u001b[0mfilepath\u001b[0m\u001b[0;34m)\u001b[0m\u001b[0;34m\u001b[0m\u001b[0;34m\u001b[0m\u001b[0m\n",
      "\u001b[0;32m~/anaconda3/lib/python3.6/site-packages/cdsapi/api.py\u001b[0m in \u001b[0;36mretrieve\u001b[0;34m(self, name, request, target)\u001b[0m\n\u001b[1;32m    308\u001b[0m \u001b[0;34m\u001b[0m\u001b[0m\n\u001b[1;32m    309\u001b[0m     \u001b[0;32mdef\u001b[0m \u001b[0mretrieve\u001b[0m\u001b[0;34m(\u001b[0m\u001b[0mself\u001b[0m\u001b[0;34m,\u001b[0m \u001b[0mname\u001b[0m\u001b[0;34m,\u001b[0m \u001b[0mrequest\u001b[0m\u001b[0;34m,\u001b[0m \u001b[0mtarget\u001b[0m\u001b[0;34m=\u001b[0m\u001b[0;32mNone\u001b[0m\u001b[0;34m)\u001b[0m\u001b[0;34m:\u001b[0m\u001b[0;34m\u001b[0m\u001b[0;34m\u001b[0m\u001b[0m\n\u001b[0;32m--> 310\u001b[0;31m         \u001b[0mresult\u001b[0m \u001b[0;34m=\u001b[0m \u001b[0mself\u001b[0m\u001b[0;34m.\u001b[0m\u001b[0m_api\u001b[0m\u001b[0;34m(\u001b[0m\u001b[0;34m'%s/resources/%s'\u001b[0m \u001b[0;34m%\u001b[0m \u001b[0;34m(\u001b[0m\u001b[0mself\u001b[0m\u001b[0;34m.\u001b[0m\u001b[0murl\u001b[0m\u001b[0;34m,\u001b[0m \u001b[0mname\u001b[0m\u001b[0;34m)\u001b[0m\u001b[0;34m,\u001b[0m \u001b[0mrequest\u001b[0m\u001b[0;34m,\u001b[0m \u001b[0;34m'POST'\u001b[0m\u001b[0;34m)\u001b[0m\u001b[0;34m\u001b[0m\u001b[0;34m\u001b[0m\u001b[0m\n\u001b[0m\u001b[1;32m    311\u001b[0m         \u001b[0;32mif\u001b[0m \u001b[0mtarget\u001b[0m \u001b[0;32mis\u001b[0m \u001b[0;32mnot\u001b[0m \u001b[0;32mNone\u001b[0m\u001b[0;34m:\u001b[0m\u001b[0;34m\u001b[0m\u001b[0;34m\u001b[0m\u001b[0m\n\u001b[1;32m    312\u001b[0m             \u001b[0mresult\u001b[0m\u001b[0;34m.\u001b[0m\u001b[0mdownload\u001b[0m\u001b[0;34m(\u001b[0m\u001b[0mtarget\u001b[0m\u001b[0;34m)\u001b[0m\u001b[0;34m\u001b[0m\u001b[0;34m\u001b[0m\u001b[0m\n",
      "\u001b[0;32m~/anaconda3/lib/python3.6/site-packages/cdsapi/api.py\u001b[0m in \u001b[0;36m_api\u001b[0;34m(self, url, request, method)\u001b[0m\n\u001b[1;32m    442\u001b[0m                         \u001b[0;32mbreak\u001b[0m\u001b[0;34m\u001b[0m\u001b[0;34m\u001b[0m\u001b[0m\n\u001b[1;32m    443\u001b[0m                     \u001b[0mself\u001b[0m\u001b[0;34m.\u001b[0m\u001b[0merror\u001b[0m\u001b[0;34m(\u001b[0m\u001b[0;34m\"  %s\"\u001b[0m\u001b[0;34m,\u001b[0m \u001b[0mn\u001b[0m\u001b[0;34m)\u001b[0m\u001b[0;34m\u001b[0m\u001b[0;34m\u001b[0m\u001b[0m\n\u001b[0;32m--> 444\u001b[0;31m                 \u001b[0;32mraise\u001b[0m \u001b[0mException\u001b[0m\u001b[0;34m(\u001b[0m\u001b[0;34m\"%s. %s.\"\u001b[0m \u001b[0;34m%\u001b[0m \u001b[0;34m(\u001b[0m\u001b[0mreply\u001b[0m\u001b[0;34m[\u001b[0m\u001b[0;34m'error'\u001b[0m\u001b[0;34m]\u001b[0m\u001b[0;34m.\u001b[0m\u001b[0mget\u001b[0m\u001b[0;34m(\u001b[0m\u001b[0;34m'message'\u001b[0m\u001b[0;34m)\u001b[0m\u001b[0;34m,\u001b[0m \u001b[0mreply\u001b[0m\u001b[0;34m[\u001b[0m\u001b[0;34m'error'\u001b[0m\u001b[0;34m]\u001b[0m\u001b[0;34m.\u001b[0m\u001b[0mget\u001b[0m\u001b[0;34m(\u001b[0m\u001b[0;34m'reason'\u001b[0m\u001b[0;34m)\u001b[0m\u001b[0;34m)\u001b[0m\u001b[0;34m)\u001b[0m\u001b[0;34m\u001b[0m\u001b[0;34m\u001b[0m\u001b[0m\n\u001b[0m\u001b[1;32m    445\u001b[0m \u001b[0;34m\u001b[0m\u001b[0m\n\u001b[1;32m    446\u001b[0m             \u001b[0;32mraise\u001b[0m \u001b[0mException\u001b[0m\u001b[0;34m(\u001b[0m\u001b[0;34m'Unknown API state [%s]'\u001b[0m \u001b[0;34m%\u001b[0m \u001b[0;34m(\u001b[0m\u001b[0mreply\u001b[0m\u001b[0;34m[\u001b[0m\u001b[0;34m'state'\u001b[0m\u001b[0;34m]\u001b[0m\u001b[0;34m,\u001b[0m\u001b[0;34m)\u001b[0m\u001b[0;34m)\u001b[0m\u001b[0;34m\u001b[0m\u001b[0;34m\u001b[0m\u001b[0m\n",
      "\u001b[0;31mException\u001b[0m: no data is available within your requested subset. Request returned no data."
     ]
    }
   ],
   "source": [
    "# download data \n",
    "era5_single.get_data_per_year(years = list(np.arange(1979,2020).astype(str)), months = list(np.arange(5,10).astype(str)))"
   ]
  },
  {
   "cell_type": "markdown",
   "metadata": {},
   "source": [
    "## Hourly ERA5 precip data for wavelet spectrum analysis "
   ]
  },
  {
   "cell_type": "code",
   "execution_count": null,
   "metadata": {},
   "outputs": [
    {
     "name": "stderr",
     "output_type": "stream",
     "text": [
      "2020-08-27 12:45:32,830 INFO Welcome to the CDS\n",
      "2020-08-27 12:45:32,830 INFO Sending request to https://cds.climate.copernicus.eu/api/v2/resources/reanalysis-era5-single-levels\n"
     ]
    },
    {
     "name": "stdout",
     "output_type": "stream",
     "text": [
      "omittted download for  era5_single-levels_1982_months56789_convective_precipitationlarge_scale_precipitationtotal_precipitationevaporation_60,50,10,130.nc\n"
     ]
    },
    {
     "name": "stderr",
     "output_type": "stream",
     "text": [
      "2020-08-27 12:45:32,985 INFO Request is completed\n",
      "2020-08-27 12:45:32,985 INFO Downloading http://136.156.133.37/cache-compute-0011/cache/data0/adaptor.mars.internal-1598523527.6131334-13236-5-df077f2a-727c-45c0-bda7-61915060dd85.nc to cache/era5_single-levels_1983_months56789_convective_precipitationlarge_scale_precipitationtotal_precipitationevaporation_60,50,10,130.nc (1.8G)\n",
      "2020-08-27 12:49:05,777 INFO Download rate 8.5M/s   \n",
      "2020-08-27 12:49:06,119 INFO Welcome to the CDS\n",
      "2020-08-27 12:49:06,119 INFO Sending request to https://cds.climate.copernicus.eu/api/v2/resources/reanalysis-era5-single-levels\n"
     ]
    },
    {
     "name": "stdout",
     "output_type": "stream",
     "text": [
      "file downloaded and saved as  cache/era5_single-levels_1983_months56789_convective_precipitationlarge_scale_precipitationtotal_precipitationevaporation_60,50,10,130.nc\n"
     ]
    },
    {
     "name": "stderr",
     "output_type": "stream",
     "text": [
      "2020-08-27 12:49:06,605 INFO Request is queued\n",
      "2020-08-27 12:49:07,638 INFO Request is running\n",
      "2020-08-27 13:15:26,808 INFO Request is completed\n",
      "2020-08-27 13:15:26,809 INFO Downloading http://136.156.132.105/cache-compute-0000/cache/data0/adaptor.mars.internal-1598525346.7679303-27924-39-50b2fff2-ee1b-40ff-b688-ffb205580915.nc to cache/era5_single-levels_1984_months56789_convective_precipitationlarge_scale_precipitationtotal_precipitationevaporation_60,50,10,130.nc (1.8G)\n",
      "2020-08-27 13:18:48,679 INFO Download rate 9M/s     \n",
      "2020-08-27 13:18:49,453 INFO Welcome to the CDS\n",
      "2020-08-27 13:18:49,453 INFO Sending request to https://cds.climate.copernicus.eu/api/v2/resources/reanalysis-era5-single-levels\n"
     ]
    },
    {
     "name": "stdout",
     "output_type": "stream",
     "text": [
      "file downloaded and saved as  cache/era5_single-levels_1984_months56789_convective_precipitationlarge_scale_precipitationtotal_precipitationevaporation_60,50,10,130.nc\n"
     ]
    },
    {
     "name": "stderr",
     "output_type": "stream",
     "text": [
      "2020-08-27 13:18:51,120 INFO Request is queued\n",
      "2020-08-27 13:18:53,688 INFO Request is running\n",
      "2020-08-27 13:43:11,156 INFO Request is completed\n",
      "2020-08-27 13:43:11,157 INFO Downloading http://136.156.133.42/cache-compute-0014/cache/data7/adaptor.mars.internal-1598527132.788269-23651-19-ef198261-438c-49c6-a86d-9aa038cfb28a.nc to cache/era5_single-levels_1985_months56789_convective_precipitationlarge_scale_precipitationtotal_precipitationevaporation_60,50,10,130.nc (1.8G)\n",
      "2020-08-27 13:46:29,939 INFO Download rate 9.1M/s   \n",
      "2020-08-27 13:46:30,369 INFO Welcome to the CDS\n",
      "2020-08-27 13:46:30,369 INFO Sending request to https://cds.climate.copernicus.eu/api/v2/resources/reanalysis-era5-single-levels\n"
     ]
    },
    {
     "name": "stdout",
     "output_type": "stream",
     "text": [
      "file downloaded and saved as  cache/era5_single-levels_1985_months56789_convective_precipitationlarge_scale_precipitationtotal_precipitationevaporation_60,50,10,130.nc\n"
     ]
    },
    {
     "name": "stderr",
     "output_type": "stream",
     "text": [
      "2020-08-27 13:46:30,620 INFO Request is queued\n",
      "2020-08-27 13:46:31,654 INFO Request is running\n",
      "2020-08-27 14:12:50,652 INFO Request is completed\n",
      "2020-08-27 14:12:50,652 INFO Downloading http://136.156.133.41/cache-compute-0013/cache/data5/adaptor.mars.internal-1598528791.1314566-24312-21-c03e91f6-391e-4ac0-8ecd-d7b4ffe62a08.nc to cache/era5_single-levels_1986_months56789_convective_precipitationlarge_scale_precipitationtotal_precipitationevaporation_60,50,10,130.nc (1.8G)\n",
      "2020-08-27 14:16:19,991 INFO Download rate 8.6M/s   \n",
      "2020-08-27 14:16:20,811 INFO Welcome to the CDS\n",
      "2020-08-27 14:16:20,812 INFO Sending request to https://cds.climate.copernicus.eu/api/v2/resources/reanalysis-era5-single-levels\n"
     ]
    },
    {
     "name": "stdout",
     "output_type": "stream",
     "text": [
      "file downloaded and saved as  cache/era5_single-levels_1986_months56789_convective_precipitationlarge_scale_precipitationtotal_precipitationevaporation_60,50,10,130.nc\n"
     ]
    },
    {
     "name": "stderr",
     "output_type": "stream",
     "text": [
      "2020-08-27 14:16:25,218 INFO Request is queued\n",
      "2020-08-27 14:16:26,251 INFO Request is running\n",
      "2020-08-27 14:40:45,286 INFO Request is completed\n",
      "2020-08-27 14:40:45,287 INFO Downloading http://136.156.133.46/cache-compute-0015/cache/data6/adaptor.mars.internal-1598530586.1858952-4724-7-3ab266c2-3f03-428a-9906-ed11fba2f5c0.nc to cache/era5_single-levels_1987_months56789_convective_precipitationlarge_scale_precipitationtotal_precipitationevaporation_60,50,10,130.nc (1.8G)\n",
      "2020-08-27 14:44:55,564 INFO Download rate 7.2M/s   \n",
      "2020-08-27 14:44:56,382 INFO Welcome to the CDS\n",
      "2020-08-27 14:44:56,383 INFO Sending request to https://cds.climate.copernicus.eu/api/v2/resources/reanalysis-era5-single-levels\n"
     ]
    },
    {
     "name": "stdout",
     "output_type": "stream",
     "text": [
      "file downloaded and saved as  cache/era5_single-levels_1987_months56789_convective_precipitationlarge_scale_precipitationtotal_precipitationevaporation_60,50,10,130.nc\n"
     ]
    },
    {
     "name": "stderr",
     "output_type": "stream",
     "text": [
      "2020-08-27 14:44:56,501 INFO Request is queued\n",
      "2020-08-27 14:44:57,535 INFO Request is running\n",
      "2020-08-27 15:09:16,477 INFO Request is completed\n",
      "2020-08-27 15:09:16,478 INFO Downloading http://136.156.132.236/cache-compute-0007/cache/data9/adaptor.mars.internal-1598532296.7733698-20004-1-8c5a101e-2142-41a2-bf7f-4cfd327dcbef.nc to cache/era5_single-levels_1988_months56789_convective_precipitationlarge_scale_precipitationtotal_precipitationevaporation_60,50,10,130.nc (1.8G)\n",
      "2020-08-27 15:13:18,161 INFO Download rate 7.5M/s   \n",
      "2020-08-27 15:13:19,130 INFO Welcome to the CDS\n",
      "2020-08-27 15:13:19,131 INFO Sending request to https://cds.climate.copernicus.eu/api/v2/resources/reanalysis-era5-single-levels\n"
     ]
    },
    {
     "name": "stdout",
     "output_type": "stream",
     "text": [
      "file downloaded and saved as  cache/era5_single-levels_1988_months56789_convective_precipitationlarge_scale_precipitationtotal_precipitationevaporation_60,50,10,130.nc\n"
     ]
    },
    {
     "name": "stderr",
     "output_type": "stream",
     "text": [
      "2020-08-27 15:13:20,744 INFO Request is queued\n",
      "2020-08-27 15:13:23,313 INFO Request is running\n",
      "2020-08-27 15:35:40,665 INFO Request is completed\n",
      "2020-08-27 15:35:40,665 INFO Downloading http://136.156.133.25/cache-compute-0008/cache/data4/adaptor.mars.internal-1598534002.8744597-29096-3-d4e5f276-7268-4b31-a4c0-f68e896acd4f.nc to cache/era5_single-levels_1989_months56789_convective_precipitationlarge_scale_precipitationtotal_precipitationevaporation_60,50,10,130.nc (1.8G)\n",
      " 68%|██████▊   | 1.20G/1.77G [02:39<18:12, 551kB/s] "
     ]
    }
   ],
   "source": [
    "# ERA5 pressure levels, variables q u v p, monthly resolution, domain \n",
    "variables = ['convective_precipitation', 'large_scale_precipitation', 'total_precipitation', 'evaporation']\n",
    "era5_single= creampy.dataproducts.ERA5('single-levels', variables, 'hourly', domain = ['60', '50', '10','130'] )\n",
    "\n",
    "# download data \n",
    "era5_single.get_data_per_year(years = list(np.arange(1982,2020).astype(str)), months = list(np.arange(5,10).astype(str)))"
   ]
  },
  {
   "cell_type": "markdown",
   "metadata": {},
   "source": [
    "## Hourly data for eddy calculation "
   ]
  }
 ],
 "metadata": {
  "kernelspec": {
   "display_name": "Python 3",
   "language": "python",
   "name": "python3"
  },
  "language_info": {
   "codemirror_mode": {
    "name": "ipython",
    "version": 3
   },
   "file_extension": ".py",
   "mimetype": "text/x-python",
   "name": "python",
   "nbconvert_exporter": "python",
   "pygments_lexer": "ipython3",
   "version": "3.6.7"
  }
 },
 "nbformat": 4,
 "nbformat_minor": 2
}
