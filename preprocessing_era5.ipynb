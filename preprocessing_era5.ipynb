{
 "cells": [
  {
   "cell_type": "markdown",
   "metadata": {},
   "source": [
    "## Download ERA5 summer mean variables at pressure levels\n"
   ]
  },
  {
   "cell_type": "code",
   "execution_count": 1,
   "metadata": {},
   "outputs": [],
   "source": [
    "import creampy\n",
    "from creampy.dataproducts import Pressure, Surface \n",
    "import xarray as xr\n",
    "import numpy as np"
   ]
  },
  {
   "cell_type": "code",
   "execution_count": 11,
   "metadata": {},
   "outputs": [],
   "source": [
    "# ERA5 pressure levels, variables q u v p, monthly resolution, domain \n",
    "variables =  ['geopotential', 'specific_humidity', 'u_component_of_wind',\n",
    "            'v_component_of_wind', 'vertical_velocity']\n",
    "\n",
    "era5_pressure = creampy.dataproducts.ERA5('pressure-levels', variables, 'monthly', domain = ['60', '50', '10','130'] )"
   ]
  },
  {
   "cell_type": "code",
   "execution_count": 12,
   "metadata": {},
   "outputs": [
    {
     "name": "stderr",
     "output_type": "stream",
     "text": [
      "2020-08-19 12:13:37,328 INFO Welcome to the CDS\n",
      "2020-08-19 12:13:37,329 INFO Sending request to https://cds.climate.copernicus.eu/api/v2/resources/reanalysis-era5-pressure-levels-monthly-means\n",
      "2020-08-19 12:13:38,504 INFO Request is queued\n",
      "2020-08-19 12:13:51,871 INFO Request is running\n",
      "2020-08-19 12:14:53,752 INFO Request is completed\n",
      "2020-08-19 12:14:53,753 INFO Downloading http://136.156.133.41/cache-compute-0013/cache/data1/adaptor.mars.internal-1597832027.4953382-29564-14-2d62c97c-e34d-459c-8470-0c05fa9d8d7a.nc to cache/era5_pressure-levels-monthly-means_1979_months56789_geopotentialspecific_humidityu_component_of_windv_component_of_windvertical_velocity_60,50,10,130.nc (113.8M)\n",
      "2020-08-19 12:15:04,458 INFO Download rate 10.6M/s \n",
      "2020-08-19 12:15:05,149 INFO Welcome to the CDS\n",
      "2020-08-19 12:15:05,150 INFO Sending request to https://cds.climate.copernicus.eu/api/v2/resources/reanalysis-era5-pressure-levels-monthly-means\n"
     ]
    },
    {
     "name": "stdout",
     "output_type": "stream",
     "text": [
      "file downloaded and saved as  cache/era5_pressure-levels-monthly-means_1979_months56789_geopotentialspecific_humidityu_component_of_windv_component_of_windvertical_velocity_60,50,10,130.nc\n"
     ]
    },
    {
     "name": "stderr",
     "output_type": "stream",
     "text": [
      "2020-08-19 12:15:05,720 INFO Request is queued\n",
      "2020-08-19 12:15:10,574 INFO Request is running\n",
      "2020-08-19 12:16:20,976 INFO Request is completed\n",
      "2020-08-19 12:16:20,977 INFO Downloading http://136.156.133.41/cache-compute-0013/cache/data5/adaptor.mars.internal-1597832109.7925305-31074-5-7f701d7f-bea7-4b95-8cdb-b4a14f9d42c0.nc to cache/era5_pressure-levels-monthly-means_1980_months56789_geopotentialspecific_humidityu_component_of_windv_component_of_windvertical_velocity_60,50,10,130.nc (113.8M)\n",
      "2020-08-19 12:16:33,293 INFO Download rate 9.2M/s  \n",
      "2020-08-19 12:16:33,976 INFO Welcome to the CDS\n",
      "2020-08-19 12:16:33,976 INFO Sending request to https://cds.climate.copernicus.eu/api/v2/resources/reanalysis-era5-pressure-levels-monthly-means\n"
     ]
    },
    {
     "name": "stdout",
     "output_type": "stream",
     "text": [
      "file downloaded and saved as  cache/era5_pressure-levels-monthly-means_1980_months56789_geopotentialspecific_humidityu_component_of_windv_component_of_windvertical_velocity_60,50,10,130.nc\n"
     ]
    },
    {
     "name": "stderr",
     "output_type": "stream",
     "text": [
      "2020-08-19 12:16:34,064 INFO Request is queued\n",
      "2020-08-19 12:16:38,919 INFO Request is running\n",
      "2020-08-19 12:17:49,288 INFO Request is completed\n",
      "2020-08-19 12:17:49,289 INFO Downloading http://136.156.132.153/cache-compute-0002/cache/data1/adaptor.mars.internal-1597832197.549974-12644-3-b3b44ab0-3004-4273-8f6f-f4379edab31b.nc to cache/era5_pressure-levels-monthly-means_1981_months56789_geopotentialspecific_humidityu_component_of_windv_component_of_windvertical_velocity_60,50,10,130.nc (113.8M)\n",
      "2020-08-19 12:18:01,375 INFO Download rate 9.4M/s  \n",
      "2020-08-19 12:18:01,740 INFO Welcome to the CDS\n",
      "2020-08-19 12:18:01,741 INFO Sending request to https://cds.climate.copernicus.eu/api/v2/resources/reanalysis-era5-pressure-levels-monthly-means\n"
     ]
    },
    {
     "name": "stdout",
     "output_type": "stream",
     "text": [
      "file downloaded and saved as  cache/era5_pressure-levels-monthly-means_1981_months56789_geopotentialspecific_humidityu_component_of_windv_component_of_windvertical_velocity_60,50,10,130.nc\n"
     ]
    },
    {
     "name": "stderr",
     "output_type": "stream",
     "text": [
      "2020-08-19 12:18:02,014 INFO Request is queued\n",
      "2020-08-19 12:18:15,369 INFO Request is running\n",
      "2020-08-19 12:19:17,257 INFO Request is completed\n",
      "2020-08-19 12:19:17,258 INFO Downloading http://136.156.133.36/cache-compute-0010/cache/data2/adaptor.mars.internal-1597832290.3872378-5803-13-35565611-87a2-4155-b037-79dd76519b72.nc to cache/era5_pressure-levels-monthly-means_1982_months56789_geopotentialspecific_humidityu_component_of_windv_component_of_windvertical_velocity_60,50,10,130.nc (113.8M)\n",
      "2020-08-19 12:19:28,812 INFO Download rate 9.9M/s  \n",
      "2020-08-19 12:19:29,412 INFO Welcome to the CDS\n",
      "2020-08-19 12:19:29,412 INFO Sending request to https://cds.climate.copernicus.eu/api/v2/resources/reanalysis-era5-pressure-levels-monthly-means\n"
     ]
    },
    {
     "name": "stdout",
     "output_type": "stream",
     "text": [
      "file downloaded and saved as  cache/era5_pressure-levels-monthly-means_1982_months56789_geopotentialspecific_humidityu_component_of_windv_component_of_windvertical_velocity_60,50,10,130.nc\n"
     ]
    },
    {
     "name": "stderr",
     "output_type": "stream",
     "text": [
      "2020-08-19 12:19:29,732 INFO Request is queued\n",
      "2020-08-19 12:19:34,585 INFO Request is running\n",
      "2020-08-19 12:20:44,981 INFO Request is completed\n",
      "2020-08-19 12:20:44,981 INFO Downloading http://136.156.133.25/cache-compute-0008/cache/data2/adaptor.mars.internal-1597832374.0578356-3160-22-15177d35-f283-4b75-8fa9-ed01f17e862f.nc to cache/era5_pressure-levels-monthly-means_1983_months56789_geopotentialspecific_humidityu_component_of_windv_component_of_windvertical_velocity_60,50,10,130.nc (113.8M)\n",
      "2020-08-19 12:20:55,710 INFO Download rate 10.6M/s \n",
      "2020-08-19 12:20:56,069 INFO Welcome to the CDS\n",
      "2020-08-19 12:20:56,070 INFO Sending request to https://cds.climate.copernicus.eu/api/v2/resources/reanalysis-era5-pressure-levels-monthly-means\n"
     ]
    },
    {
     "name": "stdout",
     "output_type": "stream",
     "text": [
      "file downloaded and saved as  cache/era5_pressure-levels-monthly-means_1983_months56789_geopotentialspecific_humidityu_component_of_windv_component_of_windvertical_velocity_60,50,10,130.nc\n"
     ]
    },
    {
     "name": "stderr",
     "output_type": "stream",
     "text": [
      "2020-08-19 12:20:56,200 INFO Request is queued\n",
      "2020-08-19 12:21:01,052 INFO Request is running\n",
      "2020-08-19 12:22:11,438 INFO Request is completed\n",
      "2020-08-19 12:22:11,439 INFO Downloading http://136.156.133.39/cache-compute-0012/cache/data5/adaptor.mars.internal-1597832461.087321-15422-25-e383c5ea-3052-4192-a048-a3b262363882.nc to cache/era5_pressure-levels-monthly-means_1984_months56789_geopotentialspecific_humidityu_component_of_windv_component_of_windvertical_velocity_60,50,10,130.nc (113.8M)\n",
      "2020-08-19 12:22:22,388 INFO Download rate 10.4M/s \n",
      "2020-08-19 12:22:23,149 INFO Welcome to the CDS\n",
      "2020-08-19 12:22:23,150 INFO Sending request to https://cds.climate.copernicus.eu/api/v2/resources/reanalysis-era5-pressure-levels-monthly-means\n"
     ]
    },
    {
     "name": "stdout",
     "output_type": "stream",
     "text": [
      "file downloaded and saved as  cache/era5_pressure-levels-monthly-means_1984_months56789_geopotentialspecific_humidityu_component_of_windv_component_of_windvertical_velocity_60,50,10,130.nc\n"
     ]
    },
    {
     "name": "stderr",
     "output_type": "stream",
     "text": [
      "2020-08-19 12:22:23,300 INFO Request is queued\n",
      "2020-08-19 12:22:28,153 INFO Request is running\n",
      "2020-08-19 12:23:38,540 INFO Request is completed\n",
      "2020-08-19 12:23:38,541 INFO Downloading http://136.156.132.235/cache-compute-0006/cache/data1/adaptor.mars.internal-1597832547.3851633-9572-30-960b10f4-a814-462f-aa0c-4fbaaa88a71b.nc to cache/era5_pressure-levels-monthly-means_1985_months56789_geopotentialspecific_humidityu_component_of_windv_component_of_windvertical_velocity_60,50,10,130.nc (113.8M)\n",
      "2020-08-19 12:23:52,510 INFO Download rate 8.1M/s  \n",
      "2020-08-19 12:23:53,160 INFO Welcome to the CDS\n",
      "2020-08-19 12:23:53,160 INFO Sending request to https://cds.climate.copernicus.eu/api/v2/resources/reanalysis-era5-pressure-levels-monthly-means\n"
     ]
    },
    {
     "name": "stdout",
     "output_type": "stream",
     "text": [
      "file downloaded and saved as  cache/era5_pressure-levels-monthly-means_1985_months56789_geopotentialspecific_humidityu_component_of_windv_component_of_windvertical_velocity_60,50,10,130.nc\n"
     ]
    },
    {
     "name": "stderr",
     "output_type": "stream",
     "text": [
      "2020-08-19 12:23:53,566 INFO Request is queued\n",
      "2020-08-19 12:24:43,129 INFO Request is running\n",
      "2020-08-19 12:25:47,314 INFO Request is completed\n",
      "2020-08-19 12:25:47,315 INFO Downloading http://136.156.133.46/cache-compute-0015/cache/data1/adaptor.mars.internal-1597832673.5915875-8687-19-a7e4b720-b281-4bc1-8993-1ee94a3caed2.nc to cache/era5_pressure-levels-monthly-means_1986_months56789_geopotentialspecific_humidityu_component_of_windv_component_of_windvertical_velocity_60,50,10,130.nc (113.8M)\n",
      "2020-08-19 12:26:01,346 INFO Download rate 8.1M/s  \n",
      "2020-08-19 12:26:03,927 INFO Welcome to the CDS\n",
      "2020-08-19 12:26:03,928 INFO Sending request to https://cds.climate.copernicus.eu/api/v2/resources/reanalysis-era5-pressure-levels-monthly-means\n"
     ]
    },
    {
     "name": "stdout",
     "output_type": "stream",
     "text": [
      "file downloaded and saved as  cache/era5_pressure-levels-monthly-means_1986_months56789_geopotentialspecific_humidityu_component_of_windv_component_of_windvertical_velocity_60,50,10,130.nc\n"
     ]
    },
    {
     "name": "stderr",
     "output_type": "stream",
     "text": [
      "2020-08-19 12:26:04,571 INFO Request is queued\n",
      "2020-08-19 12:26:05,605 INFO Request is running\n",
      "2020-08-19 12:27:19,821 INFO Request is completed\n",
      "2020-08-19 12:27:19,822 INFO Downloading http://136.156.132.235/cache-compute-0006/cache/data4/adaptor.mars.internal-1597832764.951746-5082-26-edf65219-37be-46d7-8a2c-fa5cd937b7b6.nc to cache/era5_pressure-levels-monthly-means_1987_months56789_geopotentialspecific_humidityu_component_of_windv_component_of_windvertical_velocity_60,50,10,130.nc (113.8M)\n",
      "2020-08-19 12:27:33,090 INFO Download rate 8.6M/s  \n",
      "2020-08-19 12:27:34,618 INFO Welcome to the CDS\n",
      "2020-08-19 12:27:34,618 INFO Sending request to https://cds.climate.copernicus.eu/api/v2/resources/reanalysis-era5-pressure-levels-monthly-means\n"
     ]
    },
    {
     "name": "stdout",
     "output_type": "stream",
     "text": [
      "file downloaded and saved as  cache/era5_pressure-levels-monthly-means_1987_months56789_geopotentialspecific_humidityu_component_of_windv_component_of_windvertical_velocity_60,50,10,130.nc\n"
     ]
    },
    {
     "name": "stderr",
     "output_type": "stream",
     "text": [
      "2020-08-19 12:27:34,961 INFO Request is queued\n",
      "2020-08-19 12:27:37,533 INFO Request is running\n",
      "2020-08-19 12:28:50,226 INFO Request is completed\n",
      "2020-08-19 12:28:50,227 INFO Downloading http://136.156.132.198/cache-compute-0003/cache/data8/adaptor.mars.internal-1597832856.5391588-29248-4-f30d8102-a684-4f9e-9319-b6b4c3467c02.nc to cache/era5_pressure-levels-monthly-means_1988_months56789_geopotentialspecific_humidityu_component_of_windv_component_of_windvertical_velocity_60,50,10,130.nc (113.8M)\n",
      "2020-08-19 12:29:01,196 INFO Download rate 10.4M/s \n",
      "2020-08-19 12:29:02,355 INFO Welcome to the CDS\n",
      "2020-08-19 12:29:02,355 INFO Sending request to https://cds.climate.copernicus.eu/api/v2/resources/reanalysis-era5-pressure-levels-monthly-means\n"
     ]
    },
    {
     "name": "stdout",
     "output_type": "stream",
     "text": [
      "file downloaded and saved as  cache/era5_pressure-levels-monthly-means_1988_months56789_geopotentialspecific_humidityu_component_of_windv_component_of_windvertical_velocity_60,50,10,130.nc\n"
     ]
    },
    {
     "name": "stderr",
     "output_type": "stream",
     "text": [
      "2020-08-19 12:29:03,620 INFO Request is queued\n",
      "2020-08-19 12:29:24,619 INFO Request is running\n",
      "2020-08-19 12:30:57,366 INFO Request is completed\n",
      "2020-08-19 12:30:57,367 INFO Downloading http://136.156.133.36/cache-compute-0010/cache/data0/adaptor.mars.internal-1597832962.7093978-5070-29-5e7f50be-777f-4c3e-83d7-27a163e76bcd.nc to cache/era5_pressure-levels-monthly-means_1989_months56789_geopotentialspecific_humidityu_component_of_windv_component_of_windvertical_velocity_60,50,10,130.nc (113.8M)\n",
      "2020-08-19 12:31:10,269 INFO Download rate 8.8M/s  \n",
      "2020-08-19 12:31:11,319 INFO Welcome to the CDS\n",
      "2020-08-19 12:31:11,319 INFO Sending request to https://cds.climate.copernicus.eu/api/v2/resources/reanalysis-era5-pressure-levels-monthly-means\n"
     ]
    },
    {
     "name": "stdout",
     "output_type": "stream",
     "text": [
      "file downloaded and saved as  cache/era5_pressure-levels-monthly-means_1989_months56789_geopotentialspecific_humidityu_component_of_windv_component_of_windvertical_velocity_60,50,10,130.nc\n"
     ]
    },
    {
     "name": "stderr",
     "output_type": "stream",
     "text": [
      "2020-08-19 12:31:13,637 INFO Request is queued\n",
      "2020-08-19 12:31:16,206 INFO Request is running\n",
      "2020-08-19 12:32:28,902 INFO Request is completed\n",
      "2020-08-19 12:32:28,902 INFO Downloading http://136.156.132.235/cache-compute-0006/cache/data5/adaptor.mars.internal-1597833075.716325-16389-6-53e6fd5a-00da-4f86-931e-de6980dddb87.nc to cache/era5_pressure-levels-monthly-means_1990_months56789_geopotentialspecific_humidityu_component_of_windv_component_of_windvertical_velocity_60,50,10,130.nc (113.8M)\n",
      "2020-08-19 12:32:42,726 INFO Download rate 8.2M/s  \n",
      "2020-08-19 12:32:43,013 INFO Welcome to the CDS\n",
      "2020-08-19 12:32:43,014 INFO Sending request to https://cds.climate.copernicus.eu/api/v2/resources/reanalysis-era5-pressure-levels-monthly-means\n"
     ]
    },
    {
     "name": "stdout",
     "output_type": "stream",
     "text": [
      "file downloaded and saved as  cache/era5_pressure-levels-monthly-means_1990_months56789_geopotentialspecific_humidityu_component_of_windv_component_of_windvertical_velocity_60,50,10,130.nc\n"
     ]
    },
    {
     "name": "stderr",
     "output_type": "stream",
     "text": [
      "2020-08-19 12:32:43,101 INFO Request is queued\n",
      "2020-08-19 12:32:44,136 INFO Request is running\n",
      "2020-08-19 12:33:58,342 INFO Request is completed\n",
      "2020-08-19 12:33:58,343 INFO Downloading http://136.156.133.36/cache-compute-0010/cache/data8/adaptor.mars.internal-1597833163.441569-4939-29-8db9e577-1300-49ca-a609-b9ff06e996a4.nc to cache/era5_pressure-levels-monthly-means_1991_months56789_geopotentialspecific_humidityu_component_of_windv_component_of_windvertical_velocity_60,50,10,130.nc (113.8M)\n",
      "2020-08-19 12:34:10,578 INFO Download rate 9.3M/s  \n",
      "2020-08-19 12:34:12,069 INFO Welcome to the CDS\n",
      "2020-08-19 12:34:12,069 INFO Sending request to https://cds.climate.copernicus.eu/api/v2/resources/reanalysis-era5-pressure-levels-monthly-means\n"
     ]
    },
    {
     "name": "stdout",
     "output_type": "stream",
     "text": [
      "file downloaded and saved as  cache/era5_pressure-levels-monthly-means_1991_months56789_geopotentialspecific_humidityu_component_of_windv_component_of_windvertical_velocity_60,50,10,130.nc\n"
     ]
    },
    {
     "name": "stderr",
     "output_type": "stream",
     "text": [
      "2020-08-19 12:34:14,772 INFO Request is queued\n",
      "2020-08-19 12:34:17,342 INFO Request is running\n",
      "2020-08-19 12:35:30,033 INFO Request is completed\n",
      "2020-08-19 12:35:30,034 INFO Downloading http://136.156.132.210/cache-compute-0005/cache/data3/adaptor.mars.internal-1597833256.9072294-31079-22-11946762-b8e8-49c2-ac82-430ea70b1a10.nc to cache/era5_pressure-levels-monthly-means_1992_months56789_geopotentialspecific_humidityu_component_of_windv_component_of_windvertical_velocity_60,50,10,130.nc (113.8M)\n",
      "2020-08-19 12:35:40,774 INFO Download rate 10.6M/s \n",
      "2020-08-19 12:35:42,015 INFO Welcome to the CDS\n",
      "2020-08-19 12:35:42,016 INFO Sending request to https://cds.climate.copernicus.eu/api/v2/resources/reanalysis-era5-pressure-levels-monthly-means\n"
     ]
    },
    {
     "name": "stdout",
     "output_type": "stream",
     "text": [
      "file downloaded and saved as  cache/era5_pressure-levels-monthly-means_1992_months56789_geopotentialspecific_humidityu_component_of_windv_component_of_windvertical_velocity_60,50,10,130.nc\n"
     ]
    },
    {
     "name": "stderr",
     "output_type": "stream",
     "text": [
      "2020-08-19 12:35:42,154 INFO Request is queued\n",
      "2020-08-19 12:35:44,723 INFO Request is running\n",
      "2020-08-19 12:36:57,415 INFO Request is completed\n",
      "2020-08-19 12:36:57,416 INFO Downloading http://136.156.133.41/cache-compute-0013/cache/data7/adaptor.mars.internal-1597833344.13963-3728-18-a3acbcd4-9dc1-4c8a-8954-27bbe3b4806a.nc to cache/era5_pressure-levels-monthly-means_1993_months56789_geopotentialspecific_humidityu_component_of_windv_component_of_windvertical_velocity_60,50,10,130.nc (113.8M)\n",
      "2020-08-19 12:37:09,765 INFO Download rate 9.2M/s  \n",
      "2020-08-19 12:37:09,946 INFO Welcome to the CDS\n",
      "2020-08-19 12:37:09,946 INFO Sending request to https://cds.climate.copernicus.eu/api/v2/resources/reanalysis-era5-pressure-levels-monthly-means\n"
     ]
    },
    {
     "name": "stdout",
     "output_type": "stream",
     "text": [
      "file downloaded and saved as  cache/era5_pressure-levels-monthly-means_1993_months56789_geopotentialspecific_humidityu_component_of_windv_component_of_windvertical_velocity_60,50,10,130.nc\n"
     ]
    },
    {
     "name": "stderr",
     "output_type": "stream",
     "text": [
      "2020-08-19 12:37:10,270 INFO Request is queued\n",
      "2020-08-19 12:37:11,305 INFO Request is running\n",
      "2020-08-19 12:38:25,740 INFO Request is completed\n",
      "2020-08-19 12:38:25,741 INFO Downloading http://136.156.133.39/cache-compute-0012/cache/data1/adaptor.mars.internal-1597833430.4423313-5974-25-ca8511b1-4bea-4f10-8fe9-5dc9e0ef6d24.nc to cache/era5_pressure-levels-monthly-means_1994_months56789_geopotentialspecific_humidityu_component_of_windv_component_of_windvertical_velocity_60,50,10,130.nc (113.8M)\n",
      "2020-08-19 12:38:37,427 INFO Download rate 9.7M/s  \n",
      "2020-08-19 12:38:38,047 INFO Welcome to the CDS\n",
      "2020-08-19 12:38:38,047 INFO Sending request to https://cds.climate.copernicus.eu/api/v2/resources/reanalysis-era5-pressure-levels-monthly-means\n"
     ]
    },
    {
     "name": "stdout",
     "output_type": "stream",
     "text": [
      "file downloaded and saved as  cache/era5_pressure-levels-monthly-means_1994_months56789_geopotentialspecific_humidityu_component_of_windv_component_of_windvertical_velocity_60,50,10,130.nc\n"
     ]
    },
    {
     "name": "stderr",
     "output_type": "stream",
     "text": [
      "2020-08-19 12:38:39,009 INFO Request is queued\n",
      "2020-08-19 12:38:41,579 INFO Request is running\n",
      "2020-08-19 12:39:54,234 INFO Request is completed\n",
      "2020-08-19 12:39:54,235 INFO Downloading http://136.156.133.42/cache-compute-0014/cache/data7/adaptor.mars.internal-1597833521.1190667-17298-10-a754dc60-34ce-49c6-a34d-4d5e840a630e.nc to cache/era5_pressure-levels-monthly-means_1995_months56789_geopotentialspecific_humidityu_component_of_windv_component_of_windvertical_velocity_60,50,10,130.nc (113.8M)\n",
      "2020-08-19 12:40:06,044 INFO Download rate 9.6M/s  \n",
      "2020-08-19 12:40:06,887 INFO Welcome to the CDS\n",
      "2020-08-19 12:40:06,888 INFO Sending request to https://cds.climate.copernicus.eu/api/v2/resources/reanalysis-era5-pressure-levels-monthly-means\n"
     ]
    },
    {
     "name": "stdout",
     "output_type": "stream",
     "text": [
      "file downloaded and saved as  cache/era5_pressure-levels-monthly-means_1995_months56789_geopotentialspecific_humidityu_component_of_windv_component_of_windvertical_velocity_60,50,10,130.nc\n"
     ]
    },
    {
     "name": "stderr",
     "output_type": "stream",
     "text": [
      "2020-08-19 12:40:07,129 INFO Request is queued\n",
      "2020-08-19 12:40:11,982 INFO Request is running\n",
      "2020-08-19 12:41:22,365 INFO Request is completed\n",
      "2020-08-19 12:41:22,366 INFO Downloading http://136.156.133.36/cache-compute-0010/cache/data3/adaptor.mars.internal-1597833610.2328718-18807-14-92384371-e8a5-4d61-b22c-f1298de307f5.nc to cache/era5_pressure-levels-monthly-means_1996_months56789_geopotentialspecific_humidityu_component_of_windv_component_of_windvertical_velocity_60,50,10,130.nc (113.8M)\n",
      "2020-08-19 12:41:35,683 INFO Download rate 8.5M/s  \n",
      "2020-08-19 12:41:35,934 INFO Welcome to the CDS\n",
      "2020-08-19 12:41:35,935 INFO Sending request to https://cds.climate.copernicus.eu/api/v2/resources/reanalysis-era5-pressure-levels-monthly-means\n"
     ]
    },
    {
     "name": "stdout",
     "output_type": "stream",
     "text": [
      "file downloaded and saved as  cache/era5_pressure-levels-monthly-means_1996_months56789_geopotentialspecific_humidityu_component_of_windv_component_of_windvertical_velocity_60,50,10,130.nc\n"
     ]
    },
    {
     "name": "stderr",
     "output_type": "stream",
     "text": [
      "2020-08-19 12:41:36,206 INFO Request is queued\n",
      "2020-08-19 12:41:41,058 INFO Request is running\n",
      "2020-08-19 12:42:51,444 INFO Request is completed\n",
      "2020-08-19 12:42:51,444 INFO Downloading http://136.156.133.25/cache-compute-0008/cache/data7/adaptor.mars.internal-1597833700.8959558-15307-13-ba6ad025-1cc9-49d0-a2d4-87a15469b236.nc to cache/era5_pressure-levels-monthly-means_1997_months56789_geopotentialspecific_humidityu_component_of_windv_component_of_windvertical_velocity_60,50,10,130.nc (113.8M)\n",
      "2020-08-19 12:43:02,943 INFO Download rate 9.9M/s  \n",
      "2020-08-19 12:43:03,130 INFO Welcome to the CDS\n",
      "2020-08-19 12:43:03,131 INFO Sending request to https://cds.climate.copernicus.eu/api/v2/resources/reanalysis-era5-pressure-levels-monthly-means\n"
     ]
    },
    {
     "name": "stdout",
     "output_type": "stream",
     "text": [
      "file downloaded and saved as  cache/era5_pressure-levels-monthly-means_1997_months56789_geopotentialspecific_humidityu_component_of_windv_component_of_windvertical_velocity_60,50,10,130.nc\n"
     ]
    },
    {
     "name": "stderr",
     "output_type": "stream",
     "text": [
      "2020-08-19 12:43:03,381 INFO Request is queued\n",
      "2020-08-19 12:43:04,415 INFO Request is running\n",
      "2020-08-19 12:44:18,640 INFO Request is completed\n",
      "2020-08-19 12:44:18,640 INFO Downloading http://136.156.132.201/cache-compute-0004/cache/data1/adaptor.mars.internal-1597833784.2399075-16481-28-0d78e59a-43a7-4366-a7f6-e5f4adf4c688.nc to cache/era5_pressure-levels-monthly-means_1998_months56789_geopotentialspecific_humidityu_component_of_windv_component_of_windvertical_velocity_60,50,10,130.nc (113.8M)\n",
      "2020-08-19 12:44:30,336 INFO Download rate 9.7M/s  \n",
      "2020-08-19 12:44:30,984 INFO Welcome to the CDS\n",
      "2020-08-19 12:44:30,985 INFO Sending request to https://cds.climate.copernicus.eu/api/v2/resources/reanalysis-era5-pressure-levels-monthly-means\n"
     ]
    },
    {
     "name": "stdout",
     "output_type": "stream",
     "text": [
      "file downloaded and saved as  cache/era5_pressure-levels-monthly-means_1998_months56789_geopotentialspecific_humidityu_component_of_windv_component_of_windvertical_velocity_60,50,10,130.nc\n"
     ]
    },
    {
     "name": "stderr",
     "output_type": "stream",
     "text": [
      "2020-08-19 12:44:31,116 INFO Request is queued\n",
      "2020-08-19 12:44:39,392 INFO Request is running\n",
      "2020-08-19 12:45:46,597 INFO Request is completed\n",
      "2020-08-19 12:45:46,597 INFO Downloading http://136.156.132.105/cache-compute-0000/cache/data6/adaptor.mars.internal-1597833879.0340073-4412-29-2fa73c27-efed-4433-a258-950ab2b4cf00.nc to cache/era5_pressure-levels-monthly-means_1999_months56789_geopotentialspecific_humidityu_component_of_windv_component_of_windvertical_velocity_60,50,10,130.nc (113.8M)\n",
      "2020-08-19 12:45:59,230 INFO Download rate 9M/s    \n",
      "2020-08-19 12:45:59,811 INFO Welcome to the CDS\n",
      "2020-08-19 12:45:59,811 INFO Sending request to https://cds.climate.copernicus.eu/api/v2/resources/reanalysis-era5-pressure-levels-monthly-means\n"
     ]
    },
    {
     "name": "stdout",
     "output_type": "stream",
     "text": [
      "file downloaded and saved as  cache/era5_pressure-levels-monthly-means_1999_months56789_geopotentialspecific_humidityu_component_of_windv_component_of_windvertical_velocity_60,50,10,130.nc\n"
     ]
    },
    {
     "name": "stderr",
     "output_type": "stream",
     "text": [
      "2020-08-19 12:46:00,095 INFO Request is queued\n",
      "2020-08-19 12:46:01,130 INFO Request is running\n",
      "2020-08-19 12:47:15,549 INFO Request is completed\n",
      "2020-08-19 12:47:15,550 INFO Downloading http://136.156.133.32/cache-compute-0009/cache/data7/adaptor.mars.internal-1597833961.0599377-18449-22-8f1cc573-004c-47be-bb3a-2db111cfe6d5.nc to cache/era5_pressure-levels-monthly-means_2000_months56789_geopotentialspecific_humidityu_component_of_windv_component_of_windvertical_velocity_60,50,10,130.nc (113.8M)\n",
      "2020-08-19 12:47:26,381 INFO Download rate 10.5M/s \n",
      "2020-08-19 12:47:26,753 INFO Welcome to the CDS\n",
      "2020-08-19 12:47:26,754 INFO Sending request to https://cds.climate.copernicus.eu/api/v2/resources/reanalysis-era5-pressure-levels-monthly-means\n"
     ]
    },
    {
     "name": "stdout",
     "output_type": "stream",
     "text": [
      "file downloaded and saved as  cache/era5_pressure-levels-monthly-means_2000_months56789_geopotentialspecific_humidityu_component_of_windv_component_of_windvertical_velocity_60,50,10,130.nc\n"
     ]
    },
    {
     "name": "stderr",
     "output_type": "stream",
     "text": [
      "2020-08-19 12:47:26,953 INFO Request is queued\n",
      "2020-08-19 12:47:27,989 INFO Request is running\n",
      "2020-08-19 12:48:42,214 INFO Request is completed\n",
      "2020-08-19 12:48:42,215 INFO Downloading http://136.156.132.235/cache-compute-0006/cache/data6/adaptor.mars.internal-1597834047.914407-10600-30-a5d7af28-c1eb-4432-9947-882813e4cf0f.nc to cache/era5_pressure-levels-monthly-means_2001_months56789_geopotentialspecific_humidityu_component_of_windv_component_of_windvertical_velocity_60,50,10,130.nc (113.8M)\n",
      "2020-08-19 12:48:54,784 INFO Download rate 9.1M/s  \n",
      "2020-08-19 12:48:55,063 INFO Welcome to the CDS\n",
      "2020-08-19 12:48:55,064 INFO Sending request to https://cds.climate.copernicus.eu/api/v2/resources/reanalysis-era5-pressure-levels-monthly-means\n"
     ]
    },
    {
     "name": "stdout",
     "output_type": "stream",
     "text": [
      "file downloaded and saved as  cache/era5_pressure-levels-monthly-means_2001_months56789_geopotentialspecific_humidityu_component_of_windv_component_of_windvertical_velocity_60,50,10,130.nc\n"
     ]
    },
    {
     "name": "stderr",
     "output_type": "stream",
     "text": [
      "2020-08-19 12:48:56,704 INFO Request is queued\n",
      "2020-08-19 12:49:04,971 INFO Request is running\n",
      "2020-08-19 12:50:11,944 INFO Request is completed\n",
      "2020-08-19 12:50:11,944 INFO Downloading http://136.156.132.198/cache-compute-0003/cache/data1/adaptor.mars.internal-1597834142.6681304-7015-12-468f2c48-6e13-4467-8d45-83d355f762c4.nc to cache/era5_pressure-levels-monthly-means_2002_months56789_geopotentialspecific_humidityu_component_of_windv_component_of_windvertical_velocity_60,50,10,130.nc (113.8M)\n",
      "2020-08-19 12:50:25,009 INFO Download rate 8.7M/s  \n",
      "2020-08-19 12:50:25,501 INFO Welcome to the CDS\n",
      "2020-08-19 12:50:25,502 INFO Sending request to https://cds.climate.copernicus.eu/api/v2/resources/reanalysis-era5-pressure-levels-monthly-means\n"
     ]
    },
    {
     "name": "stdout",
     "output_type": "stream",
     "text": [
      "file downloaded and saved as  cache/era5_pressure-levels-monthly-means_2002_months56789_geopotentialspecific_humidityu_component_of_windv_component_of_windvertical_velocity_60,50,10,130.nc\n"
     ]
    },
    {
     "name": "stderr",
     "output_type": "stream",
     "text": [
      "2020-08-19 12:50:26,157 INFO Request is queued\n",
      "2020-08-19 12:50:28,724 INFO Request is running\n",
      "2020-08-19 12:51:41,411 INFO Request is completed\n",
      "2020-08-19 12:51:41,412 INFO Downloading http://136.156.133.41/cache-compute-0013/cache/data2/adaptor.mars.internal-1597834227.5582716-3670-23-c16498d2-70ba-4449-b6c3-dfb2abfbf2bf.nc to cache/era5_pressure-levels-monthly-means_2003_months56789_geopotentialspecific_humidityu_component_of_windv_component_of_windvertical_velocity_60,50,10,130.nc (113.8M)\n",
      "2020-08-19 12:51:56,510 INFO Download rate 7.5M/s  \n",
      "2020-08-19 12:51:56,848 INFO Welcome to the CDS\n",
      "2020-08-19 12:51:56,849 INFO Sending request to https://cds.climate.copernicus.eu/api/v2/resources/reanalysis-era5-pressure-levels-monthly-means\n"
     ]
    },
    {
     "name": "stdout",
     "output_type": "stream",
     "text": [
      "file downloaded and saved as  cache/era5_pressure-levels-monthly-means_2003_months56789_geopotentialspecific_humidityu_component_of_windv_component_of_windvertical_velocity_60,50,10,130.nc\n"
     ]
    },
    {
     "name": "stderr",
     "output_type": "stream",
     "text": [
      "2020-08-19 12:51:57,075 INFO Request is queued\n",
      "2020-08-19 12:51:59,644 INFO Request is running\n",
      "2020-08-19 12:53:12,311 INFO Request is completed\n",
      "2020-08-19 12:53:12,312 INFO Downloading http://136.156.132.110/cache-compute-0001/cache/data0/adaptor.mars.internal-1597834318.3477323-18646-22-51500ddb-9d74-4a13-bbee-dce3445108b9.nc to cache/era5_pressure-levels-monthly-means_2004_months56789_geopotentialspecific_humidityu_component_of_windv_component_of_windvertical_velocity_60,50,10,130.nc (113.8M)\n",
      "2020-08-19 12:53:24,126 INFO Download rate 9.6M/s  \n",
      "2020-08-19 12:53:24,369 INFO Welcome to the CDS\n",
      "2020-08-19 12:53:24,369 INFO Sending request to https://cds.climate.copernicus.eu/api/v2/resources/reanalysis-era5-pressure-levels-monthly-means\n"
     ]
    },
    {
     "name": "stdout",
     "output_type": "stream",
     "text": [
      "file downloaded and saved as  cache/era5_pressure-levels-monthly-means_2004_months56789_geopotentialspecific_humidityu_component_of_windv_component_of_windvertical_velocity_60,50,10,130.nc\n"
     ]
    },
    {
     "name": "stderr",
     "output_type": "stream",
     "text": [
      "2020-08-19 12:53:24,749 INFO Request is queued\n",
      "2020-08-19 12:53:27,320 INFO Request is running\n",
      "2020-08-19 12:54:39,993 INFO Request is completed\n",
      "2020-08-19 12:54:39,993 INFO Downloading http://136.156.132.110/cache-compute-0001/cache/data0/adaptor.mars.internal-1597834406.1595569-19987-24-600104cb-1e9c-4747-8007-4977f3b330e3.nc to cache/era5_pressure-levels-monthly-means_2005_months56789_geopotentialspecific_humidityu_component_of_windv_component_of_windvertical_velocity_60,50,10,130.nc (113.8M)\n",
      "2020-08-19 12:54:51,451 INFO Download rate 9.9M/s  \n",
      "2020-08-19 12:54:52,101 INFO Welcome to the CDS\n",
      "2020-08-19 12:54:52,102 INFO Sending request to https://cds.climate.copernicus.eu/api/v2/resources/reanalysis-era5-pressure-levels-monthly-means\n"
     ]
    },
    {
     "name": "stdout",
     "output_type": "stream",
     "text": [
      "file downloaded and saved as  cache/era5_pressure-levels-monthly-means_2005_months56789_geopotentialspecific_humidityu_component_of_windv_component_of_windvertical_velocity_60,50,10,130.nc\n"
     ]
    },
    {
     "name": "stderr",
     "output_type": "stream",
     "text": [
      "2020-08-19 12:54:52,273 INFO Request is queued\n",
      "2020-08-19 12:54:54,933 INFO Request is running\n",
      "2020-08-19 12:56:07,632 INFO Request is completed\n",
      "2020-08-19 12:56:07,633 INFO Downloading http://136.156.132.235/cache-compute-0006/cache/data3/adaptor.mars.internal-1597834493.80923-30133-4-b414f6cd-fb84-4c55-9869-b510abb91bdd.nc to cache/era5_pressure-levels-monthly-means_2006_months56789_geopotentialspecific_humidityu_component_of_windv_component_of_windvertical_velocity_60,50,10,130.nc (113.8M)\n",
      "2020-08-19 12:56:19,133 INFO Download rate 9.9M/s  \n",
      "2020-08-19 12:56:19,439 INFO Welcome to the CDS\n",
      "2020-08-19 12:56:19,440 INFO Sending request to https://cds.climate.copernicus.eu/api/v2/resources/reanalysis-era5-pressure-levels-monthly-means\n"
     ]
    },
    {
     "name": "stdout",
     "output_type": "stream",
     "text": [
      "file downloaded and saved as  cache/era5_pressure-levels-monthly-means_2006_months56789_geopotentialspecific_humidityu_component_of_windv_component_of_windvertical_velocity_60,50,10,130.nc\n"
     ]
    },
    {
     "name": "stderr",
     "output_type": "stream",
     "text": [
      "2020-08-19 12:56:19,533 INFO Request is queued\n",
      "2020-08-19 12:56:24,387 INFO Request is running\n",
      "2020-08-19 12:57:34,796 INFO Request is completed\n",
      "2020-08-19 12:57:34,797 INFO Downloading http://136.156.132.235/cache-compute-0006/cache/data3/adaptor.mars.internal-1597834582.5502985-26989-16-04e35e8c-4ff5-45dc-b39e-6da56fcf1a6c.nc to cache/era5_pressure-levels-monthly-means_2007_months56789_geopotentialspecific_humidityu_component_of_windv_component_of_windvertical_velocity_60,50,10,130.nc (113.8M)\n",
      "2020-08-19 12:57:46,271 INFO Download rate 9.9M/s  \n"
     ]
    },
    {
     "name": "stdout",
     "output_type": "stream",
     "text": [
      "file downloaded and saved as  cache/era5_pressure-levels-monthly-means_2007_months56789_geopotentialspecific_humidityu_component_of_windv_component_of_windvertical_velocity_60,50,10,130.nc\n"
     ]
    },
    {
     "name": "stderr",
     "output_type": "stream",
     "text": [
      "2020-08-19 12:57:47,321 INFO Welcome to the CDS\n",
      "2020-08-19 12:57:47,321 INFO Sending request to https://cds.climate.copernicus.eu/api/v2/resources/reanalysis-era5-pressure-levels-monthly-means\n",
      "2020-08-19 12:57:47,789 INFO Request is queued\n",
      "2020-08-19 12:58:08,789 INFO Request is running\n",
      "2020-08-19 12:59:03,051 INFO Request is completed\n",
      "2020-08-19 12:59:03,052 INFO Downloading http://136.156.132.201/cache-compute-0004/cache/data9/adaptor.mars.internal-1597834683.3297563-1229-9-bbe5fbb1-e0b8-4774-b1b5-0269050d5280.nc to cache/era5_pressure-levels-monthly-means_2008_months56789_geopotentialspecific_humidityu_component_of_windv_component_of_windvertical_velocity_60,50,10,130.nc (113.8M)\n",
      "2020-08-19 12:59:15,256 INFO Download rate 9.3M/s  \n",
      "2020-08-19 12:59:15,573 INFO Welcome to the CDS\n",
      "2020-08-19 12:59:15,574 INFO Sending request to https://cds.climate.copernicus.eu/api/v2/resources/reanalysis-era5-pressure-levels-monthly-means\n"
     ]
    },
    {
     "name": "stdout",
     "output_type": "stream",
     "text": [
      "file downloaded and saved as  cache/era5_pressure-levels-monthly-means_2008_months56789_geopotentialspecific_humidityu_component_of_windv_component_of_windvertical_velocity_60,50,10,130.nc\n"
     ]
    },
    {
     "name": "stderr",
     "output_type": "stream",
     "text": [
      "2020-08-19 12:59:16,154 INFO Request is queued\n",
      "2020-08-19 12:59:21,014 INFO Request is running\n",
      "2020-08-19 13:00:31,401 INFO Request is completed\n",
      "2020-08-19 13:00:31,402 INFO Downloading http://136.156.133.46/cache-compute-0015/cache/data4/adaptor.mars.internal-1597834759.3543327-30557-17-958699de-27e8-4353-8b52-e8cddbc8ba64.nc to cache/era5_pressure-levels-monthly-means_2009_months56789_geopotentialspecific_humidityu_component_of_windv_component_of_windvertical_velocity_60,50,10,130.nc (113.8M)\n",
      "2020-08-19 13:00:44,100 INFO Download rate 9M/s    \n",
      "2020-08-19 13:00:44,373 INFO Welcome to the CDS\n",
      "2020-08-19 13:00:44,374 INFO Sending request to https://cds.climate.copernicus.eu/api/v2/resources/reanalysis-era5-pressure-levels-monthly-means\n"
     ]
    },
    {
     "name": "stdout",
     "output_type": "stream",
     "text": [
      "file downloaded and saved as  cache/era5_pressure-levels-monthly-means_2009_months56789_geopotentialspecific_humidityu_component_of_windv_component_of_windvertical_velocity_60,50,10,130.nc\n"
     ]
    },
    {
     "name": "stderr",
     "output_type": "stream",
     "text": [
      "2020-08-19 13:00:45,189 INFO Request is queued\n",
      "2020-08-19 13:00:47,758 INFO Request is running\n",
      "2020-08-19 13:02:00,445 INFO Request is completed\n",
      "2020-08-19 13:02:00,446 INFO Downloading http://136.156.133.37/cache-compute-0011/cache/data0/adaptor.mars.internal-1597834846.324942-15875-23-53b1dea0-368f-421a-ab40-61c0717d2f17.nc to cache/era5_pressure-levels-monthly-means_2010_months56789_geopotentialspecific_humidityu_component_of_windv_component_of_windvertical_velocity_60,50,10,130.nc (113.8M)\n",
      "2020-08-19 13:02:12,146 INFO Download rate 9.7M/s  \n"
     ]
    },
    {
     "name": "stdout",
     "output_type": "stream",
     "text": [
      "file downloaded and saved as  cache/era5_pressure-levels-monthly-means_2010_months56789_geopotentialspecific_humidityu_component_of_windv_component_of_windvertical_velocity_60,50,10,130.nc\n"
     ]
    },
    {
     "name": "stderr",
     "output_type": "stream",
     "text": [
      "2020-08-19 13:02:14,154 INFO Welcome to the CDS\n",
      "2020-08-19 13:02:14,155 INFO Sending request to https://cds.climate.copernicus.eu/api/v2/resources/reanalysis-era5-pressure-levels-monthly-means\n",
      "2020-08-19 13:02:14,429 INFO Request is queued\n",
      "2020-08-19 13:02:22,693 INFO Request is running\n",
      "2020-08-19 13:03:29,685 INFO Request is completed\n",
      "2020-08-19 13:03:29,686 INFO Downloading http://136.156.132.198/cache-compute-0003/cache/data2/adaptor.mars.internal-1597834942.4895866-28638-14-fd48435d-51ef-48b9-b80b-df29ad3a4e1f.nc to cache/era5_pressure-levels-monthly-means_2011_months56789_geopotentialspecific_humidityu_component_of_windv_component_of_windvertical_velocity_60,50,10,130.nc (113.8M)\n",
      "2020-08-19 13:03:42,250 INFO Download rate 9.1M/s  \n",
      "2020-08-19 13:03:45,866 INFO Welcome to the CDS\n",
      "2020-08-19 13:03:45,866 INFO Sending request to https://cds.climate.copernicus.eu/api/v2/resources/reanalysis-era5-pressure-levels-monthly-means\n"
     ]
    },
    {
     "name": "stdout",
     "output_type": "stream",
     "text": [
      "file downloaded and saved as  cache/era5_pressure-levels-monthly-means_2011_months56789_geopotentialspecific_humidityu_component_of_windv_component_of_windvertical_velocity_60,50,10,130.nc\n"
     ]
    },
    {
     "name": "stderr",
     "output_type": "stream",
     "text": [
      "2020-08-19 13:03:48,756 INFO Request is queued\n",
      "2020-08-19 13:05:03,987 INFO Request is running\n",
      "2020-08-19 13:05:42,503 INFO Request is completed\n",
      "2020-08-19 13:05:42,503 INFO Downloading http://136.156.132.201/cache-compute-0004/cache/data0/adaptor.mars.internal-1597835078.7751467-1554-20-82f6b302-0da0-4170-bc8e-6a1e39a6c85c.nc to cache/era5_pressure-levels-monthly-means_2012_months56789_geopotentialspecific_humidityu_component_of_windv_component_of_windvertical_velocity_60,50,10,130.nc (113.8M)\n",
      "2020-08-19 13:05:56,384 INFO Download rate 8.2M/s  \n",
      "2020-08-19 13:05:59,268 INFO Welcome to the CDS\n",
      "2020-08-19 13:05:59,269 INFO Sending request to https://cds.climate.copernicus.eu/api/v2/resources/reanalysis-era5-pressure-levels-monthly-means\n"
     ]
    },
    {
     "name": "stdout",
     "output_type": "stream",
     "text": [
      "file downloaded and saved as  cache/era5_pressure-levels-monthly-means_2012_months56789_geopotentialspecific_humidityu_component_of_windv_component_of_windvertical_velocity_60,50,10,130.nc\n"
     ]
    },
    {
     "name": "stderr",
     "output_type": "stream",
     "text": [
      "2020-08-19 13:05:59,532 INFO Request is queued\n",
      "2020-08-19 13:06:00,566 INFO Request is running\n",
      "2020-08-19 13:07:14,794 INFO Request is completed\n",
      "2020-08-19 13:07:14,795 INFO Downloading http://136.156.133.25/cache-compute-0008/cache/data9/adaptor.mars.internal-1597835160.3868258-22551-23-7d27cc31-5657-402d-aa9b-74438ceae72b.nc to cache/era5_pressure-levels-monthly-means_2013_months56789_geopotentialspecific_humidityu_component_of_windv_component_of_windvertical_velocity_60,50,10,130.nc (113.8M)\n",
      "2020-08-19 13:07:26,246 INFO Download rate 9.9M/s  \n",
      "2020-08-19 13:07:26,781 INFO Welcome to the CDS\n",
      "2020-08-19 13:07:26,782 INFO Sending request to https://cds.climate.copernicus.eu/api/v2/resources/reanalysis-era5-pressure-levels-monthly-means\n"
     ]
    },
    {
     "name": "stdout",
     "output_type": "stream",
     "text": [
      "file downloaded and saved as  cache/era5_pressure-levels-monthly-means_2013_months56789_geopotentialspecific_humidityu_component_of_windv_component_of_windvertical_velocity_60,50,10,130.nc\n"
     ]
    },
    {
     "name": "stderr",
     "output_type": "stream",
     "text": [
      "2020-08-19 13:07:26,966 INFO Request is queued\n",
      "2020-08-19 13:07:28,000 INFO Request is running\n",
      "2020-08-19 13:08:42,193 INFO Request is completed\n",
      "2020-08-19 13:08:42,194 INFO Downloading http://136.156.133.46/cache-compute-0015/cache/data9/adaptor.mars.internal-1597835247.7541115-7683-1-c60eabff-6653-4db7-b0a5-f67e099d9a8e.nc to cache/era5_pressure-levels-monthly-means_2014_months56789_geopotentialspecific_humidityu_component_of_windv_component_of_windvertical_velocity_60,50,10,130.nc (113.8M)\n",
      "2020-08-19 13:08:53,671 INFO Download rate 9.9M/s  \n",
      "2020-08-19 13:08:53,879 INFO Welcome to the CDS\n",
      "2020-08-19 13:08:53,880 INFO Sending request to https://cds.climate.copernicus.eu/api/v2/resources/reanalysis-era5-pressure-levels-monthly-means\n"
     ]
    },
    {
     "name": "stdout",
     "output_type": "stream",
     "text": [
      "file downloaded and saved as  cache/era5_pressure-levels-monthly-means_2014_months56789_geopotentialspecific_humidityu_component_of_windv_component_of_windvertical_velocity_60,50,10,130.nc\n"
     ]
    },
    {
     "name": "stderr",
     "output_type": "stream",
     "text": [
      "2020-08-19 13:08:53,976 INFO Request is queued\n",
      "2020-08-19 13:08:55,100 INFO Request is running\n",
      "2020-08-19 13:10:09,291 INFO Request is completed\n",
      "2020-08-19 13:10:09,292 INFO Downloading http://136.156.133.46/cache-compute-0015/cache/data4/adaptor.mars.internal-1597835334.7698417-21769-26-20430844-91dc-4d5d-b1c8-f329eadba220.nc to cache/era5_pressure-levels-monthly-means_2015_months56789_geopotentialspecific_humidityu_component_of_windv_component_of_windvertical_velocity_60,50,10,130.nc (113.8M)\n",
      "2020-08-19 13:10:20,770 INFO Download rate 9.9M/s  \n",
      "2020-08-19 13:10:22,151 INFO Welcome to the CDS\n",
      "2020-08-19 13:10:22,152 INFO Sending request to https://cds.climate.copernicus.eu/api/v2/resources/reanalysis-era5-pressure-levels-monthly-means\n"
     ]
    },
    {
     "name": "stdout",
     "output_type": "stream",
     "text": [
      "file downloaded and saved as  cache/era5_pressure-levels-monthly-means_2015_months56789_geopotentialspecific_humidityu_component_of_windv_component_of_windvertical_velocity_60,50,10,130.nc\n"
     ]
    },
    {
     "name": "stderr",
     "output_type": "stream",
     "text": [
      "2020-08-19 13:10:23,352 INFO Request is queued\n",
      "2020-08-19 13:10:25,923 INFO Request is running\n",
      "2020-08-19 13:11:38,619 INFO Request is completed\n",
      "2020-08-19 13:11:38,620 INFO Downloading http://136.156.133.32/cache-compute-0009/cache/data9/adaptor.mars.internal-1597835425.1902533-9182-3-6a564afb-03cf-453c-abee-653f0334dd9b.nc to cache/era5_pressure-levels-monthly-means_2016_months56789_geopotentialspecific_humidityu_component_of_windv_component_of_windvertical_velocity_60,50,10,130.nc (113.8M)\n",
      "2020-08-19 13:11:52,658 INFO Download rate 8.1M/s  \n",
      "2020-08-19 13:11:53,183 INFO Welcome to the CDS\n",
      "2020-08-19 13:11:53,183 INFO Sending request to https://cds.climate.copernicus.eu/api/v2/resources/reanalysis-era5-pressure-levels-monthly-means\n"
     ]
    },
    {
     "name": "stdout",
     "output_type": "stream",
     "text": [
      "file downloaded and saved as  cache/era5_pressure-levels-monthly-means_2016_months56789_geopotentialspecific_humidityu_component_of_windv_component_of_windvertical_velocity_60,50,10,130.nc\n"
     ]
    },
    {
     "name": "stderr",
     "output_type": "stream",
     "text": [
      "2020-08-19 13:11:53,923 INFO Request is queued\n",
      "2020-08-19 13:11:58,778 INFO Request is running\n",
      "2020-08-19 13:13:09,185 INFO Request is completed\n",
      "2020-08-19 13:13:09,186 INFO Downloading http://136.156.132.201/cache-compute-0004/cache/data9/adaptor.mars.internal-1597835517.2498465-11582-8-ed5f4b7f-fcc3-4d21-83e2-646b05e160c7.nc to cache/era5_pressure-levels-monthly-means_2017_months56789_geopotentialspecific_humidityu_component_of_windv_component_of_windvertical_velocity_60,50,10,130.nc (113.8M)\n",
      "2020-08-19 13:13:20,018 INFO Download rate 10.5M/s \n",
      "2020-08-19 13:13:20,496 INFO Welcome to the CDS\n",
      "2020-08-19 13:13:20,496 INFO Sending request to https://cds.climate.copernicus.eu/api/v2/resources/reanalysis-era5-pressure-levels-monthly-means\n"
     ]
    },
    {
     "name": "stdout",
     "output_type": "stream",
     "text": [
      "file downloaded and saved as  cache/era5_pressure-levels-monthly-means_2017_months56789_geopotentialspecific_humidityu_component_of_windv_component_of_windvertical_velocity_60,50,10,130.nc\n"
     ]
    },
    {
     "name": "stderr",
     "output_type": "stream",
     "text": [
      "2020-08-19 13:13:20,775 INFO Request is queued\n",
      "2020-08-19 13:13:23,344 INFO Request is running\n",
      "2020-08-19 13:14:36,031 INFO Request is completed\n",
      "2020-08-19 13:14:36,031 INFO Downloading http://136.156.133.42/cache-compute-0014/cache/data3/adaptor.mars.internal-1597835602.5719094-15323-19-7beeb590-6422-4dca-8a89-76709e5d3089.nc to cache/era5_pressure-levels-monthly-means_2018_months56789_geopotentialspecific_humidityu_component_of_windv_component_of_windvertical_velocity_60,50,10,130.nc (113.8M)\n",
      "2020-08-19 13:14:48,314 INFO Download rate 9.3M/s  \n",
      "2020-08-19 13:14:48,972 INFO Welcome to the CDS\n",
      "2020-08-19 13:14:48,972 INFO Sending request to https://cds.climate.copernicus.eu/api/v2/resources/reanalysis-era5-pressure-levels-monthly-means\n"
     ]
    },
    {
     "name": "stdout",
     "output_type": "stream",
     "text": [
      "file downloaded and saved as  cache/era5_pressure-levels-monthly-means_2018_months56789_geopotentialspecific_humidityu_component_of_windv_component_of_windvertical_velocity_60,50,10,130.nc\n"
     ]
    },
    {
     "name": "stderr",
     "output_type": "stream",
     "text": [
      "2020-08-19 13:14:49,492 INFO Request is queued\n",
      "2020-08-19 13:14:50,526 INFO Request is running\n",
      "2020-08-19 13:16:04,749 INFO Request is completed\n",
      "2020-08-19 13:16:04,749 INFO Downloading http://136.156.132.235/cache-compute-0006/cache/data8/adaptor.mars.internal-1597835689.8921614-28693-16-3e5305a4-086f-4de3-8b63-3321ef60aacb.nc to cache/era5_pressure-levels-monthly-means_2019_months56789_geopotentialspecific_humidityu_component_of_windv_component_of_windvertical_velocity_60,50,10,130.nc (113.8M)\n",
      "2020-08-19 13:16:17,852 INFO Download rate 8.7M/s  \n"
     ]
    },
    {
     "name": "stdout",
     "output_type": "stream",
     "text": [
      "file downloaded and saved as  cache/era5_pressure-levels-monthly-means_2019_months56789_geopotentialspecific_humidityu_component_of_windv_component_of_windvertical_velocity_60,50,10,130.nc\n"
     ]
    }
   ],
   "source": [
    "# download data \n",
    "era5_pressure.get_data_per_year(years = list(np.arange(1979,2020).astype(str)), months = list(np.arange(5,10).astype(str)), pressure_levels ='all' )"
   ]
  },
  {
   "cell_type": "markdown",
   "metadata": {},
   "source": [
    "## Download ERA5 data for 2D precip\n",
    "\n"
   ]
  },
  {
   "cell_type": "code",
   "execution_count": 21,
   "metadata": {},
   "outputs": [],
   "source": [
    "# ERA5 pressure levels, variables q u v p, monthly resolution, domain \n",
    "variables = ['convective_precipitation', 'large_scale_precipitation', 'total_precipitation']\n",
    "variables = ['vertical_integral_of_divergence_of_moisture_flux', 'vertically_integrated_moisture_divergence']\n",
    "era5_single= creampy.dataproducts.ERA5('single-levels', variables, 'monthly', domain = ['60', '50', '10','130'] )"
   ]
  },
  {
   "cell_type": "code",
   "execution_count": 22,
   "metadata": {},
   "outputs": [
    {
     "name": "stderr",
     "output_type": "stream",
     "text": [
      "2020-08-27 12:39:25,173 INFO Welcome to the CDS\n",
      "2020-08-27 12:39:25,174 INFO Sending request to https://cds.climate.copernicus.eu/api/v2/resources/reanalysis-era5-single-levels-monthly-means\n",
      "2020-08-27 12:39:25,438 INFO Request is queued\n",
      "2020-08-27 12:39:26,473 INFO Request is running\n",
      "2020-08-27 12:39:30,291 INFO Request is completed\n",
      "2020-08-27 12:39:30,291 INFO Downloading http://136.156.133.25/cache-compute-0008/cache/data7/adaptor.mars.internal-1598524765.8607175-29026-35-6db10bc1-679e-490a-8b24-7957da535f6d.nc to cache/era5_single-levels-monthly-means_1979_months56789_vertical_integral_of_divergence_of_moisture_fluxvertically_integrated_moisture_divergence_60,50,10,130.nc (1.2M)\n",
      "2020-08-27 12:39:32,130 INFO Download rate 687.2K/s \n"
     ]
    },
    {
     "name": "stdout",
     "output_type": "stream",
     "text": [
      "file downloaded and saved as  cache/era5_single-levels-monthly-means_1979_months56789_vertical_integral_of_divergence_of_moisture_fluxvertically_integrated_moisture_divergence_60,50,10,130.nc\n"
     ]
    },
    {
     "name": "stderr",
     "output_type": "stream",
     "text": [
      "2020-08-27 12:39:32,507 INFO Welcome to the CDS\n",
      "2020-08-27 12:39:32,507 INFO Sending request to https://cds.climate.copernicus.eu/api/v2/resources/reanalysis-era5-single-levels-monthly-means\n",
      "2020-08-27 12:39:32,667 INFO Request is queued\n",
      "2020-08-27 12:39:33,703 INFO Request is running\n",
      "2020-08-27 12:39:37,522 INFO Request is completed\n",
      "2020-08-27 12:39:37,522 INFO Downloading http://136.156.132.153/cache-compute-0002/cache/data6/adaptor.mars.internal-1598524772.9253309-27161-19-2bf9c482-6f5d-4a26-8a2d-e7691406db45.nc to cache/era5_single-levels-monthly-means_1980_months56789_vertical_integral_of_divergence_of_moisture_fluxvertically_integrated_moisture_divergence_60,50,10,130.nc (1.2M)\n",
      "2020-08-27 12:39:38,564 INFO Download rate 1.2M/s   \n",
      "2020-08-27 12:39:38,953 INFO Welcome to the CDS\n",
      "2020-08-27 12:39:38,954 INFO Sending request to https://cds.climate.copernicus.eu/api/v2/resources/reanalysis-era5-single-levels-monthly-means\n"
     ]
    },
    {
     "name": "stdout",
     "output_type": "stream",
     "text": [
      "file downloaded and saved as  cache/era5_single-levels-monthly-means_1980_months56789_vertical_integral_of_divergence_of_moisture_fluxvertically_integrated_moisture_divergence_60,50,10,130.nc\n"
     ]
    },
    {
     "name": "stderr",
     "output_type": "stream",
     "text": [
      "2020-08-27 12:39:39,094 INFO Request is queued\n",
      "2020-08-27 12:39:40,129 INFO Request is running\n",
      "2020-08-27 12:39:43,950 INFO Request is completed\n",
      "2020-08-27 12:39:43,951 INFO Downloading http://136.156.132.235/cache-compute-0006/cache/data6/adaptor.mars.internal-1598524779.2327745-9754-15-3fbdc27d-4da6-40d1-a8be-8dbfff081139.nc to cache/era5_single-levels-monthly-means_1981_months56789_vertical_integral_of_divergence_of_moisture_fluxvertically_integrated_moisture_divergence_60,50,10,130.nc (1.2M)\n",
      "2020-08-27 12:39:44,248 INFO Download rate 4.2M/s   \n",
      "2020-08-27 12:39:44,582 INFO Welcome to the CDS\n",
      "2020-08-27 12:39:44,583 INFO Sending request to https://cds.climate.copernicus.eu/api/v2/resources/reanalysis-era5-single-levels-monthly-means\n"
     ]
    },
    {
     "name": "stdout",
     "output_type": "stream",
     "text": [
      "file downloaded and saved as  cache/era5_single-levels-monthly-means_1981_months56789_vertical_integral_of_divergence_of_moisture_fluxvertically_integrated_moisture_divergence_60,50,10,130.nc\n"
     ]
    },
    {
     "name": "stderr",
     "output_type": "stream",
     "text": [
      "2020-08-27 12:39:45,067 INFO Request is queued\n",
      "2020-08-27 12:39:46,101 INFO Request is running\n",
      "2020-08-27 12:39:49,922 INFO Request is completed\n",
      "2020-08-27 12:39:49,922 INFO Downloading http://136.156.133.36/cache-compute-0010/cache/data4/adaptor.mars.internal-1598524785.3408585-29181-27-6aa08641-3577-475d-b6cc-abf5aa606e6c.nc to cache/era5_single-levels-monthly-means_1982_months56789_vertical_integral_of_divergence_of_moisture_fluxvertically_integrated_moisture_divergence_60,50,10,130.nc (1.2M)\n",
      "2020-08-27 12:39:50,218 INFO Download rate 4.2M/s   \n",
      "2020-08-27 12:39:50,537 INFO Welcome to the CDS\n",
      "2020-08-27 12:39:50,538 INFO Sending request to https://cds.climate.copernicus.eu/api/v2/resources/reanalysis-era5-single-levels-monthly-means\n",
      "2020-08-27 12:39:50,616 INFO Request is queued\n"
     ]
    },
    {
     "name": "stdout",
     "output_type": "stream",
     "text": [
      "file downloaded and saved as  cache/era5_single-levels-monthly-means_1982_months56789_vertical_integral_of_divergence_of_moisture_fluxvertically_integrated_moisture_divergence_60,50,10,130.nc\n"
     ]
    },
    {
     "name": "stderr",
     "output_type": "stream",
     "text": [
      "2020-08-27 12:39:51,650 INFO Request is running\n",
      "2020-08-27 12:39:55,471 INFO Request is completed\n",
      "2020-08-27 12:39:55,472 INFO Downloading http://136.156.132.236/cache-compute-0007/cache/data0/adaptor.mars.internal-1598524790.719619-12574-9-dc7eae32-98fe-44b9-ae93-efbee8e4a6a5.nc to cache/era5_single-levels-monthly-means_1983_months56789_vertical_integral_of_divergence_of_moisture_fluxvertically_integrated_moisture_divergence_60,50,10,130.nc (1.2M)\n",
      "2020-08-27 12:39:55,765 INFO Download rate 4.2M/s   \n",
      "2020-08-27 12:39:56,194 INFO Welcome to the CDS\n",
      "2020-08-27 12:39:56,194 INFO Sending request to https://cds.climate.copernicus.eu/api/v2/resources/reanalysis-era5-single-levels-monthly-means\n"
     ]
    },
    {
     "name": "stdout",
     "output_type": "stream",
     "text": [
      "file downloaded and saved as  cache/era5_single-levels-monthly-means_1983_months56789_vertical_integral_of_divergence_of_moisture_fluxvertically_integrated_moisture_divergence_60,50,10,130.nc\n"
     ]
    },
    {
     "name": "stderr",
     "output_type": "stream",
     "text": [
      "2020-08-27 12:39:56,437 INFO Request is queued\n",
      "2020-08-27 12:39:57,471 INFO Request is running\n",
      "2020-08-27 12:40:01,288 INFO Request is completed\n",
      "2020-08-27 12:40:01,289 INFO Downloading http://136.156.132.105/cache-compute-0000/cache/data3/adaptor.mars.internal-1598524796.7464147-27950-1-8f10b369-f717-4c14-83bc-b6c17594ad9e.nc to cache/era5_single-levels-monthly-means_1984_months56789_vertical_integral_of_divergence_of_moisture_fluxvertically_integrated_moisture_divergence_60,50,10,130.nc (1.2M)\n",
      "2020-08-27 12:40:01,608 INFO Download rate 3.9M/s  \n",
      "2020-08-27 12:40:01,795 INFO Welcome to the CDS\n",
      "2020-08-27 12:40:01,796 INFO Sending request to https://cds.climate.copernicus.eu/api/v2/resources/reanalysis-era5-single-levels-monthly-means\n"
     ]
    },
    {
     "name": "stdout",
     "output_type": "stream",
     "text": [
      "file downloaded and saved as  cache/era5_single-levels-monthly-means_1984_months56789_vertical_integral_of_divergence_of_moisture_fluxvertically_integrated_moisture_divergence_60,50,10,130.nc\n"
     ]
    },
    {
     "name": "stderr",
     "output_type": "stream",
     "text": [
      "2020-08-27 12:40:01,906 INFO Request is queued\n",
      "2020-08-27 12:40:02,940 INFO Request is running\n",
      "2020-08-27 12:40:06,762 INFO Request is completed\n",
      "2020-08-27 12:40:06,763 INFO Downloading http://136.156.133.41/cache-compute-0013/cache/data6/adaptor.mars.internal-1598524802.2305794-25886-29-d4033683-c255-48f6-a6a3-a0be7529f155.nc to cache/era5_single-levels-monthly-means_1985_months56789_vertical_integral_of_divergence_of_moisture_fluxvertically_integrated_moisture_divergence_60,50,10,130.nc (1.2M)\n",
      "2020-08-27 12:40:07,062 INFO Download rate 4.1M/s   \n",
      "2020-08-27 12:40:07,286 INFO Welcome to the CDS\n",
      "2020-08-27 12:40:07,287 INFO Sending request to https://cds.climate.copernicus.eu/api/v2/resources/reanalysis-era5-single-levels-monthly-means\n"
     ]
    },
    {
     "name": "stdout",
     "output_type": "stream",
     "text": [
      "file downloaded and saved as  cache/era5_single-levels-monthly-means_1985_months56789_vertical_integral_of_divergence_of_moisture_fluxvertically_integrated_moisture_divergence_60,50,10,130.nc\n"
     ]
    },
    {
     "name": "stderr",
     "output_type": "stream",
     "text": [
      "2020-08-27 12:40:07,403 INFO Request is queued\n",
      "2020-08-27 12:40:08,438 INFO Request is running\n",
      "2020-08-27 12:40:12,256 INFO Request is completed\n",
      "2020-08-27 12:40:12,256 INFO Downloading http://136.156.132.153/cache-compute-0002/cache/data6/adaptor.mars.internal-1598524807.6788597-27427-33-79129722-5afc-4cab-958c-1fa31039fdb3.nc to cache/era5_single-levels-monthly-means_1986_months56789_vertical_integral_of_divergence_of_moisture_fluxvertically_integrated_moisture_divergence_60,50,10,130.nc (1.2M)\n",
      "2020-08-27 12:40:12,764 INFO Download rate 2.4M/s   \n",
      "2020-08-27 12:40:14,592 INFO Welcome to the CDS\n",
      "2020-08-27 12:40:14,592 INFO Sending request to https://cds.climate.copernicus.eu/api/v2/resources/reanalysis-era5-single-levels-monthly-means\n",
      "2020-08-27 12:40:14,656 INFO Request is queued\n"
     ]
    },
    {
     "name": "stdout",
     "output_type": "stream",
     "text": [
      "file downloaded and saved as  cache/era5_single-levels-monthly-means_1986_months56789_vertical_integral_of_divergence_of_moisture_fluxvertically_integrated_moisture_divergence_60,50,10,130.nc\n"
     ]
    },
    {
     "name": "stderr",
     "output_type": "stream",
     "text": [
      "2020-08-27 12:40:15,691 INFO Request is running\n",
      "2020-08-27 12:40:19,513 INFO Request is completed\n",
      "2020-08-27 12:40:19,514 INFO Downloading http://136.156.133.46/cache-compute-0015/cache/data6/adaptor.mars.internal-1598524815.1510625-11452-39-0b25103f-5280-4ffd-9756-6187f83e01e1.nc to cache/era5_single-levels-monthly-means_1987_months56789_vertical_integral_of_divergence_of_moisture_fluxvertically_integrated_moisture_divergence_60,50,10,130.nc (1.2M)\n",
      "2020-08-27 12:40:19,812 INFO Download rate 4.2M/s   \n",
      "2020-08-27 12:40:20,042 INFO Welcome to the CDS\n",
      "2020-08-27 12:40:20,042 INFO Sending request to https://cds.climate.copernicus.eu/api/v2/resources/reanalysis-era5-single-levels-monthly-means\n"
     ]
    },
    {
     "name": "stdout",
     "output_type": "stream",
     "text": [
      "file downloaded and saved as  cache/era5_single-levels-monthly-means_1987_months56789_vertical_integral_of_divergence_of_moisture_fluxvertically_integrated_moisture_divergence_60,50,10,130.nc\n"
     ]
    },
    {
     "name": "stderr",
     "output_type": "stream",
     "text": [
      "2020-08-27 12:40:21,918 INFO Request is queued\n",
      "2020-08-27 12:40:22,952 INFO Request is running\n",
      "2020-08-27 12:40:30,180 INFO Request is completed\n",
      "2020-08-27 12:40:30,181 INFO Downloading http://136.156.132.235/cache-compute-0006/cache/data8/adaptor.mars.internal-1598524822.0532398-9715-19-c3d2f4f6-03ea-4eaf-84c5-c2ea669923ab.nc to cache/era5_single-levels-monthly-means_1988_months56789_vertical_integral_of_divergence_of_moisture_fluxvertically_integrated_moisture_divergence_60,50,10,130.nc (1.2M)\n",
      "2020-08-27 12:40:30,503 INFO Download rate 3.8M/s  \n",
      "2020-08-27 12:40:30,865 INFO Welcome to the CDS\n",
      "2020-08-27 12:40:30,865 INFO Sending request to https://cds.climate.copernicus.eu/api/v2/resources/reanalysis-era5-single-levels-monthly-means\n"
     ]
    },
    {
     "name": "stdout",
     "output_type": "stream",
     "text": [
      "file downloaded and saved as  cache/era5_single-levels-monthly-means_1988_months56789_vertical_integral_of_divergence_of_moisture_fluxvertically_integrated_moisture_divergence_60,50,10,130.nc\n"
     ]
    },
    {
     "name": "stderr",
     "output_type": "stream",
     "text": [
      "2020-08-27 12:40:30,968 INFO Request is queued\n",
      "2020-08-27 12:40:32,003 INFO Request is running\n",
      "2020-08-27 12:40:35,823 INFO Request is completed\n",
      "2020-08-27 12:40:35,824 INFO Downloading http://136.156.133.41/cache-compute-0013/cache/data5/adaptor.mars.internal-1598524831.156055-619-11-c11957bd-f3c8-4c19-948b-bc3807b4f931.nc to cache/era5_single-levels-monthly-means_1989_months56789_vertical_integral_of_divergence_of_moisture_fluxvertically_integrated_moisture_divergence_60,50,10,130.nc (1.2M)\n",
      "2020-08-27 12:40:36,143 INFO Download rate 3.9M/s  \n",
      "2020-08-27 12:40:36,575 INFO Welcome to the CDS\n",
      "2020-08-27 12:40:36,575 INFO Sending request to https://cds.climate.copernicus.eu/api/v2/resources/reanalysis-era5-single-levels-monthly-means\n"
     ]
    },
    {
     "name": "stdout",
     "output_type": "stream",
     "text": [
      "file downloaded and saved as  cache/era5_single-levels-monthly-means_1989_months56789_vertical_integral_of_divergence_of_moisture_fluxvertically_integrated_moisture_divergence_60,50,10,130.nc\n"
     ]
    },
    {
     "name": "stderr",
     "output_type": "stream",
     "text": [
      "2020-08-27 12:40:36,690 INFO Request is queued\n",
      "2020-08-27 12:40:37,724 INFO Request is running\n",
      "2020-08-27 12:40:41,541 INFO Request is completed\n",
      "2020-08-27 12:40:41,542 INFO Downloading http://136.156.133.39/cache-compute-0012/cache/data3/adaptor.mars.internal-1598524836.8474722-17944-1-b88b535a-b116-4800-bc12-3665ff1610a7.nc to cache/era5_single-levels-monthly-means_1990_months56789_vertical_integral_of_divergence_of_moisture_fluxvertically_integrated_moisture_divergence_60,50,10,130.nc (1.2M)\n",
      "2020-08-27 12:40:41,862 INFO Download rate 3.9M/s   \n",
      "2020-08-27 12:40:42,314 INFO Welcome to the CDS\n",
      "2020-08-27 12:40:42,314 INFO Sending request to https://cds.climate.copernicus.eu/api/v2/resources/reanalysis-era5-single-levels-monthly-means\n"
     ]
    },
    {
     "name": "stdout",
     "output_type": "stream",
     "text": [
      "file downloaded and saved as  cache/era5_single-levels-monthly-means_1990_months56789_vertical_integral_of_divergence_of_moisture_fluxvertically_integrated_moisture_divergence_60,50,10,130.nc\n"
     ]
    },
    {
     "name": "stderr",
     "output_type": "stream",
     "text": [
      "2020-08-27 12:40:42,428 INFO Request is queued\n",
      "2020-08-27 12:40:43,462 INFO Request is running\n",
      "2020-08-27 12:40:47,281 INFO Request is completed\n",
      "2020-08-27 12:40:47,282 INFO Downloading http://136.156.132.235/cache-compute-0006/cache/data7/adaptor.mars.internal-1598524842.5062408-10963-7-0df133f4-f8d9-49a1-8f06-e661fe6bb5b9.nc to cache/era5_single-levels-monthly-means_1991_months56789_vertical_integral_of_divergence_of_moisture_fluxvertically_integrated_moisture_divergence_60,50,10,130.nc (1.2M)\n",
      "2020-08-27 12:40:47,650 INFO Download rate 3.4M/s  \n",
      "2020-08-27 12:40:48,082 INFO Welcome to the CDS\n",
      "2020-08-27 12:40:48,083 INFO Sending request to https://cds.climate.copernicus.eu/api/v2/resources/reanalysis-era5-single-levels-monthly-means\n"
     ]
    },
    {
     "name": "stdout",
     "output_type": "stream",
     "text": [
      "file downloaded and saved as  cache/era5_single-levels-monthly-means_1991_months56789_vertical_integral_of_divergence_of_moisture_fluxvertically_integrated_moisture_divergence_60,50,10,130.nc\n"
     ]
    },
    {
     "name": "stderr",
     "output_type": "stream",
     "text": [
      "2020-08-27 12:40:49,589 INFO Request is queued\n",
      "2020-08-27 12:40:50,625 INFO Request is running\n",
      "2020-08-27 12:40:54,445 INFO Request is completed\n",
      "2020-08-27 12:40:54,445 INFO Downloading http://136.156.132.235/cache-compute-0006/cache/data2/adaptor.mars.internal-1598524849.7320862-8854-29-3f3df646-7e96-4751-acbe-57f7166f6346.nc to cache/era5_single-levels-monthly-means_1992_months56789_vertical_integral_of_divergence_of_moisture_fluxvertically_integrated_moisture_divergence_60,50,10,130.nc (1.2M)\n",
      "2020-08-27 12:40:54,809 INFO Download rate 3.4M/s  \n",
      "2020-08-27 12:40:55,081 INFO Welcome to the CDS\n",
      "2020-08-27 12:40:55,082 INFO Sending request to https://cds.climate.copernicus.eu/api/v2/resources/reanalysis-era5-single-levels-monthly-means\n"
     ]
    },
    {
     "name": "stdout",
     "output_type": "stream",
     "text": [
      "file downloaded and saved as  cache/era5_single-levels-monthly-means_1992_months56789_vertical_integral_of_divergence_of_moisture_fluxvertically_integrated_moisture_divergence_60,50,10,130.nc\n"
     ]
    },
    {
     "name": "stderr",
     "output_type": "stream",
     "text": [
      "2020-08-27 12:40:55,208 INFO Request is queued\n",
      "2020-08-27 12:40:56,243 INFO Request is running\n",
      "2020-08-27 12:41:00,063 INFO Request is completed\n",
      "2020-08-27 12:41:00,063 INFO Downloading http://136.156.133.37/cache-compute-0011/cache/data6/adaptor.mars.internal-1598524855.3305943-25303-9-6a4874c6-fa95-49f0-89da-ea82f597b7a4.nc to cache/era5_single-levels-monthly-means_1993_months56789_vertical_integral_of_divergence_of_moisture_fluxvertically_integrated_moisture_divergence_60,50,10,130.nc (1.2M)\n",
      "2020-08-27 12:41:00,362 INFO Download rate 4.1M/s  \n",
      "2020-08-27 12:41:00,657 INFO Welcome to the CDS\n",
      "2020-08-27 12:41:00,657 INFO Sending request to https://cds.climate.copernicus.eu/api/v2/resources/reanalysis-era5-single-levels-monthly-means\n"
     ]
    },
    {
     "name": "stdout",
     "output_type": "stream",
     "text": [
      "file downloaded and saved as  cache/era5_single-levels-monthly-means_1993_months56789_vertical_integral_of_divergence_of_moisture_fluxvertically_integrated_moisture_divergence_60,50,10,130.nc\n"
     ]
    },
    {
     "name": "stderr",
     "output_type": "stream",
     "text": [
      "2020-08-27 12:41:00,818 INFO Request is queued\n",
      "2020-08-27 12:41:01,853 INFO Request is running\n",
      "2020-08-27 12:41:05,678 INFO Request is completed\n",
      "2020-08-27 12:41:05,679 INFO Downloading http://136.156.133.37/cache-compute-0011/cache/data5/adaptor.mars.internal-1598524860.9436483-10513-33-ba0a03ce-96a3-4c27-a296-cfe9a0c42b50.nc to cache/era5_single-levels-monthly-means_1994_months56789_vertical_integral_of_divergence_of_moisture_fluxvertically_integrated_moisture_divergence_60,50,10,130.nc (1.2M)\n",
      "2020-08-27 12:41:05,995 INFO Download rate 3.9M/s  \n",
      "2020-08-27 12:41:06,480 INFO Welcome to the CDS\n",
      "2020-08-27 12:41:06,481 INFO Sending request to https://cds.climate.copernicus.eu/api/v2/resources/reanalysis-era5-single-levels-monthly-means\n"
     ]
    },
    {
     "name": "stdout",
     "output_type": "stream",
     "text": [
      "file downloaded and saved as  cache/era5_single-levels-monthly-means_1994_months56789_vertical_integral_of_divergence_of_moisture_fluxvertically_integrated_moisture_divergence_60,50,10,130.nc\n"
     ]
    },
    {
     "name": "stderr",
     "output_type": "stream",
     "text": [
      "2020-08-27 12:41:06,933 INFO Request is queued\n",
      "2020-08-27 12:41:07,966 INFO Request is running\n",
      "2020-08-27 12:41:15,200 INFO Request is completed\n",
      "2020-08-27 12:41:15,200 INFO Downloading http://136.156.133.39/cache-compute-0012/cache/data0/adaptor.mars.internal-1598524867.3386445-17944-3-ebf4b955-7880-4729-bf2f-b6b685558a59.nc to cache/era5_single-levels-monthly-means_1995_months56789_vertical_integral_of_divergence_of_moisture_fluxvertically_integrated_moisture_divergence_60,50,10,130.nc (1.2M)\n",
      "2020-08-27 12:41:15,527 INFO Download rate 3.8M/s  \n",
      "2020-08-27 12:41:15,916 INFO Welcome to the CDS\n",
      "2020-08-27 12:41:15,917 INFO Sending request to https://cds.climate.copernicus.eu/api/v2/resources/reanalysis-era5-single-levels-monthly-means\n"
     ]
    },
    {
     "name": "stdout",
     "output_type": "stream",
     "text": [
      "file downloaded and saved as  cache/era5_single-levels-monthly-means_1995_months56789_vertical_integral_of_divergence_of_moisture_fluxvertically_integrated_moisture_divergence_60,50,10,130.nc\n"
     ]
    },
    {
     "name": "stderr",
     "output_type": "stream",
     "text": [
      "2020-08-27 12:41:16,853 INFO Request is queued\n",
      "2020-08-27 12:41:19,423 INFO Request is running\n",
      "2020-08-27 12:41:25,121 INFO Request is completed\n",
      "2020-08-27 12:41:25,121 INFO Downloading http://136.156.132.153/cache-compute-0002/cache/data6/adaptor.mars.internal-1598524878.4100149-28732-19-11aca23b-2add-4ac3-abdb-3f26078d91c9.nc to cache/era5_single-levels-monthly-means_1996_months56789_vertical_integral_of_divergence_of_moisture_fluxvertically_integrated_moisture_divergence_60,50,10,130.nc (1.2M)\n",
      "2020-08-27 12:41:25,571 INFO Download rate 2.7M/s  \n",
      "2020-08-27 12:41:25,892 INFO Welcome to the CDS\n",
      "2020-08-27 12:41:25,892 INFO Sending request to https://cds.climate.copernicus.eu/api/v2/resources/reanalysis-era5-single-levels-monthly-means\n"
     ]
    },
    {
     "name": "stdout",
     "output_type": "stream",
     "text": [
      "file downloaded and saved as  cache/era5_single-levels-monthly-means_1996_months56789_vertical_integral_of_divergence_of_moisture_fluxvertically_integrated_moisture_divergence_60,50,10,130.nc\n"
     ]
    },
    {
     "name": "stderr",
     "output_type": "stream",
     "text": [
      "2020-08-27 12:41:26,461 INFO Request is queued\n",
      "2020-08-27 12:41:27,494 INFO Request is running\n",
      "2020-08-27 12:41:31,315 INFO Request is completed\n",
      "2020-08-27 12:41:31,315 INFO Downloading http://136.156.132.236/cache-compute-0007/cache/data0/adaptor.mars.internal-1598524887.3795702-13065-9-0e982877-2747-49ed-9351-8b69d77df747.nc to cache/era5_single-levels-monthly-means_1997_months56789_vertical_integral_of_divergence_of_moisture_fluxvertically_integrated_moisture_divergence_60,50,10,130.nc (1.2M)\n",
      "2020-08-27 12:41:31,635 INFO Download rate 3.9M/s  \n",
      "2020-08-27 12:41:31,992 INFO Welcome to the CDS\n",
      "2020-08-27 12:41:31,992 INFO Sending request to https://cds.climate.copernicus.eu/api/v2/resources/reanalysis-era5-single-levels-monthly-means\n"
     ]
    },
    {
     "name": "stdout",
     "output_type": "stream",
     "text": [
      "file downloaded and saved as  cache/era5_single-levels-monthly-means_1997_months56789_vertical_integral_of_divergence_of_moisture_fluxvertically_integrated_moisture_divergence_60,50,10,130.nc\n"
     ]
    },
    {
     "name": "stderr",
     "output_type": "stream",
     "text": [
      "2020-08-27 12:41:32,528 INFO Request is queued\n",
      "2020-08-27 12:41:35,187 INFO Request is running\n",
      "2020-08-27 12:41:37,472 INFO Request is completed\n",
      "2020-08-27 12:41:37,472 INFO Downloading http://136.156.132.210/cache-compute-0005/cache/data9/adaptor.mars.internal-1598524893.9170115-25727-9-daafbdf2-6ba2-4dc9-86fd-6cbf37965a4c.nc to cache/era5_single-levels-monthly-means_1998_months56789_vertical_integral_of_divergence_of_moisture_fluxvertically_integrated_moisture_divergence_60,50,10,130.nc (1.2M)\n",
      "2020-08-27 12:41:37,768 INFO Download rate 4.2M/s   \n",
      "2020-08-27 12:41:38,084 INFO Welcome to the CDS\n",
      "2020-08-27 12:41:38,085 INFO Sending request to https://cds.climate.copernicus.eu/api/v2/resources/reanalysis-era5-single-levels-monthly-means\n"
     ]
    },
    {
     "name": "stdout",
     "output_type": "stream",
     "text": [
      "file downloaded and saved as  cache/era5_single-levels-monthly-means_1998_months56789_vertical_integral_of_divergence_of_moisture_fluxvertically_integrated_moisture_divergence_60,50,10,130.nc\n"
     ]
    },
    {
     "name": "stderr",
     "output_type": "stream",
     "text": [
      "2020-08-27 12:41:38,967 INFO Request is queued\n",
      "2020-08-27 12:41:40,001 INFO Request is running\n",
      "2020-08-27 12:41:43,820 INFO Request is completed\n",
      "2020-08-27 12:41:43,821 INFO Downloading http://136.156.133.39/cache-compute-0012/cache/data3/adaptor.mars.internal-1598524899.4675713-18191-1-cc15e7b4-bbec-4682-bfc2-bf89344c4dda.nc to cache/era5_single-levels-monthly-means_1999_months56789_vertical_integral_of_divergence_of_moisture_fluxvertically_integrated_moisture_divergence_60,50,10,130.nc (1.2M)\n",
      "2020-08-27 12:41:44,131 INFO Download rate 4M/s    \n",
      "2020-08-27 12:41:44,723 INFO Welcome to the CDS\n",
      "2020-08-27 12:41:44,724 INFO Sending request to https://cds.climate.copernicus.eu/api/v2/resources/reanalysis-era5-single-levels-monthly-means\n"
     ]
    },
    {
     "name": "stdout",
     "output_type": "stream",
     "text": [
      "file downloaded and saved as  cache/era5_single-levels-monthly-means_1999_months56789_vertical_integral_of_divergence_of_moisture_fluxvertically_integrated_moisture_divergence_60,50,10,130.nc\n"
     ]
    },
    {
     "name": "stderr",
     "output_type": "stream",
     "text": [
      "2020-08-27 12:41:45,048 INFO Request is queued\n",
      "2020-08-27 12:41:46,083 INFO Request is running\n",
      "2020-08-27 12:41:49,902 INFO Request is completed\n",
      "2020-08-27 12:41:49,903 INFO Downloading http://136.156.133.25/cache-compute-0008/cache/data3/adaptor.mars.internal-1598524905.2378602-5806-25-79925cd5-af60-471e-88a1-daf551304c3c.nc to cache/era5_single-levels-monthly-means_2000_months56789_vertical_integral_of_divergence_of_moisture_fluxvertically_integrated_moisture_divergence_60,50,10,130.nc (1.2M)\n",
      "2020-08-27 12:41:50,218 INFO Download rate 3.9M/s  \n",
      "2020-08-27 12:41:50,861 INFO Welcome to the CDS\n",
      "2020-08-27 12:41:50,862 INFO Sending request to https://cds.climate.copernicus.eu/api/v2/resources/reanalysis-era5-single-levels-monthly-means\n"
     ]
    },
    {
     "name": "stdout",
     "output_type": "stream",
     "text": [
      "file downloaded and saved as  cache/era5_single-levels-monthly-means_2000_months56789_vertical_integral_of_divergence_of_moisture_fluxvertically_integrated_moisture_divergence_60,50,10,130.nc\n"
     ]
    },
    {
     "name": "stderr",
     "output_type": "stream",
     "text": [
      "2020-08-27 12:41:50,986 INFO Request is queued\n",
      "2020-08-27 12:41:53,555 INFO Request is running\n",
      "2020-08-27 12:41:59,253 INFO Request is completed\n",
      "2020-08-27 12:41:59,253 INFO Downloading http://136.156.132.236/cache-compute-0007/cache/data0/adaptor.mars.internal-1598524912.5620584-12682-15-9e83562d-71c2-4d1b-947e-f42153aff299.nc to cache/era5_single-levels-monthly-means_2001_months56789_vertical_integral_of_divergence_of_moisture_fluxvertically_integrated_moisture_divergence_60,50,10,130.nc (1.2M)\n",
      "2020-08-27 12:41:59,620 INFO Download rate 3.4M/s  \n",
      "2020-08-27 12:42:00,208 INFO Welcome to the CDS\n",
      "2020-08-27 12:42:00,209 INFO Sending request to https://cds.climate.copernicus.eu/api/v2/resources/reanalysis-era5-single-levels-monthly-means\n"
     ]
    },
    {
     "name": "stdout",
     "output_type": "stream",
     "text": [
      "file downloaded and saved as  cache/era5_single-levels-monthly-means_2001_months56789_vertical_integral_of_divergence_of_moisture_fluxvertically_integrated_moisture_divergence_60,50,10,130.nc\n"
     ]
    },
    {
     "name": "stderr",
     "output_type": "stream",
     "text": [
      "2020-08-27 12:42:00,610 INFO Request is queued\n",
      "2020-08-27 12:42:01,646 INFO Request is running\n",
      "2020-08-27 12:42:05,466 INFO Request is completed\n",
      "2020-08-27 12:42:05,467 INFO Downloading http://136.156.133.41/cache-compute-0013/cache/data9/adaptor.mars.internal-1598524920.9184237-1406-7-a4bdad20-36ce-4ddb-9ef8-b521f5e370f4.nc to cache/era5_single-levels-monthly-means_2002_months56789_vertical_integral_of_divergence_of_moisture_fluxvertically_integrated_moisture_divergence_60,50,10,130.nc (1.2M)\n",
      "2020-08-27 12:42:07,341 INFO Download rate 674.2K/s\n",
      "2020-08-27 12:42:07,555 INFO Welcome to the CDS\n",
      "2020-08-27 12:42:07,555 INFO Sending request to https://cds.climate.copernicus.eu/api/v2/resources/reanalysis-era5-single-levels-monthly-means\n"
     ]
    },
    {
     "name": "stdout",
     "output_type": "stream",
     "text": [
      "file downloaded and saved as  cache/era5_single-levels-monthly-means_2002_months56789_vertical_integral_of_divergence_of_moisture_fluxvertically_integrated_moisture_divergence_60,50,10,130.nc\n"
     ]
    },
    {
     "name": "stderr",
     "output_type": "stream",
     "text": [
      "2020-08-27 12:42:07,704 INFO Request is queued\n",
      "2020-08-27 12:42:08,737 INFO Request is running\n",
      "2020-08-27 12:42:12,558 INFO Request is completed\n",
      "2020-08-27 12:42:12,558 INFO Downloading http://136.156.133.46/cache-compute-0015/cache/data5/adaptor.mars.internal-1598524928.4671154-16666-27-36c74bef-747d-4482-8197-83f24db776d4.nc to cache/era5_single-levels-monthly-means_2003_months56789_vertical_integral_of_divergence_of_moisture_fluxvertically_integrated_moisture_divergence_60,50,10,130.nc (1.2M)\n",
      "2020-08-27 12:42:13,631 INFO Download rate 1.2M/s   \n",
      "2020-08-27 12:42:14,974 INFO Welcome to the CDS\n",
      "2020-08-27 12:42:14,975 INFO Sending request to https://cds.climate.copernicus.eu/api/v2/resources/reanalysis-era5-single-levels-monthly-means\n"
     ]
    },
    {
     "name": "stdout",
     "output_type": "stream",
     "text": [
      "file downloaded and saved as  cache/era5_single-levels-monthly-means_2003_months56789_vertical_integral_of_divergence_of_moisture_fluxvertically_integrated_moisture_divergence_60,50,10,130.nc\n"
     ]
    },
    {
     "name": "stderr",
     "output_type": "stream",
     "text": [
      "2020-08-27 12:42:15,590 INFO Request is queued\n",
      "2020-08-27 12:42:16,624 INFO Request is running\n",
      "2020-08-27 12:42:23,854 INFO Request is completed\n",
      "2020-08-27 12:42:23,856 INFO Downloading http://136.156.132.105/cache-compute-0000/cache/data6/adaptor.mars.internal-1598524936.1790607-28681-3-58912c25-ead4-4b5c-b2e8-c265d882084b.nc to cache/era5_single-levels-monthly-means_2004_months56789_vertical_integral_of_divergence_of_moisture_fluxvertically_integrated_moisture_divergence_60,50,10,130.nc (1.2M)\n",
      "2020-08-27 12:42:24,696 INFO Download rate 1.5M/s   \n",
      "2020-08-27 12:42:25,544 INFO Welcome to the CDS\n",
      "2020-08-27 12:42:25,545 INFO Sending request to https://cds.climate.copernicus.eu/api/v2/resources/reanalysis-era5-single-levels-monthly-means\n"
     ]
    },
    {
     "name": "stdout",
     "output_type": "stream",
     "text": [
      "file downloaded and saved as  cache/era5_single-levels-monthly-means_2004_months56789_vertical_integral_of_divergence_of_moisture_fluxvertically_integrated_moisture_divergence_60,50,10,130.nc\n"
     ]
    },
    {
     "name": "stderr",
     "output_type": "stream",
     "text": [
      "2020-08-27 12:42:26,311 INFO Request is queued\n",
      "2020-08-27 12:42:28,879 INFO Request is running\n",
      "2020-08-27 12:42:34,573 INFO Request is completed\n",
      "2020-08-27 12:42:34,574 INFO Downloading http://136.156.133.37/cache-compute-0011/cache/data2/adaptor.mars.internal-1598524947.5140111-23804-29-2b8e741d-264a-4969-bb4a-1f67909c714c.nc to cache/era5_single-levels-monthly-means_2005_months56789_vertical_integral_of_divergence_of_moisture_fluxvertically_integrated_moisture_divergence_60,50,10,130.nc (1.2M)\n",
      "2020-08-27 12:42:34,941 INFO Download rate 3.4M/s  \n",
      "2020-08-27 12:42:35,529 INFO Welcome to the CDS\n",
      "2020-08-27 12:42:35,529 INFO Sending request to https://cds.climate.copernicus.eu/api/v2/resources/reanalysis-era5-single-levels-monthly-means\n"
     ]
    },
    {
     "name": "stdout",
     "output_type": "stream",
     "text": [
      "file downloaded and saved as  cache/era5_single-levels-monthly-means_2005_months56789_vertical_integral_of_divergence_of_moisture_fluxvertically_integrated_moisture_divergence_60,50,10,130.nc\n"
     ]
    },
    {
     "name": "stderr",
     "output_type": "stream",
     "text": [
      "2020-08-27 12:42:35,926 INFO Request is queued\n",
      "2020-08-27 12:42:36,961 INFO Request is running\n",
      "2020-08-27 12:42:40,783 INFO Request is completed\n",
      "2020-08-27 12:42:40,783 INFO Downloading http://136.156.133.41/cache-compute-0013/cache/data0/adaptor.mars.internal-1598524956.3386261-31447-37-84c891e0-7cc7-40d2-be7d-4e85994bde35.nc to cache/era5_single-levels-monthly-means_2006_months56789_vertical_integral_of_divergence_of_moisture_fluxvertically_integrated_moisture_divergence_60,50,10,130.nc (1.2M)\n",
      "2020-08-27 12:42:41,101 INFO Download rate 3.9M/s  \n",
      "2020-08-27 12:42:41,583 INFO Welcome to the CDS\n",
      "2020-08-27 12:42:41,584 INFO Sending request to https://cds.climate.copernicus.eu/api/v2/resources/reanalysis-era5-single-levels-monthly-means\n"
     ]
    },
    {
     "name": "stdout",
     "output_type": "stream",
     "text": [
      "file downloaded and saved as  cache/era5_single-levels-monthly-means_2006_months56789_vertical_integral_of_divergence_of_moisture_fluxvertically_integrated_moisture_divergence_60,50,10,130.nc\n"
     ]
    },
    {
     "name": "stderr",
     "output_type": "stream",
     "text": [
      "2020-08-27 12:42:42,293 INFO Request is queued\n",
      "2020-08-27 12:42:43,328 INFO Request is running\n",
      "2020-08-27 12:42:47,149 INFO Request is completed\n",
      "2020-08-27 12:42:47,149 INFO Downloading http://136.156.133.39/cache-compute-0012/cache/data0/adaptor.mars.internal-1598524962.915207-18441-3-cb0ba5ae-e447-4c4e-8ffc-f7645dd3826b.nc to cache/era5_single-levels-monthly-means_2007_months56789_vertical_integral_of_divergence_of_moisture_fluxvertically_integrated_moisture_divergence_60,50,10,130.nc (1.2M)\n",
      "2020-08-27 12:42:47,467 INFO Download rate 3.9M/s  \n",
      "2020-08-27 12:42:48,217 INFO Welcome to the CDS\n",
      "2020-08-27 12:42:48,217 INFO Sending request to https://cds.climate.copernicus.eu/api/v2/resources/reanalysis-era5-single-levels-monthly-means\n"
     ]
    },
    {
     "name": "stdout",
     "output_type": "stream",
     "text": [
      "file downloaded and saved as  cache/era5_single-levels-monthly-means_2007_months56789_vertical_integral_of_divergence_of_moisture_fluxvertically_integrated_moisture_divergence_60,50,10,130.nc\n"
     ]
    },
    {
     "name": "stderr",
     "output_type": "stream",
     "text": [
      "2020-08-27 12:42:49,383 INFO Request is queued\n",
      "2020-08-27 12:42:50,417 INFO Request is running\n",
      "2020-08-27 12:42:57,644 INFO Request is completed\n",
      "2020-08-27 12:42:57,645 INFO Downloading http://136.156.133.41/cache-compute-0013/cache/data8/adaptor.mars.internal-1598524970.0578887-30641-39-fb60e142-31f7-49eb-a7d1-6093593d0694.nc to cache/era5_single-levels-monthly-means_2008_months56789_vertical_integral_of_divergence_of_moisture_fluxvertically_integrated_moisture_divergence_60,50,10,130.nc (1.2M)\n",
      "2020-08-27 12:42:57,962 INFO Download rate 3.9M/s  \n",
      "2020-08-27 12:42:58,344 INFO Welcome to the CDS\n",
      "2020-08-27 12:42:58,345 INFO Sending request to https://cds.climate.copernicus.eu/api/v2/resources/reanalysis-era5-single-levels-monthly-means\n"
     ]
    },
    {
     "name": "stdout",
     "output_type": "stream",
     "text": [
      "file downloaded and saved as  cache/era5_single-levels-monthly-means_2008_months56789_vertical_integral_of_divergence_of_moisture_fluxvertically_integrated_moisture_divergence_60,50,10,130.nc\n"
     ]
    },
    {
     "name": "stderr",
     "output_type": "stream",
     "text": [
      "2020-08-27 12:42:58,994 INFO Request is queued\n",
      "2020-08-27 12:43:01,563 INFO Request is running\n",
      "2020-08-27 12:43:07,261 INFO Request is completed\n",
      "2020-08-27 12:43:07,261 INFO Downloading http://136.156.133.41/cache-compute-0013/cache/data7/adaptor.mars.internal-1598524980.7222207-32718-23-0d7c9190-82ab-424a-b456-ceb35a4916da.nc to cache/era5_single-levels-monthly-means_2009_months56789_vertical_integral_of_divergence_of_moisture_fluxvertically_integrated_moisture_divergence_60,50,10,130.nc (1.2M)\n",
      "2020-08-27 12:43:07,579 INFO Download rate 3.9M/s  \n",
      "2020-08-27 12:43:08,034 INFO Welcome to the CDS\n",
      "2020-08-27 12:43:08,034 INFO Sending request to https://cds.climate.copernicus.eu/api/v2/resources/reanalysis-era5-single-levels-monthly-means\n"
     ]
    },
    {
     "name": "stdout",
     "output_type": "stream",
     "text": [
      "file downloaded and saved as  cache/era5_single-levels-monthly-means_2009_months56789_vertical_integral_of_divergence_of_moisture_fluxvertically_integrated_moisture_divergence_60,50,10,130.nc\n"
     ]
    },
    {
     "name": "stderr",
     "output_type": "stream",
     "text": [
      "2020-08-27 12:43:08,899 INFO Request is queued\n",
      "2020-08-27 12:43:11,469 INFO Request is running\n",
      "2020-08-27 12:43:17,165 INFO Request is completed\n",
      "2020-08-27 12:43:17,166 INFO Downloading http://136.156.133.37/cache-compute-0011/cache/data7/adaptor.mars.internal-1598524990.1742542-1867-37-1acde326-43f6-4b88-b36f-f210f91eb1d8.nc to cache/era5_single-levels-monthly-means_2010_months56789_vertical_integral_of_divergence_of_moisture_fluxvertically_integrated_moisture_divergence_60,50,10,130.nc (1.2M)\n",
      "2020-08-27 12:43:17,531 INFO Download rate 3.4M/s  \n",
      "2020-08-27 12:43:18,733 INFO Welcome to the CDS\n",
      "2020-08-27 12:43:18,733 INFO Sending request to https://cds.climate.copernicus.eu/api/v2/resources/reanalysis-era5-single-levels-monthly-means\n"
     ]
    },
    {
     "name": "stdout",
     "output_type": "stream",
     "text": [
      "file downloaded and saved as  cache/era5_single-levels-monthly-means_2010_months56789_vertical_integral_of_divergence_of_moisture_fluxvertically_integrated_moisture_divergence_60,50,10,130.nc\n"
     ]
    },
    {
     "name": "stderr",
     "output_type": "stream",
     "text": [
      "2020-08-27 12:43:19,550 INFO Request is queued\n",
      "2020-08-27 12:43:20,583 INFO Request is running\n",
      "2020-08-27 12:43:27,814 INFO Request is completed\n",
      "2020-08-27 12:43:27,815 INFO Downloading http://136.156.133.46/cache-compute-0015/cache/data8/adaptor.mars.internal-1598525000.5894053-16666-31-95bf92d2-f6f8-409d-8e85-cc9c919e29a6.nc to cache/era5_single-levels-monthly-means_2011_months56789_vertical_integral_of_divergence_of_moisture_fluxvertically_integrated_moisture_divergence_60,50,10,130.nc (1.2M)\n",
      "2020-08-27 12:43:28,137 INFO Download rate 3.8M/s  \n",
      "2020-08-27 12:43:29,244 INFO Welcome to the CDS\n",
      "2020-08-27 12:43:29,244 INFO Sending request to https://cds.climate.copernicus.eu/api/v2/resources/reanalysis-era5-single-levels-monthly-means\n"
     ]
    },
    {
     "name": "stdout",
     "output_type": "stream",
     "text": [
      "file downloaded and saved as  cache/era5_single-levels-monthly-means_2011_months56789_vertical_integral_of_divergence_of_moisture_fluxvertically_integrated_moisture_divergence_60,50,10,130.nc\n"
     ]
    },
    {
     "name": "stderr",
     "output_type": "stream",
     "text": [
      "2020-08-27 12:43:30,150 INFO Request is queued\n",
      "2020-08-27 12:43:31,184 INFO Request is running\n",
      "2020-08-27 12:43:35,005 INFO Request is completed\n",
      "2020-08-27 12:43:35,005 INFO Downloading http://136.156.132.236/cache-compute-0007/cache/data9/adaptor.mars.internal-1598525010.9342277-14782-1-ac74b9b3-aec3-48f8-9ded-6387512e84b6.nc to cache/era5_single-levels-monthly-means_2012_months56789_vertical_integral_of_divergence_of_moisture_fluxvertically_integrated_moisture_divergence_60,50,10,130.nc (1.2M)\n",
      "2020-08-27 12:43:35,352 INFO Download rate 3.6M/s  \n",
      "2020-08-27 12:43:35,524 INFO Welcome to the CDS\n",
      "2020-08-27 12:43:35,525 INFO Sending request to https://cds.climate.copernicus.eu/api/v2/resources/reanalysis-era5-single-levels-monthly-means\n"
     ]
    },
    {
     "name": "stdout",
     "output_type": "stream",
     "text": [
      "file downloaded and saved as  cache/era5_single-levels-monthly-means_2012_months56789_vertical_integral_of_divergence_of_moisture_fluxvertically_integrated_moisture_divergence_60,50,10,130.nc\n"
     ]
    },
    {
     "name": "stderr",
     "output_type": "stream",
     "text": [
      "2020-08-27 12:43:35,638 INFO Request is queued\n",
      "2020-08-27 12:43:36,671 INFO Request is running\n",
      "2020-08-27 12:43:40,493 INFO Request is completed\n",
      "2020-08-27 12:43:40,493 INFO Downloading http://136.156.133.32/cache-compute-0009/cache/data6/adaptor.mars.internal-1598525016.3210807-885-37-1334c0f7-961a-4e80-9b1d-d0d94a5fefe3.nc to cache/era5_single-levels-monthly-means_2013_months56789_vertical_integral_of_divergence_of_moisture_fluxvertically_integrated_moisture_divergence_60,50,10,130.nc (1.2M)\n",
      "2020-08-27 12:43:40,790 INFO Download rate 4.2M/s   \n"
     ]
    },
    {
     "name": "stdout",
     "output_type": "stream",
     "text": [
      "file downloaded and saved as  cache/era5_single-levels-monthly-means_2013_months56789_vertical_integral_of_divergence_of_moisture_fluxvertically_integrated_moisture_divergence_60,50,10,130.nc\n"
     ]
    },
    {
     "name": "stderr",
     "output_type": "stream",
     "text": [
      "2020-08-27 12:43:41,141 INFO Welcome to the CDS\n",
      "2020-08-27 12:43:41,142 INFO Sending request to https://cds.climate.copernicus.eu/api/v2/resources/reanalysis-era5-single-levels-monthly-means\n",
      "2020-08-27 12:43:41,337 INFO Request is queued\n",
      "2020-08-27 12:43:42,372 INFO Request is running\n",
      "2020-08-27 12:43:46,192 INFO Request is completed\n",
      "2020-08-27 12:43:46,193 INFO Downloading http://136.156.132.210/cache-compute-0005/cache/data6/adaptor.mars.internal-1598525021.6766882-16970-11-cb8e70e0-19aa-44a2-942b-bb47daa6174c.nc to cache/era5_single-levels-monthly-means_2014_months56789_vertical_integral_of_divergence_of_moisture_fluxvertically_integrated_moisture_divergence_60,50,10,130.nc (1.2M)\n",
      "2020-08-27 12:43:46,512 INFO Download rate 3.9M/s  \n",
      "2020-08-27 12:43:46,768 INFO Welcome to the CDS\n",
      "2020-08-27 12:43:46,768 INFO Sending request to https://cds.climate.copernicus.eu/api/v2/resources/reanalysis-era5-single-levels-monthly-means\n"
     ]
    },
    {
     "name": "stdout",
     "output_type": "stream",
     "text": [
      "file downloaded and saved as  cache/era5_single-levels-monthly-means_2014_months56789_vertical_integral_of_divergence_of_moisture_fluxvertically_integrated_moisture_divergence_60,50,10,130.nc\n"
     ]
    },
    {
     "name": "stderr",
     "output_type": "stream",
     "text": [
      "2020-08-27 12:43:46,976 INFO Request is queued\n",
      "2020-08-27 12:43:48,011 INFO Request is running\n",
      "2020-08-27 12:43:51,829 INFO Request is completed\n",
      "2020-08-27 12:43:51,830 INFO Downloading http://136.156.132.236/cache-compute-0007/cache/data5/adaptor.mars.internal-1598525027.5225155-13297-13-c759e1c3-380e-4e32-93b8-094ea5f8e223.nc to cache/era5_single-levels-monthly-means_2015_months56789_vertical_integral_of_divergence_of_moisture_fluxvertically_integrated_moisture_divergence_60,50,10,130.nc (1.2M)\n",
      "2020-08-27 12:43:52,178 INFO Download rate 3.5M/s  \n",
      "2020-08-27 12:43:52,412 INFO Welcome to the CDS\n",
      "2020-08-27 12:43:52,413 INFO Sending request to https://cds.climate.copernicus.eu/api/v2/resources/reanalysis-era5-single-levels-monthly-means\n"
     ]
    },
    {
     "name": "stdout",
     "output_type": "stream",
     "text": [
      "file downloaded and saved as  cache/era5_single-levels-monthly-means_2015_months56789_vertical_integral_of_divergence_of_moisture_fluxvertically_integrated_moisture_divergence_60,50,10,130.nc\n"
     ]
    },
    {
     "name": "stderr",
     "output_type": "stream",
     "text": [
      "2020-08-27 12:43:52,632 INFO Request is queued\n",
      "2020-08-27 12:43:53,668 INFO Request is running\n",
      "2020-08-27 12:43:57,486 INFO Request is completed\n",
      "2020-08-27 12:43:57,487 INFO Downloading http://136.156.133.36/cache-compute-0010/cache/data8/adaptor.mars.internal-1598525033.0388792-30890-21-8bd1d80b-e48f-4bea-92dc-1927b4ca9a87.nc to cache/era5_single-levels-monthly-means_2016_months56789_vertical_integral_of_divergence_of_moisture_fluxvertically_integrated_moisture_divergence_60,50,10,130.nc (1.2M)\n",
      "2020-08-27 12:43:57,810 INFO Download rate 3.8M/s  \n",
      "2020-08-27 12:43:57,987 INFO Welcome to the CDS\n",
      "2020-08-27 12:43:57,988 INFO Sending request to https://cds.climate.copernicus.eu/api/v2/resources/reanalysis-era5-single-levels-monthly-means\n"
     ]
    },
    {
     "name": "stdout",
     "output_type": "stream",
     "text": [
      "file downloaded and saved as  cache/era5_single-levels-monthly-means_2016_months56789_vertical_integral_of_divergence_of_moisture_fluxvertically_integrated_moisture_divergence_60,50,10,130.nc\n"
     ]
    },
    {
     "name": "stderr",
     "output_type": "stream",
     "text": [
      "2020-08-27 12:43:58,178 INFO Request is queued\n",
      "2020-08-27 12:43:59,212 INFO Request is running\n",
      "2020-08-27 12:44:03,032 INFO Request is completed\n",
      "2020-08-27 12:44:03,033 INFO Downloading http://136.156.132.235/cache-compute-0006/cache/data8/adaptor.mars.internal-1598525038.3344378-10858-21-2fab0b05-83f1-4fd1-a382-e914b49ae3a5.nc to cache/era5_single-levels-monthly-means_2017_months56789_vertical_integral_of_divergence_of_moisture_fluxvertically_integrated_moisture_divergence_60,50,10,130.nc (1.2M)\n",
      "2020-08-27 12:44:03,382 INFO Download rate 3.5M/s  \n",
      "2020-08-27 12:44:03,645 INFO Welcome to the CDS\n",
      "2020-08-27 12:44:03,646 INFO Sending request to https://cds.climate.copernicus.eu/api/v2/resources/reanalysis-era5-single-levels-monthly-means\n"
     ]
    },
    {
     "name": "stdout",
     "output_type": "stream",
     "text": [
      "file downloaded and saved as  cache/era5_single-levels-monthly-means_2017_months56789_vertical_integral_of_divergence_of_moisture_fluxvertically_integrated_moisture_divergence_60,50,10,130.nc\n"
     ]
    },
    {
     "name": "stderr",
     "output_type": "stream",
     "text": [
      "2020-08-27 12:44:03,791 INFO Request is queued\n",
      "2020-08-27 12:44:04,824 INFO Request is running\n",
      "2020-08-27 12:44:08,640 INFO Request is completed\n",
      "2020-08-27 12:44:08,640 INFO Downloading http://136.156.133.32/cache-compute-0009/cache/data4/adaptor.mars.internal-1598525043.9091425-885-39-d22e7f6d-6b9c-4293-9bc5-350d9d0957c7.nc to cache/era5_single-levels-monthly-means_2018_months56789_vertical_integral_of_divergence_of_moisture_fluxvertically_integrated_moisture_divergence_60,50,10,130.nc (1.2M)\n",
      "2020-08-27 12:44:08,962 INFO Download rate 3.8M/s  \n",
      "2020-08-27 12:44:09,278 INFO Welcome to the CDS\n",
      "2020-08-27 12:44:09,278 INFO Sending request to https://cds.climate.copernicus.eu/api/v2/resources/reanalysis-era5-single-levels-monthly-means\n"
     ]
    },
    {
     "name": "stdout",
     "output_type": "stream",
     "text": [
      "file downloaded and saved as  cache/era5_single-levels-monthly-means_2018_months56789_vertical_integral_of_divergence_of_moisture_fluxvertically_integrated_moisture_divergence_60,50,10,130.nc\n"
     ]
    },
    {
     "name": "stderr",
     "output_type": "stream",
     "text": [
      "2020-08-27 12:44:09,382 INFO Request is queued\n",
      "2020-08-27 12:44:10,415 INFO Request is running\n",
      "2020-08-27 12:44:14,232 INFO Request is completed\n",
      "2020-08-27 12:44:14,232 INFO Downloading http://136.156.133.46/cache-compute-0015/cache/data5/adaptor.mars.internal-1598525049.5165408-18026-25-86fca7da-92ef-42be-bfd3-16882452976b.nc to cache/era5_single-levels-monthly-means_2019_months56789_vertical_integral_of_divergence_of_moisture_fluxvertically_integrated_moisture_divergence_60,50,10,130.nc (1.2M)\n",
      "2020-08-27 12:44:14,550 INFO Download rate 3.9M/s  \n"
     ]
    },
    {
     "name": "stdout",
     "output_type": "stream",
     "text": [
      "file downloaded and saved as  cache/era5_single-levels-monthly-means_2019_months56789_vertical_integral_of_divergence_of_moisture_fluxvertically_integrated_moisture_divergence_60,50,10,130.nc\n"
     ]
    }
   ],
   "source": [
    "# download data \n",
    "era5_single.get_data_per_year(years = list(np.arange(1979,2020).astype(str)), months = list(np.arange(5,10).astype(str)))"
   ]
  },
  {
   "cell_type": "markdown",
   "metadata": {},
   "source": [
    "## Hourly ERA5 precip data for wavelet spectrum analysis "
   ]
  },
  {
   "cell_type": "code",
   "execution_count": null,
   "metadata": {},
   "outputs": [
    {
     "name": "stderr",
     "output_type": "stream",
     "text": [
      "2020-08-27 12:45:32,830 INFO Welcome to the CDS\n",
      "2020-08-27 12:45:32,830 INFO Sending request to https://cds.climate.copernicus.eu/api/v2/resources/reanalysis-era5-single-levels\n"
     ]
    },
    {
     "name": "stdout",
     "output_type": "stream",
     "text": [
      "omittted download for  era5_single-levels_1982_months56789_convective_precipitationlarge_scale_precipitationtotal_precipitationevaporation_60,50,10,130.nc\n"
     ]
    },
    {
     "name": "stderr",
     "output_type": "stream",
     "text": [
      "2020-08-27 12:45:32,985 INFO Request is completed\n",
      "2020-08-27 12:45:32,985 INFO Downloading http://136.156.133.37/cache-compute-0011/cache/data0/adaptor.mars.internal-1598523527.6131334-13236-5-df077f2a-727c-45c0-bda7-61915060dd85.nc to cache/era5_single-levels_1983_months56789_convective_precipitationlarge_scale_precipitationtotal_precipitationevaporation_60,50,10,130.nc (1.8G)\n",
      "2020-08-27 12:49:05,777 INFO Download rate 8.5M/s   \n",
      "2020-08-27 12:49:06,119 INFO Welcome to the CDS\n",
      "2020-08-27 12:49:06,119 INFO Sending request to https://cds.climate.copernicus.eu/api/v2/resources/reanalysis-era5-single-levels\n"
     ]
    },
    {
     "name": "stdout",
     "output_type": "stream",
     "text": [
      "file downloaded and saved as  cache/era5_single-levels_1983_months56789_convective_precipitationlarge_scale_precipitationtotal_precipitationevaporation_60,50,10,130.nc\n"
     ]
    },
    {
     "name": "stderr",
     "output_type": "stream",
     "text": [
      "2020-08-27 12:49:06,605 INFO Request is queued\n",
      "2020-08-27 12:49:07,638 INFO Request is running\n",
      "2020-08-27 13:15:26,808 INFO Request is completed\n",
      "2020-08-27 13:15:26,809 INFO Downloading http://136.156.132.105/cache-compute-0000/cache/data0/adaptor.mars.internal-1598525346.7679303-27924-39-50b2fff2-ee1b-40ff-b688-ffb205580915.nc to cache/era5_single-levels_1984_months56789_convective_precipitationlarge_scale_precipitationtotal_precipitationevaporation_60,50,10,130.nc (1.8G)\n",
      "2020-08-27 13:18:48,679 INFO Download rate 9M/s     \n",
      "2020-08-27 13:18:49,453 INFO Welcome to the CDS\n",
      "2020-08-27 13:18:49,453 INFO Sending request to https://cds.climate.copernicus.eu/api/v2/resources/reanalysis-era5-single-levels\n"
     ]
    },
    {
     "name": "stdout",
     "output_type": "stream",
     "text": [
      "file downloaded and saved as  cache/era5_single-levels_1984_months56789_convective_precipitationlarge_scale_precipitationtotal_precipitationevaporation_60,50,10,130.nc\n"
     ]
    },
    {
     "name": "stderr",
     "output_type": "stream",
     "text": [
      "2020-08-27 13:18:51,120 INFO Request is queued\n",
      "2020-08-27 13:18:53,688 INFO Request is running\n",
      "2020-08-27 13:43:11,156 INFO Request is completed\n",
      "2020-08-27 13:43:11,157 INFO Downloading http://136.156.133.42/cache-compute-0014/cache/data7/adaptor.mars.internal-1598527132.788269-23651-19-ef198261-438c-49c6-a86d-9aa038cfb28a.nc to cache/era5_single-levels_1985_months56789_convective_precipitationlarge_scale_precipitationtotal_precipitationevaporation_60,50,10,130.nc (1.8G)\n",
      "2020-08-27 13:46:29,939 INFO Download rate 9.1M/s   \n",
      "2020-08-27 13:46:30,369 INFO Welcome to the CDS\n",
      "2020-08-27 13:46:30,369 INFO Sending request to https://cds.climate.copernicus.eu/api/v2/resources/reanalysis-era5-single-levels\n"
     ]
    },
    {
     "name": "stdout",
     "output_type": "stream",
     "text": [
      "file downloaded and saved as  cache/era5_single-levels_1985_months56789_convective_precipitationlarge_scale_precipitationtotal_precipitationevaporation_60,50,10,130.nc\n"
     ]
    },
    {
     "name": "stderr",
     "output_type": "stream",
     "text": [
      "2020-08-27 13:46:30,620 INFO Request is queued\n",
      "2020-08-27 13:46:31,654 INFO Request is running\n",
      "2020-08-27 14:12:50,652 INFO Request is completed\n",
      "2020-08-27 14:12:50,652 INFO Downloading http://136.156.133.41/cache-compute-0013/cache/data5/adaptor.mars.internal-1598528791.1314566-24312-21-c03e91f6-391e-4ac0-8ecd-d7b4ffe62a08.nc to cache/era5_single-levels_1986_months56789_convective_precipitationlarge_scale_precipitationtotal_precipitationevaporation_60,50,10,130.nc (1.8G)\n",
      "2020-08-27 14:16:19,991 INFO Download rate 8.6M/s   \n",
      "2020-08-27 14:16:20,811 INFO Welcome to the CDS\n",
      "2020-08-27 14:16:20,812 INFO Sending request to https://cds.climate.copernicus.eu/api/v2/resources/reanalysis-era5-single-levels\n"
     ]
    },
    {
     "name": "stdout",
     "output_type": "stream",
     "text": [
      "file downloaded and saved as  cache/era5_single-levels_1986_months56789_convective_precipitationlarge_scale_precipitationtotal_precipitationevaporation_60,50,10,130.nc\n"
     ]
    },
    {
     "name": "stderr",
     "output_type": "stream",
     "text": [
      "2020-08-27 14:16:25,218 INFO Request is queued\n",
      "2020-08-27 14:16:26,251 INFO Request is running\n",
      "2020-08-27 14:40:45,286 INFO Request is completed\n",
      "2020-08-27 14:40:45,287 INFO Downloading http://136.156.133.46/cache-compute-0015/cache/data6/adaptor.mars.internal-1598530586.1858952-4724-7-3ab266c2-3f03-428a-9906-ed11fba2f5c0.nc to cache/era5_single-levels_1987_months56789_convective_precipitationlarge_scale_precipitationtotal_precipitationevaporation_60,50,10,130.nc (1.8G)\n",
      "2020-08-27 14:44:55,564 INFO Download rate 7.2M/s   \n",
      "2020-08-27 14:44:56,382 INFO Welcome to the CDS\n",
      "2020-08-27 14:44:56,383 INFO Sending request to https://cds.climate.copernicus.eu/api/v2/resources/reanalysis-era5-single-levels\n"
     ]
    },
    {
     "name": "stdout",
     "output_type": "stream",
     "text": [
      "file downloaded and saved as  cache/era5_single-levels_1987_months56789_convective_precipitationlarge_scale_precipitationtotal_precipitationevaporation_60,50,10,130.nc\n"
     ]
    },
    {
     "name": "stderr",
     "output_type": "stream",
     "text": [
      "2020-08-27 14:44:56,501 INFO Request is queued\n",
      "2020-08-27 14:44:57,535 INFO Request is running\n",
      "2020-08-27 15:09:16,477 INFO Request is completed\n",
      "2020-08-27 15:09:16,478 INFO Downloading http://136.156.132.236/cache-compute-0007/cache/data9/adaptor.mars.internal-1598532296.7733698-20004-1-8c5a101e-2142-41a2-bf7f-4cfd327dcbef.nc to cache/era5_single-levels_1988_months56789_convective_precipitationlarge_scale_precipitationtotal_precipitationevaporation_60,50,10,130.nc (1.8G)\n",
      "2020-08-27 15:13:18,161 INFO Download rate 7.5M/s   \n",
      "2020-08-27 15:13:19,130 INFO Welcome to the CDS\n",
      "2020-08-27 15:13:19,131 INFO Sending request to https://cds.climate.copernicus.eu/api/v2/resources/reanalysis-era5-single-levels\n"
     ]
    },
    {
     "name": "stdout",
     "output_type": "stream",
     "text": [
      "file downloaded and saved as  cache/era5_single-levels_1988_months56789_convective_precipitationlarge_scale_precipitationtotal_precipitationevaporation_60,50,10,130.nc\n"
     ]
    },
    {
     "name": "stderr",
     "output_type": "stream",
     "text": [
      "2020-08-27 15:13:20,744 INFO Request is queued\n",
      "2020-08-27 15:13:23,313 INFO Request is running\n",
      "2020-08-27 15:35:40,665 INFO Request is completed\n",
      "2020-08-27 15:35:40,665 INFO Downloading http://136.156.133.25/cache-compute-0008/cache/data4/adaptor.mars.internal-1598534002.8744597-29096-3-d4e5f276-7268-4b31-a4c0-f68e896acd4f.nc to cache/era5_single-levels_1989_months56789_convective_precipitationlarge_scale_precipitationtotal_precipitationevaporation_60,50,10,130.nc (1.8G)\n",
      " 68%|██████▊   | 1.20G/1.77G [02:39<18:12, 551kB/s] "
     ]
    }
   ],
   "source": [
    "# ERA5 pressure levels, variables q u v p, monthly resolution, domain \n",
    "variables = ['convective_precipitation', 'large_scale_precipitation', 'total_precipitation', 'evaporation']\n",
    "era5_single= creampy.dataproducts.ERA5('single-levels', variables, 'hourly', domain = ['60', '50', '10','130'] )\n",
    "\n",
    "# download data \n",
    "era5_single.get_data_per_year(years = list(np.arange(1982,2020).astype(str)), months = list(np.arange(5,10).astype(str)))"
   ]
  }
 ],
 "metadata": {
  "kernelspec": {
   "display_name": "Python 3",
   "language": "python",
   "name": "python3"
  },
  "language_info": {
   "codemirror_mode": {
    "name": "ipython",
    "version": 3
   },
   "file_extension": ".py",
   "mimetype": "text/x-python",
   "name": "python",
   "nbconvert_exporter": "python",
   "pygments_lexer": "ipython3",
   "version": "3.6.7"
  }
 },
 "nbformat": 4,
 "nbformat_minor": 2
}
