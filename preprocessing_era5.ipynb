{
 "cells": [
  {
   "cell_type": "markdown",
   "metadata": {},
   "source": [
    "## Download ERA5 summer mean variables at pressure levels\n"
   ]
  },
  {
   "cell_type": "code",
   "execution_count": 3,
   "metadata": {},
   "outputs": [],
   "source": [
    "import creampy\n",
    "from creampy.dataproducts import Pressure, Surface \n",
    "import xarray as xr\n",
    "import numpy as np"
   ]
  },
  {
   "cell_type": "code",
   "execution_count": 8,
   "metadata": {},
   "outputs": [],
   "source": [
    "# ERA5 pressure levels, variables q u v p, monthly resolution, domain \n",
    "variables =  ['geopotential', 'specific_humidity', 'u_component_of_wind',\n",
    "            'v_component_of_wind']\n",
    "\n",
    "variables = ['surface_pressure']\n",
    "\n",
    "\n",
    "variables = ['precipitation', 'large_scale_precipitation', 'convective_precipitation']\n",
    "\n",
    "variables= ['vertical_integral_of_eastward_water_vapour_flux', 'vertical_integral_of_northward_water_vapour_flux', 'geopotential']\n",
    "\n",
    "variables = ['2m_temperature']\n"
   ]
  },
  {
   "cell_type": "code",
   "execution_count": 10,
   "metadata": {},
   "outputs": [
    {
     "name": "stderr",
     "output_type": "stream",
     "text": [
      "2020-12-10 13:35:23,285 INFO Welcome to the CDS\n",
      "2020-12-10 13:35:23,287 INFO Sending request to https://cds.climate.copernicus.eu/api/v2/resources/reanalysis-era5-single-levels-monthly-means\n",
      "2020-12-10 13:35:23,514 INFO Request is queued\n",
      "2020-12-10 13:35:24,554 INFO Request is running\n",
      "2020-12-10 13:35:26,094 INFO Request is completed\n",
      "2020-12-10 13:35:26,096 INFO Downloading http://136.156.132.201/cache-compute-0004/cache/data6/adaptor.mars.internal-1607603723.6790206-28131-22-56a56de3-eaf0-4b68-b7b3-f8c12a5fb1e0.nc to cache/era5_single-levels-monthly-means_1979_months56789_2m_temperature_60,50,10,130.nc (633.2K)\n",
      "2020-12-10 13:35:26,340 INFO Download rate 2.6M/s \n",
      "2020-12-10 13:35:26,527 INFO Welcome to the CDS\n",
      "2020-12-10 13:35:26,529 INFO Sending request to https://cds.climate.copernicus.eu/api/v2/resources/reanalysis-era5-single-levels-monthly-means\n"
     ]
    },
    {
     "name": "stdout",
     "output_type": "stream",
     "text": [
      "file downloaded and saved as  cache/era5_single-levels-monthly-means_1979_months56789_2m_temperature_60,50,10,130.nc\n"
     ]
    },
    {
     "name": "stderr",
     "output_type": "stream",
     "text": [
      "2020-12-10 13:35:26,606 INFO Request is queued\n",
      "2020-12-10 13:35:27,651 INFO Request is running\n",
      "2020-12-10 13:35:29,191 INFO Request is completed\n",
      "2020-12-10 13:35:29,194 INFO Downloading http://136.156.133.25/cache-compute-0008/cache/data1/adaptor.mars.internal-1607603726.6621711-15794-12-9f41acae-fd3d-49d4-b420-6da4bcfe8f41.nc to cache/era5_single-levels-monthly-means_1980_months56789_2m_temperature_60,50,10,130.nc (633.2K)\n",
      "2020-12-10 13:35:29,456 INFO Download rate 2.4M/s \n",
      "2020-12-10 13:35:29,648 INFO Welcome to the CDS\n",
      "2020-12-10 13:35:29,649 INFO Sending request to https://cds.climate.copernicus.eu/api/v2/resources/reanalysis-era5-single-levels-monthly-means\n"
     ]
    },
    {
     "name": "stdout",
     "output_type": "stream",
     "text": [
      "file downloaded and saved as  cache/era5_single-levels-monthly-means_1980_months56789_2m_temperature_60,50,10,130.nc\n"
     ]
    },
    {
     "name": "stderr",
     "output_type": "stream",
     "text": [
      "2020-12-10 13:35:29,721 INFO Request is queued\n",
      "2020-12-10 13:35:30,761 INFO Request is running\n",
      "2020-12-10 13:35:43,109 INFO Request is completed\n",
      "2020-12-10 13:35:43,111 INFO Downloading http://136.156.133.37/cache-compute-0011/cache/data7/adaptor.mars.internal-1607603729.816536-12758-23-eceb2940-de62-4260-aad8-33428674a524.nc to cache/era5_single-levels-monthly-means_1981_months56789_2m_temperature_60,50,10,130.nc (633.2K)\n",
      "2020-12-10 13:35:43,362 INFO Download rate 2.5M/s \n",
      "2020-12-10 13:35:43,552 INFO Welcome to the CDS\n",
      "2020-12-10 13:35:43,554 INFO Sending request to https://cds.climate.copernicus.eu/api/v2/resources/reanalysis-era5-single-levels-monthly-means\n"
     ]
    },
    {
     "name": "stdout",
     "output_type": "stream",
     "text": [
      "file downloaded and saved as  cache/era5_single-levels-monthly-means_1981_months56789_2m_temperature_60,50,10,130.nc\n"
     ]
    },
    {
     "name": "stderr",
     "output_type": "stream",
     "text": [
      "2020-12-10 13:35:43,608 INFO Request is queued\n",
      "2020-12-10 13:35:44,648 INFO Request is running\n",
      "2020-12-10 13:35:46,191 INFO Request is completed\n",
      "2020-12-10 13:35:46,193 INFO Downloading http://136.156.132.235/cache-compute-0006/cache/data7/adaptor.mars.internal-1607603743.7700012-15573-11-0541e220-b690-4fa9-8c47-b42101c6ec1c.nc to cache/era5_single-levels-monthly-means_1982_months56789_2m_temperature_60,50,10,130.nc (633.2K)\n",
      "2020-12-10 13:35:46,448 INFO Download rate 2.4M/s \n",
      "2020-12-10 13:35:46,638 INFO Welcome to the CDS\n",
      "2020-12-10 13:35:46,640 INFO Sending request to https://cds.climate.copernicus.eu/api/v2/resources/reanalysis-era5-single-levels-monthly-means\n"
     ]
    },
    {
     "name": "stdout",
     "output_type": "stream",
     "text": [
      "file downloaded and saved as  cache/era5_single-levels-monthly-means_1982_months56789_2m_temperature_60,50,10,130.nc\n"
     ]
    },
    {
     "name": "stderr",
     "output_type": "stream",
     "text": [
      "2020-12-10 13:35:46,711 INFO Request is queued\n",
      "2020-12-10 13:35:47,752 INFO Request is running\n",
      "2020-12-10 13:35:49,293 INFO Request is completed\n",
      "2020-12-10 13:35:49,294 INFO Downloading http://136.156.133.42/cache-compute-0014/cache/data5/adaptor.mars.internal-1607603746.8603587-7257-25-cb6e298e-9357-4117-a0a0-cb194fb20920.nc to cache/era5_single-levels-monthly-means_1983_months56789_2m_temperature_60,50,10,130.nc (633.2K)\n",
      "2020-12-10 13:35:49,563 INFO Download rate 2.3M/s \n",
      "2020-12-10 13:35:49,753 INFO Welcome to the CDS\n",
      "2020-12-10 13:35:49,755 INFO Sending request to https://cds.climate.copernicus.eu/api/v2/resources/reanalysis-era5-single-levels-monthly-means\n"
     ]
    },
    {
     "name": "stdout",
     "output_type": "stream",
     "text": [
      "file downloaded and saved as  cache/era5_single-levels-monthly-means_1983_months56789_2m_temperature_60,50,10,130.nc\n"
     ]
    },
    {
     "name": "stderr",
     "output_type": "stream",
     "text": [
      "2020-12-10 13:35:49,840 INFO Request is queued\n",
      "2020-12-10 13:35:50,880 INFO Request is running\n",
      "2020-12-10 13:35:54,711 INFO Request is completed\n",
      "2020-12-10 13:35:54,713 INFO Downloading http://136.156.133.36/cache-compute-0010/cache/data0/adaptor.mars.internal-1607603750.9609878-24991-26-ccb42609-83fe-461f-912e-b96985d71e84.nc to cache/era5_single-levels-monthly-means_1984_months56789_2m_temperature_60,50,10,130.nc (633.2K)\n",
      "2020-12-10 13:35:55,248 INFO Download rate 1.2M/s \n",
      "2020-12-10 13:35:55,439 INFO Welcome to the CDS\n",
      "2020-12-10 13:35:55,441 INFO Sending request to https://cds.climate.copernicus.eu/api/v2/resources/reanalysis-era5-single-levels-monthly-means\n"
     ]
    },
    {
     "name": "stdout",
     "output_type": "stream",
     "text": [
      "file downloaded and saved as  cache/era5_single-levels-monthly-means_1984_months56789_2m_temperature_60,50,10,130.nc\n"
     ]
    },
    {
     "name": "stderr",
     "output_type": "stream",
     "text": [
      "2020-12-10 13:35:55,522 INFO Request is queued\n",
      "2020-12-10 13:35:56,563 INFO Request is running\n",
      "2020-12-10 13:36:00,395 INFO Request is completed\n",
      "2020-12-10 13:36:00,397 INFO Downloading http://136.156.133.41/cache-compute-0013/cache/data4/adaptor.mars.internal-1607603755.7248862-1896-21-ea78b8e4-2f35-43fb-ad9c-debedfdc2623.nc to cache/era5_single-levels-monthly-means_1985_months56789_2m_temperature_60,50,10,130.nc (633.2K)\n",
      "2020-12-10 13:36:00,960 INFO Download rate 1.1M/s \n",
      "2020-12-10 13:36:01,270 INFO Welcome to the CDS\n",
      "2020-12-10 13:36:01,271 INFO Sending request to https://cds.climate.copernicus.eu/api/v2/resources/reanalysis-era5-single-levels-monthly-means\n"
     ]
    },
    {
     "name": "stdout",
     "output_type": "stream",
     "text": [
      "file downloaded and saved as  cache/era5_single-levels-monthly-means_1985_months56789_2m_temperature_60,50,10,130.nc\n"
     ]
    },
    {
     "name": "stderr",
     "output_type": "stream",
     "text": [
      "2020-12-10 13:36:01,399 INFO Request is queued\n",
      "2020-12-10 13:36:03,978 INFO Request is running\n",
      "2020-12-10 13:36:06,270 INFO Request is completed\n",
      "2020-12-10 13:36:06,272 INFO Downloading http://136.156.132.110/cache-compute-0001/cache/data0/adaptor.mars.internal-1607603762.750232-802-7-73974ca9-b1cc-4a7e-b85d-4f71629b4399.nc to cache/era5_single-levels-monthly-means_1986_months56789_2m_temperature_60,50,10,130.nc (633.2K)\n",
      "2020-12-10 13:36:06,527 INFO Download rate 2.4M/s \n",
      "2020-12-10 13:36:06,718 INFO Welcome to the CDS\n",
      "2020-12-10 13:36:06,721 INFO Sending request to https://cds.climate.copernicus.eu/api/v2/resources/reanalysis-era5-single-levels-monthly-means\n",
      "2020-12-10 13:36:06,765 INFO Request is queued\n"
     ]
    },
    {
     "name": "stdout",
     "output_type": "stream",
     "text": [
      "file downloaded and saved as  cache/era5_single-levels-monthly-means_1986_months56789_2m_temperature_60,50,10,130.nc\n"
     ]
    },
    {
     "name": "stderr",
     "output_type": "stream",
     "text": [
      "2020-12-10 13:36:09,347 INFO Request is running\n",
      "2020-12-10 13:36:11,639 INFO Request is completed\n",
      "2020-12-10 13:36:11,642 INFO Downloading http://136.156.132.235/cache-compute-0006/cache/data9/adaptor.mars.internal-1607603768.043364-16556-3-03bbc00e-6339-4d8a-9198-443ba99a3325.nc to cache/era5_single-levels-monthly-means_1987_months56789_2m_temperature_60,50,10,130.nc (633.2K)\n",
      "2020-12-10 13:36:11,903 INFO Download rate 2.4M/s \n",
      "2020-12-10 13:36:12,130 INFO Welcome to the CDS\n",
      "2020-12-10 13:36:12,132 INFO Sending request to https://cds.climate.copernicus.eu/api/v2/resources/reanalysis-era5-single-levels-monthly-means\n"
     ]
    },
    {
     "name": "stdout",
     "output_type": "stream",
     "text": [
      "file downloaded and saved as  cache/era5_single-levels-monthly-means_1987_months56789_2m_temperature_60,50,10,130.nc\n"
     ]
    },
    {
     "name": "stderr",
     "output_type": "stream",
     "text": [
      "2020-12-10 13:36:12,223 INFO Request is queued\n",
      "2020-12-10 13:36:13,266 INFO Request is running\n",
      "2020-12-10 13:36:20,512 INFO Request is completed\n",
      "2020-12-10 13:36:20,513 INFO Downloading http://136.156.133.41/cache-compute-0013/cache/data4/adaptor.mars.internal-1607603772.5067105-2126-13-7f76f023-7e90-4106-bf0b-bac9aa6c492a.nc to cache/era5_single-levels-monthly-means_1988_months56789_2m_temperature_60,50,10,130.nc (633.2K)\n",
      "2020-12-10 13:36:20,773 INFO Download rate 2.4M/s \n",
      "2020-12-10 13:36:20,962 INFO Welcome to the CDS\n",
      "2020-12-10 13:36:20,964 INFO Sending request to https://cds.climate.copernicus.eu/api/v2/resources/reanalysis-era5-single-levels-monthly-means\n"
     ]
    },
    {
     "name": "stdout",
     "output_type": "stream",
     "text": [
      "file downloaded and saved as  cache/era5_single-levels-monthly-means_1988_months56789_2m_temperature_60,50,10,130.nc\n"
     ]
    },
    {
     "name": "stderr",
     "output_type": "stream",
     "text": [
      "2020-12-10 13:36:21,083 INFO Request is queued\n",
      "2020-12-10 13:36:22,125 INFO Request is running\n",
      "2020-12-10 13:36:23,666 INFO Request is completed\n",
      "2020-12-10 13:36:23,668 INFO Downloading http://136.156.133.42/cache-compute-0014/cache/data3/adaptor.mars.internal-1607603781.1475124-10500-3-98705cbc-9928-484e-a2e0-61af9acaf714.nc to cache/era5_single-levels-monthly-means_1989_months56789_2m_temperature_60,50,10,130.nc (633.2K)\n",
      "2020-12-10 13:36:24,172 INFO Download rate 1.2M/s \n",
      "2020-12-10 13:36:24,337 INFO Welcome to the CDS\n",
      "2020-12-10 13:36:24,338 INFO Sending request to https://cds.climate.copernicus.eu/api/v2/resources/reanalysis-era5-single-levels-monthly-means\n"
     ]
    },
    {
     "name": "stdout",
     "output_type": "stream",
     "text": [
      "file downloaded and saved as  cache/era5_single-levels-monthly-means_1989_months56789_2m_temperature_60,50,10,130.nc\n"
     ]
    },
    {
     "name": "stderr",
     "output_type": "stream",
     "text": [
      "2020-12-10 13:36:24,607 INFO Request is queued\n",
      "2020-12-10 13:36:25,647 INFO Request is running\n",
      "2020-12-10 13:36:29,475 INFO Request is completed\n",
      "2020-12-10 13:36:29,477 INFO Downloading http://136.156.133.46/cache-compute-0015/cache/data1/adaptor.mars.internal-1607603784.7756767-4833-7-d9d08fe6-669c-4d6c-bda5-22f2c01b867e.nc to cache/era5_single-levels-monthly-means_1990_months56789_2m_temperature_60,50,10,130.nc (633.2K)\n",
      "2020-12-10 13:36:29,731 INFO Download rate 2.5M/s \n",
      "2020-12-10 13:36:29,920 INFO Welcome to the CDS\n",
      "2020-12-10 13:36:29,922 INFO Sending request to https://cds.climate.copernicus.eu/api/v2/resources/reanalysis-era5-single-levels-monthly-means\n"
     ]
    },
    {
     "name": "stdout",
     "output_type": "stream",
     "text": [
      "file downloaded and saved as  cache/era5_single-levels-monthly-means_1990_months56789_2m_temperature_60,50,10,130.nc\n"
     ]
    },
    {
     "name": "stderr",
     "output_type": "stream",
     "text": [
      "2020-12-10 13:36:30,030 INFO Request is queued\n",
      "2020-12-10 13:36:31,071 INFO Request is running\n",
      "2020-12-10 13:36:34,902 INFO Request is completed\n",
      "2020-12-10 13:36:34,905 INFO Downloading http://136.156.133.46/cache-compute-0015/cache/data1/adaptor.mars.internal-1607603790.7290952-4869-29-2ad66200-79b0-487b-90df-4e26de8366ef.nc to cache/era5_single-levels-monthly-means_1991_months56789_2m_temperature_60,50,10,130.nc (633.2K)\n",
      "2020-12-10 13:36:35,152 INFO Download rate 2.5M/s \n",
      "2020-12-10 13:36:35,341 INFO Welcome to the CDS\n",
      "2020-12-10 13:36:35,343 INFO Sending request to https://cds.climate.copernicus.eu/api/v2/resources/reanalysis-era5-single-levels-monthly-means\n"
     ]
    },
    {
     "name": "stdout",
     "output_type": "stream",
     "text": [
      "file downloaded and saved as  cache/era5_single-levels-monthly-means_1991_months56789_2m_temperature_60,50,10,130.nc\n"
     ]
    },
    {
     "name": "stderr",
     "output_type": "stream",
     "text": [
      "2020-12-10 13:36:35,491 INFO Request is queued\n",
      "2020-12-10 13:36:36,531 INFO Request is running\n",
      "2020-12-10 13:36:40,363 INFO Request is completed\n",
      "2020-12-10 13:36:40,365 INFO Downloading http://136.156.132.236/cache-compute-0007/cache/data9/adaptor.mars.internal-1607603796.4549956-19279-3-21ee119b-f1ab-4ef5-bb9e-48f4b379ab08.nc to cache/era5_single-levels-monthly-means_1992_months56789_2m_temperature_60,50,10,130.nc (633.2K)\n",
      "2020-12-10 13:36:40,925 INFO Download rate 1.1M/s \n"
     ]
    },
    {
     "name": "stdout",
     "output_type": "stream",
     "text": [
      "file downloaded and saved as  cache/era5_single-levels-monthly-means_1992_months56789_2m_temperature_60,50,10,130.nc\n"
     ]
    },
    {
     "name": "stderr",
     "output_type": "stream",
     "text": [
      "2020-12-10 13:36:41,345 INFO Welcome to the CDS\n",
      "2020-12-10 13:36:41,346 INFO Sending request to https://cds.climate.copernicus.eu/api/v2/resources/reanalysis-era5-single-levels-monthly-means\n",
      "2020-12-10 13:36:41,451 INFO Request is queued\n",
      "2020-12-10 13:36:42,491 INFO Request is running\n",
      "2020-12-10 13:36:46,322 INFO Request is completed\n",
      "2020-12-10 13:36:46,324 INFO Downloading http://136.156.133.41/cache-compute-0013/cache/data9/adaptor.mars.internal-1607603801.7135081-2126-15-5ff9bf27-b091-414c-a27f-7a4e11570abe.nc to cache/era5_single-levels-monthly-means_1993_months56789_2m_temperature_60,50,10,130.nc (633.2K)\n",
      "2020-12-10 13:36:46,570 INFO Download rate 2.5M/s \n",
      "2020-12-10 13:36:46,759 INFO Welcome to the CDS\n",
      "2020-12-10 13:36:46,761 INFO Sending request to https://cds.climate.copernicus.eu/api/v2/resources/reanalysis-era5-single-levels-monthly-means\n"
     ]
    },
    {
     "name": "stdout",
     "output_type": "stream",
     "text": [
      "file downloaded and saved as  cache/era5_single-levels-monthly-means_1993_months56789_2m_temperature_60,50,10,130.nc\n"
     ]
    },
    {
     "name": "stderr",
     "output_type": "stream",
     "text": [
      "2020-12-10 13:36:46,842 INFO Request is queued\n",
      "2020-12-10 13:36:47,884 INFO Request is running\n",
      "2020-12-10 13:36:51,717 INFO Request is completed\n",
      "2020-12-10 13:36:51,719 INFO Downloading http://136.156.132.153/cache-compute-0002/cache/data0/adaptor.mars.internal-1607603806.9025261-20218-15-7465e551-a8ab-4172-b442-f5add5786956.nc to cache/era5_single-levels-monthly-means_1994_months56789_2m_temperature_60,50,10,130.nc (633.2K)\n",
      "2020-12-10 13:36:52,018 INFO Download rate 2.1M/s \n",
      "2020-12-10 13:36:52,213 INFO Welcome to the CDS\n",
      "2020-12-10 13:36:52,215 INFO Sending request to https://cds.climate.copernicus.eu/api/v2/resources/reanalysis-era5-single-levels-monthly-means\n"
     ]
    },
    {
     "name": "stdout",
     "output_type": "stream",
     "text": [
      "file downloaded and saved as  cache/era5_single-levels-monthly-means_1994_months56789_2m_temperature_60,50,10,130.nc\n"
     ]
    },
    {
     "name": "stderr",
     "output_type": "stream",
     "text": [
      "2020-12-10 13:36:52,309 INFO Request is queued\n",
      "2020-12-10 13:36:54,888 INFO Request is running\n",
      "2020-12-10 13:36:57,179 INFO Request is completed\n",
      "2020-12-10 13:36:57,182 INFO Downloading http://136.156.132.201/cache-compute-0004/cache/data0/adaptor.mars.internal-1607603813.7091336-28128-20-d71ad1a0-83d9-4266-9b7f-547e82a2fd25.nc to cache/era5_single-levels-monthly-means_1995_months56789_2m_temperature_60,50,10,130.nc (633.2K)\n",
      "2020-12-10 13:36:57,436 INFO Download rate 2.4M/s \n",
      "2020-12-10 13:36:57,629 INFO Welcome to the CDS\n",
      "2020-12-10 13:36:57,631 INFO Sending request to https://cds.climate.copernicus.eu/api/v2/resources/reanalysis-era5-single-levels-monthly-means\n"
     ]
    },
    {
     "name": "stdout",
     "output_type": "stream",
     "text": [
      "file downloaded and saved as  cache/era5_single-levels-monthly-means_1995_months56789_2m_temperature_60,50,10,130.nc\n"
     ]
    },
    {
     "name": "stderr",
     "output_type": "stream",
     "text": [
      "2020-12-10 13:36:57,716 INFO Request is queued\n",
      "2020-12-10 13:36:58,755 INFO Request is running\n",
      "2020-12-10 13:37:02,584 INFO Request is completed\n",
      "2020-12-10 13:37:02,587 INFO Downloading http://136.156.133.36/cache-compute-0010/cache/data7/adaptor.mars.internal-1607603818.7824352-24991-29-3944ddb6-a063-4a58-abbd-3a006438dfd8.nc to cache/era5_single-levels-monthly-means_1996_months56789_2m_temperature_60,50,10,130.nc (633.2K)\n",
      "2020-12-10 13:37:02,847 INFO Download rate 2.4M/s \n",
      "2020-12-10 13:37:03,036 INFO Welcome to the CDS\n",
      "2020-12-10 13:37:03,038 INFO Sending request to https://cds.climate.copernicus.eu/api/v2/resources/reanalysis-era5-single-levels-monthly-means\n"
     ]
    },
    {
     "name": "stdout",
     "output_type": "stream",
     "text": [
      "file downloaded and saved as  cache/era5_single-levels-monthly-means_1996_months56789_2m_temperature_60,50,10,130.nc\n"
     ]
    },
    {
     "name": "stderr",
     "output_type": "stream",
     "text": [
      "2020-12-10 13:37:03,741 INFO Request is queued\n",
      "2020-12-10 13:37:04,780 INFO Request is running\n",
      "2020-12-10 13:37:06,319 INFO Request is completed\n",
      "2020-12-10 13:37:06,322 INFO Downloading http://136.156.132.236/cache-compute-0007/cache/data9/adaptor.mars.internal-1607603823.8261955-13290-21-1dda7cda-dd8f-4e10-8872-424fd3af537a.nc to cache/era5_single-levels-monthly-means_1997_months56789_2m_temperature_60,50,10,130.nc (633.2K)\n",
      "2020-12-10 13:37:06,574 INFO Download rate 2.5M/s \n",
      "2020-12-10 13:37:06,733 INFO Welcome to the CDS\n",
      "2020-12-10 13:37:06,734 INFO Sending request to https://cds.climate.copernicus.eu/api/v2/resources/reanalysis-era5-single-levels-monthly-means\n",
      "2020-12-10 13:37:06,799 INFO Request is queued\n"
     ]
    },
    {
     "name": "stdout",
     "output_type": "stream",
     "text": [
      "file downloaded and saved as  cache/era5_single-levels-monthly-means_1997_months56789_2m_temperature_60,50,10,130.nc\n"
     ]
    },
    {
     "name": "stderr",
     "output_type": "stream",
     "text": [
      "2020-12-10 13:37:09,377 INFO Request is running\n",
      "2020-12-10 13:37:11,673 INFO Request is completed\n",
      "2020-12-10 13:37:11,676 INFO Downloading http://136.156.132.236/cache-compute-0007/cache/data1/adaptor.mars.internal-1607603828.4686205-19279-5-e3951e76-d314-4775-93bf-568e8c94c4c2.nc to cache/era5_single-levels-monthly-means_1998_months56789_2m_temperature_60,50,10,130.nc (633.2K)\n",
      "2020-12-10 13:37:11,937 INFO Download rate 2.4M/s \n"
     ]
    },
    {
     "name": "stdout",
     "output_type": "stream",
     "text": [
      "file downloaded and saved as  cache/era5_single-levels-monthly-means_1998_months56789_2m_temperature_60,50,10,130.nc\n"
     ]
    },
    {
     "name": "stderr",
     "output_type": "stream",
     "text": [
      "2020-12-10 13:37:12,357 INFO Welcome to the CDS\n",
      "2020-12-10 13:37:12,358 INFO Sending request to https://cds.climate.copernicus.eu/api/v2/resources/reanalysis-era5-single-levels-monthly-means\n",
      "2020-12-10 13:37:12,440 INFO Request is queued\n",
      "2020-12-10 13:37:13,484 INFO Request is running\n",
      "2020-12-10 13:37:15,026 INFO Request is completed\n",
      "2020-12-10 13:37:15,028 INFO Downloading http://136.156.132.198/cache-compute-0003/cache/data6/adaptor.mars.internal-1607603832.493623-1749-21-c4bd75a9-c58d-4172-a1fd-caf78c1d62ea.nc to cache/era5_single-levels-monthly-means_1999_months56789_2m_temperature_60,50,10,130.nc (633.2K)\n",
      "2020-12-10 13:37:15,585 INFO Download rate 1.1M/s \n",
      "2020-12-10 13:37:15,868 INFO Welcome to the CDS\n",
      "2020-12-10 13:37:15,870 INFO Sending request to https://cds.climate.copernicus.eu/api/v2/resources/reanalysis-era5-single-levels-monthly-means\n"
     ]
    },
    {
     "name": "stdout",
     "output_type": "stream",
     "text": [
      "file downloaded and saved as  cache/era5_single-levels-monthly-means_1999_months56789_2m_temperature_60,50,10,130.nc\n"
     ]
    },
    {
     "name": "stderr",
     "output_type": "stream",
     "text": [
      "2020-12-10 13:37:15,950 INFO Request is queued\n",
      "2020-12-10 13:37:16,991 INFO Request is running\n",
      "2020-12-10 13:37:18,534 INFO Request is completed\n",
      "2020-12-10 13:37:18,536 INFO Downloading http://136.156.132.201/cache-compute-0004/cache/data6/adaptor.mars.internal-1607603836.3330233-28631-22-338df754-aad8-456f-80b5-924e5de6b4be.nc to cache/era5_single-levels-monthly-means_2000_months56789_2m_temperature_60,50,10,130.nc (633.2K)\n",
      "2020-12-10 13:37:18,775 INFO Download rate 2.6M/s \n",
      "2020-12-10 13:37:18,965 INFO Welcome to the CDS\n",
      "2020-12-10 13:37:18,968 INFO Sending request to https://cds.climate.copernicus.eu/api/v2/resources/reanalysis-era5-single-levels-monthly-means\n"
     ]
    },
    {
     "name": "stdout",
     "output_type": "stream",
     "text": [
      "file downloaded and saved as  cache/era5_single-levels-monthly-means_2000_months56789_2m_temperature_60,50,10,130.nc\n"
     ]
    },
    {
     "name": "stderr",
     "output_type": "stream",
     "text": [
      "2020-12-10 13:37:19,113 INFO Request is queued\n",
      "2020-12-10 13:37:20,156 INFO Request is running\n",
      "2020-12-10 13:37:27,405 INFO Request is completed\n",
      "2020-12-10 13:37:27,407 INFO Downloading http://136.156.133.32/cache-compute-0009/cache/data7/adaptor.mars.internal-1607603840.0520353-14425-26-fbb819ff-c61d-4c3e-8980-57a687e3da34.nc to cache/era5_single-levels-monthly-means_2001_months56789_2m_temperature_60,50,10,130.nc (633.2K)\n",
      "2020-12-10 13:37:27,918 INFO Download rate 1.2M/s \n",
      "2020-12-10 13:37:28,112 INFO Welcome to the CDS\n",
      "2020-12-10 13:37:28,115 INFO Sending request to https://cds.climate.copernicus.eu/api/v2/resources/reanalysis-era5-single-levels-monthly-means\n"
     ]
    },
    {
     "name": "stdout",
     "output_type": "stream",
     "text": [
      "file downloaded and saved as  cache/era5_single-levels-monthly-means_2001_months56789_2m_temperature_60,50,10,130.nc\n"
     ]
    },
    {
     "name": "stderr",
     "output_type": "stream",
     "text": [
      "2020-12-10 13:37:28,182 INFO Request is queued\n",
      "2020-12-10 13:37:29,222 INFO Request is running\n",
      "2020-12-10 13:37:30,766 INFO Request is completed\n",
      "2020-12-10 13:37:30,768 INFO Downloading http://136.156.133.32/cache-compute-0009/cache/data8/adaptor.mars.internal-1607603848.6598608-19720-1-35d7d1eb-e28c-4c5d-bf68-d438aac43148.nc to cache/era5_single-levels-monthly-means_2002_months56789_2m_temperature_60,50,10,130.nc (633.2K)\n",
      "2020-12-10 13:37:31,300 INFO Download rate 1.2M/s \n",
      "2020-12-10 13:37:31,489 INFO Welcome to the CDS\n",
      "2020-12-10 13:37:31,491 INFO Sending request to https://cds.climate.copernicus.eu/api/v2/resources/reanalysis-era5-single-levels-monthly-means\n"
     ]
    },
    {
     "name": "stdout",
     "output_type": "stream",
     "text": [
      "file downloaded and saved as  cache/era5_single-levels-monthly-means_2002_months56789_2m_temperature_60,50,10,130.nc\n"
     ]
    },
    {
     "name": "stderr",
     "output_type": "stream",
     "text": [
      "2020-12-10 13:37:31,605 INFO Request is queued\n",
      "2020-12-10 13:37:32,647 INFO Request is running\n",
      "2020-12-10 13:37:34,189 INFO Request is completed\n",
      "2020-12-10 13:37:34,191 INFO Downloading http://136.156.132.110/cache-compute-0001/cache/data2/adaptor.mars.internal-1607603851.866738-24401-24-994a3326-0552-499a-990f-c568786505bb.nc to cache/era5_single-levels-monthly-means_2003_months56789_2m_temperature_60,50,10,130.nc (633.2K)\n",
      "2020-12-10 13:37:34,443 INFO Download rate 2.5M/s \n",
      "2020-12-10 13:37:34,652 INFO Welcome to the CDS\n",
      "2020-12-10 13:37:34,654 INFO Sending request to https://cds.climate.copernicus.eu/api/v2/resources/reanalysis-era5-single-levels-monthly-means\n"
     ]
    },
    {
     "name": "stdout",
     "output_type": "stream",
     "text": [
      "file downloaded and saved as  cache/era5_single-levels-monthly-means_2003_months56789_2m_temperature_60,50,10,130.nc\n"
     ]
    },
    {
     "name": "stderr",
     "output_type": "stream",
     "text": [
      "2020-12-10 13:37:34,758 INFO Request is queued\n",
      "2020-12-10 13:37:35,800 INFO Request is running\n",
      "2020-12-10 13:37:39,635 INFO Request is completed\n",
      "2020-12-10 13:37:39,637 INFO Downloading http://136.156.132.110/cache-compute-0001/cache/data4/adaptor.mars.internal-1607603855.3906465-1109-11-24cab4cd-9fb8-48d9-bdd8-8f6d72845784.nc to cache/era5_single-levels-monthly-means_2004_months56789_2m_temperature_60,50,10,130.nc (633.2K)\n",
      "2020-12-10 13:37:39,887 INFO Download rate 2.5M/s \n",
      "2020-12-10 13:37:40,081 INFO Welcome to the CDS\n",
      "2020-12-10 13:37:40,083 INFO Sending request to https://cds.climate.copernicus.eu/api/v2/resources/reanalysis-era5-single-levels-monthly-means\n"
     ]
    },
    {
     "name": "stdout",
     "output_type": "stream",
     "text": [
      "file downloaded and saved as  cache/era5_single-levels-monthly-means_2004_months56789_2m_temperature_60,50,10,130.nc\n"
     ]
    },
    {
     "name": "stderr",
     "output_type": "stream",
     "text": [
      "2020-12-10 13:37:40,189 INFO Request is queued\n",
      "2020-12-10 13:37:41,229 INFO Request is running\n",
      "2020-12-10 13:38:01,639 INFO Request is completed\n",
      "2020-12-10 13:38:01,641 INFO Downloading http://136.156.132.236/cache-compute-0007/cache/data1/adaptor.mars.internal-1607603860.2864454-19279-7-e969f65c-44b7-49bb-9b20-f71736c6f659.nc to cache/era5_single-levels-monthly-means_2005_months56789_2m_temperature_60,50,10,130.nc (633.2K)\n",
      "2020-12-10 13:38:01,891 INFO Download rate 2.5M/s \n",
      "2020-12-10 13:38:02,085 INFO Welcome to the CDS\n",
      "2020-12-10 13:38:02,086 INFO Sending request to https://cds.climate.copernicus.eu/api/v2/resources/reanalysis-era5-single-levels-monthly-means\n"
     ]
    },
    {
     "name": "stdout",
     "output_type": "stream",
     "text": [
      "file downloaded and saved as  cache/era5_single-levels-monthly-means_2005_months56789_2m_temperature_60,50,10,130.nc\n"
     ]
    },
    {
     "name": "stderr",
     "output_type": "stream",
     "text": [
      "2020-12-10 13:38:02,206 INFO Request is queued\n",
      "2020-12-10 13:38:03,246 INFO Request is running\n",
      "2020-12-10 13:38:15,595 INFO Request is completed\n",
      "2020-12-10 13:38:15,598 INFO Downloading http://136.156.132.236/cache-compute-0007/cache/data9/adaptor.mars.internal-1607603882.6205263-13722-20-a9efe23f-deb4-4449-89e0-ea7904577c1c.nc to cache/era5_single-levels-monthly-means_2006_months56789_2m_temperature_60,50,10,130.nc (633.2K)\n",
      "2020-12-10 13:38:16,128 INFO Download rate 1.2M/s \n"
     ]
    },
    {
     "name": "stdout",
     "output_type": "stream",
     "text": [
      "file downloaded and saved as  cache/era5_single-levels-monthly-means_2006_months56789_2m_temperature_60,50,10,130.nc\n"
     ]
    },
    {
     "name": "stderr",
     "output_type": "stream",
     "text": [
      "2020-12-10 13:38:16,555 INFO Welcome to the CDS\n",
      "2020-12-10 13:38:16,557 INFO Sending request to https://cds.climate.copernicus.eu/api/v2/resources/reanalysis-era5-single-levels-monthly-means\n",
      "2020-12-10 13:38:16,606 INFO Request is queued\n",
      "2020-12-10 13:38:37,632 INFO Request is completed\n",
      "2020-12-10 13:38:37,635 INFO Downloading http://136.156.132.110/cache-compute-0001/cache/data4/adaptor.mars.internal-1607603911.182584-24635-11-ed2e3543-7e1a-4059-9f37-83bece2d8318.nc to cache/era5_single-levels-monthly-means_2007_months56789_2m_temperature_60,50,10,130.nc (633.2K)\n",
      "2020-12-10 13:38:37,906 INFO Download rate 2.3M/s \n",
      "2020-12-10 13:38:38,100 INFO Welcome to the CDS\n",
      "2020-12-10 13:38:38,102 INFO Sending request to https://cds.climate.copernicus.eu/api/v2/resources/reanalysis-era5-single-levels-monthly-means\n"
     ]
    },
    {
     "name": "stdout",
     "output_type": "stream",
     "text": [
      "file downloaded and saved as  cache/era5_single-levels-monthly-means_2007_months56789_2m_temperature_60,50,10,130.nc\n"
     ]
    },
    {
     "name": "stderr",
     "output_type": "stream",
     "text": [
      "2020-12-10 13:38:38,190 INFO Request is queued\n",
      "2020-12-10 13:38:39,230 INFO Request is running\n",
      "2020-12-10 13:38:43,063 INFO Request is completed\n",
      "2020-12-10 13:38:43,064 INFO Downloading http://136.156.133.42/cache-compute-0014/cache/data3/adaptor.mars.internal-1607603919.102341-11075-3-4afc5f08-f0df-42f8-8e36-15170f6373c7.nc to cache/era5_single-levels-monthly-means_2008_months56789_2m_temperature_60,50,10,130.nc (633.2K)\n",
      "2020-12-10 13:38:43,575 INFO Download rate 1.2M/s \n",
      "2020-12-10 13:38:43,959 INFO Welcome to the CDS\n",
      "2020-12-10 13:38:43,960 INFO Sending request to https://cds.climate.copernicus.eu/api/v2/resources/reanalysis-era5-single-levels-monthly-means\n"
     ]
    },
    {
     "name": "stdout",
     "output_type": "stream",
     "text": [
      "file downloaded and saved as  cache/era5_single-levels-monthly-means_2008_months56789_2m_temperature_60,50,10,130.nc\n"
     ]
    },
    {
     "name": "stderr",
     "output_type": "stream",
     "text": [
      "2020-12-10 13:38:44,086 INFO Request is queued\n",
      "2020-12-10 13:38:45,125 INFO Request is running\n",
      "2020-12-10 13:38:46,666 INFO Request is completed\n",
      "2020-12-10 13:38:46,667 INFO Downloading http://136.156.133.32/cache-compute-0009/cache/data6/adaptor.mars.internal-1607603924.5889442-19162-7-a921b7de-138a-42a8-84c7-72b5e4f780f7.nc to cache/era5_single-levels-monthly-means_2009_months56789_2m_temperature_60,50,10,130.nc (633.2K)\n",
      "2020-12-10 13:38:46,917 INFO Download rate 2.5M/s \n",
      "2020-12-10 13:38:47,106 INFO Welcome to the CDS\n",
      "2020-12-10 13:38:47,109 INFO Sending request to https://cds.climate.copernicus.eu/api/v2/resources/reanalysis-era5-single-levels-monthly-means\n"
     ]
    },
    {
     "name": "stdout",
     "output_type": "stream",
     "text": [
      "file downloaded and saved as  cache/era5_single-levels-monthly-means_2009_months56789_2m_temperature_60,50,10,130.nc\n"
     ]
    },
    {
     "name": "stderr",
     "output_type": "stream",
     "text": [
      "2020-12-10 13:38:47,179 INFO Request is queued\n",
      "2020-12-10 13:38:55,468 INFO Request is running\n",
      "2020-12-10 13:39:00,574 INFO Request is completed\n",
      "2020-12-10 13:39:00,576 INFO Downloading http://136.156.133.32/cache-compute-0009/cache/data2/adaptor.mars.internal-1607603934.6258783-19720-5-2c62e3e6-c534-4d3e-86c1-66bb937f5a3e.nc to cache/era5_single-levels-monthly-means_2010_months56789_2m_temperature_60,50,10,130.nc (633.2K)\n",
      "2020-12-10 13:39:01,087 INFO Download rate 1.2M/s \n",
      "2020-12-10 13:39:01,277 INFO Welcome to the CDS\n",
      "2020-12-10 13:39:01,279 INFO Sending request to https://cds.climate.copernicus.eu/api/v2/resources/reanalysis-era5-single-levels-monthly-means\n"
     ]
    },
    {
     "name": "stdout",
     "output_type": "stream",
     "text": [
      "file downloaded and saved as  cache/era5_single-levels-monthly-means_2010_months56789_2m_temperature_60,50,10,130.nc\n"
     ]
    },
    {
     "name": "stderr",
     "output_type": "stream",
     "text": [
      "2020-12-10 13:39:01,401 INFO Request is queued\n",
      "2020-12-10 13:39:33,878 INFO Request is completed\n",
      "2020-12-10 13:39:33,880 INFO Downloading http://136.156.132.201/cache-compute-0004/cache/data2/adaptor.mars.internal-1607603963.3853595-31776-3-7aec4b1d-e4d5-4041-b689-7a1aeefec27c.nc to cache/era5_single-levels-monthly-means_2011_months56789_2m_temperature_60,50,10,130.nc (633.2K)\n",
      "2020-12-10 13:39:34,132 INFO Download rate 2.5M/s \n",
      "2020-12-10 13:39:34,359 INFO Welcome to the CDS\n",
      "2020-12-10 13:39:34,362 INFO Sending request to https://cds.climate.copernicus.eu/api/v2/resources/reanalysis-era5-single-levels-monthly-means\n"
     ]
    },
    {
     "name": "stdout",
     "output_type": "stream",
     "text": [
      "file downloaded and saved as  cache/era5_single-levels-monthly-means_2011_months56789_2m_temperature_60,50,10,130.nc\n"
     ]
    },
    {
     "name": "stderr",
     "output_type": "stream",
     "text": [
      "2020-12-10 13:39:34,539 INFO Request is queued\n",
      "2020-12-10 13:39:35,580 INFO Request is running\n",
      "2020-12-10 13:39:39,411 INFO Request is completed\n",
      "2020-12-10 13:39:39,414 INFO Downloading http://136.156.132.110/cache-compute-0001/cache/data0/adaptor.mars.internal-1607603974.6319916-17597-22-42b51a91-3c95-4b1f-ab85-cfc1019262b3.nc to cache/era5_single-levels-monthly-means_2012_months56789_2m_temperature_60,50,10,130.nc (633.2K)\n",
      "2020-12-10 13:39:40,036 INFO Download rate 1021.9K/s\n",
      "2020-12-10 13:39:40,237 INFO Welcome to the CDS\n",
      "2020-12-10 13:39:40,239 INFO Sending request to https://cds.climate.copernicus.eu/api/v2/resources/reanalysis-era5-single-levels-monthly-means\n"
     ]
    },
    {
     "name": "stdout",
     "output_type": "stream",
     "text": [
      "file downloaded and saved as  cache/era5_single-levels-monthly-means_2012_months56789_2m_temperature_60,50,10,130.nc\n"
     ]
    },
    {
     "name": "stderr",
     "output_type": "stream",
     "text": [
      "2020-12-10 13:39:40,293 INFO Request is queued\n",
      "2020-12-10 13:40:12,764 INFO Request is completed\n",
      "2020-12-10 13:40:12,767 INFO Downloading http://136.156.133.36/cache-compute-0010/cache/data9/adaptor.mars.internal-1607604002.8368676-29369-3-b2f6fb0c-e8ad-41db-a8ed-6bedb83c5db8.nc to cache/era5_single-levels-monthly-means_2013_months56789_2m_temperature_60,50,10,130.nc (633.2K)\n",
      "2020-12-10 13:40:13,275 INFO Download rate 1.2M/s \n",
      "2020-12-10 13:40:13,441 INFO Welcome to the CDS\n",
      "2020-12-10 13:40:13,442 INFO Sending request to https://cds.climate.copernicus.eu/api/v2/resources/reanalysis-era5-single-levels-monthly-means\n",
      "2020-12-10 13:40:13,499 INFO Request is queued\n"
     ]
    },
    {
     "name": "stdout",
     "output_type": "stream",
     "text": [
      "file downloaded and saved as  cache/era5_single-levels-monthly-means_2013_months56789_2m_temperature_60,50,10,130.nc\n"
     ]
    },
    {
     "name": "stderr",
     "output_type": "stream",
     "text": [
      "2020-12-10 13:40:45,968 INFO Request is completed\n",
      "2020-12-10 13:40:45,971 INFO Downloading http://136.156.132.236/cache-compute-0007/cache/data0/adaptor.mars.internal-1607604040.6716995-13329-29-b543cdc9-d108-4d3a-8e5f-abaac8b9f5cb.nc to cache/era5_single-levels-monthly-means_2014_months56789_2m_temperature_60,50,10,130.nc (633.2K)\n",
      "2020-12-10 13:40:46,211 INFO Download rate 2.6M/s \n",
      "2020-12-10 13:40:46,390 INFO Welcome to the CDS\n",
      "2020-12-10 13:40:46,392 INFO Sending request to https://cds.climate.copernicus.eu/api/v2/resources/reanalysis-era5-single-levels-monthly-means\n",
      "2020-12-10 13:40:46,448 INFO Request is queued\n"
     ]
    },
    {
     "name": "stdout",
     "output_type": "stream",
     "text": [
      "file downloaded and saved as  cache/era5_single-levels-monthly-means_2014_months56789_2m_temperature_60,50,10,130.nc\n"
     ]
    },
    {
     "name": "stderr",
     "output_type": "stream",
     "text": [
      "2020-12-10 13:40:54,728 INFO Request is running\n",
      "2020-12-10 13:40:59,918 INFO Request is completed\n",
      "2020-12-10 13:40:59,919 INFO Downloading http://136.156.133.37/cache-compute-0011/cache/data8/adaptor.mars.internal-1607604052.7199588-15001-12-c32a82ab-fc83-4097-b9f1-430d27313a0c.nc to cache/era5_single-levels-monthly-means_2015_months56789_2m_temperature_60,50,10,130.nc (633.2K)\n",
      "2020-12-10 13:41:00,153 INFO Download rate 2.7M/s \n",
      "2020-12-10 13:41:00,327 INFO Welcome to the CDS\n",
      "2020-12-10 13:41:00,330 INFO Sending request to https://cds.climate.copernicus.eu/api/v2/resources/reanalysis-era5-single-levels-monthly-means\n"
     ]
    },
    {
     "name": "stdout",
     "output_type": "stream",
     "text": [
      "file downloaded and saved as  cache/era5_single-levels-monthly-means_2015_months56789_2m_temperature_60,50,10,130.nc\n"
     ]
    },
    {
     "name": "stderr",
     "output_type": "stream",
     "text": [
      "2020-12-10 13:41:00,562 INFO Request is queued\n",
      "2020-12-10 13:41:01,598 INFO Request is running\n",
      "2020-12-10 13:41:05,425 INFO Request is completed\n",
      "2020-12-10 13:41:05,427 INFO Downloading http://136.156.133.25/cache-compute-0008/cache/data9/adaptor.mars.internal-1607604060.7227461-18390-3-aaed514e-1643-48e7-bab9-3118eb4ab796.nc to cache/era5_single-levels-monthly-means_2016_months56789_2m_temperature_60,50,10,130.nc (633.2K)\n",
      "2020-12-10 13:41:05,658 INFO Download rate 2.7M/s \n",
      "2020-12-10 13:41:05,833 INFO Welcome to the CDS\n",
      "2020-12-10 13:41:05,835 INFO Sending request to https://cds.climate.copernicus.eu/api/v2/resources/reanalysis-era5-single-levels-monthly-means\n"
     ]
    },
    {
     "name": "stdout",
     "output_type": "stream",
     "text": [
      "file downloaded and saved as  cache/era5_single-levels-monthly-means_2016_months56789_2m_temperature_60,50,10,130.nc\n"
     ]
    },
    {
     "name": "stderr",
     "output_type": "stream",
     "text": [
      "2020-12-10 13:41:05,897 INFO Request is queued\n",
      "2020-12-10 13:41:10,778 INFO Request is running\n",
      "2020-12-10 13:41:14,195 INFO Request is completed\n",
      "2020-12-10 13:41:14,200 INFO Downloading http://136.156.132.198/cache-compute-0003/cache/data0/adaptor.mars.internal-1607604068.8276503-7025-1-5dcca176-6265-4903-9b29-0553c8071aff.nc to cache/era5_single-levels-monthly-means_2017_months56789_2m_temperature_60,50,10,130.nc (633.2K)\n",
      "2020-12-10 13:41:14,429 INFO Download rate 2.7M/s \n",
      "2020-12-10 13:41:14,602 INFO Welcome to the CDS\n",
      "2020-12-10 13:41:14,603 INFO Sending request to https://cds.climate.copernicus.eu/api/v2/resources/reanalysis-era5-single-levels-monthly-means\n"
     ]
    },
    {
     "name": "stdout",
     "output_type": "stream",
     "text": [
      "file downloaded and saved as  cache/era5_single-levels-monthly-means_2017_months56789_2m_temperature_60,50,10,130.nc\n"
     ]
    },
    {
     "name": "stderr",
     "output_type": "stream",
     "text": [
      "2020-12-10 13:41:14,745 INFO Request is queued\n",
      "2020-12-10 13:41:35,748 INFO Request is completed\n",
      "2020-12-10 13:41:35,749 INFO Downloading http://136.156.132.110/cache-compute-0001/cache/data7/adaptor.mars.internal-1607604090.7411528-32688-18-b521348e-1d39-499a-ae4f-520db5497ab0.nc to cache/era5_single-levels-monthly-means_2018_months56789_2m_temperature_60,50,10,130.nc (633.2K)\n",
      "2020-12-10 13:41:36,271 INFO Download rate 1.2M/s \n"
     ]
    },
    {
     "name": "stdout",
     "output_type": "stream",
     "text": [
      "file downloaded and saved as  cache/era5_single-levels-monthly-means_2018_months56789_2m_temperature_60,50,10,130.nc\n",
      "omittted download for  era5_single-levels-monthly-means_2019_months56789_2m_temperature_60,50,10,130.nc\n"
     ]
    }
   ],
   "source": [
    "era5_pressure = creampy.dataproducts.ERA5('single-levels', variables, 'monthly', domain = ['60', '50', '10','130'])\n",
    "\n",
    "\n",
    "era5_pressure.get_data_per_year(np.arange(1979,2020).astype(str),  months = ['5', '6', '7', '8', '9'])\n"
   ]
  },
  {
   "cell_type": "markdown",
   "metadata": {},
   "source": [
    "## Download water vapor transport "
   ]
  },
  {
   "cell_type": "code",
   "execution_count": null,
   "metadata": {},
   "outputs": [],
   "source": []
  },
  {
   "cell_type": "code",
   "execution_count": null,
   "metadata": {},
   "outputs": [],
   "source": []
  },
  {
   "cell_type": "code",
   "execution_count": null,
   "metadata": {},
   "outputs": [],
   "source": []
  },
  {
   "cell_type": "markdown",
   "metadata": {},
   "source": [
    "## Download ERA5 data for 2D precip\n",
    "\n"
   ]
  },
  {
   "cell_type": "code",
   "execution_count": 15,
   "metadata": {},
   "outputs": [],
   "source": [
    "# ERA5 pressure levels, variables q u v p, monthly resolution, domain \n",
    "variables = ['convective_precipitation', 'large_scale_precipitation', 'total_precipitation']\n",
    "variables = ['vertically_integrated_moisture_divergence']\n",
    "era5_single= creampy.dataproducts.ERA5('single-levels', variables, 'monthly', domain = ['60', '50', '10','130'] )"
   ]
  },
  {
   "cell_type": "code",
   "execution_count": 16,
   "metadata": {},
   "outputs": [
    {
     "name": "stderr",
     "output_type": "stream",
     "text": [
      "2020-09-16 16:35:25,551 INFO Welcome to the CDS\n",
      "2020-09-16 16:35:25,552 INFO Sending request to https://cds.climate.copernicus.eu/api/v2/resources/reanalysis-era5-single-levels-monthly-means\n",
      "2020-09-16 16:35:26,363 INFO Request is queued\n",
      "2020-09-16 16:35:28,946 INFO Request is running\n",
      "2020-09-16 16:35:47,374 INFO Request is failed\n",
      "2020-09-16 16:35:47,375 ERROR Message: no data is available within your requested subset\n",
      "2020-09-16 16:35:47,376 ERROR Reason:  Request returned no data\n",
      "2020-09-16 16:35:47,376 ERROR   Traceback (most recent call last):\n",
      "2020-09-16 16:35:47,376 ERROR     File \"/opt/cdstoolbox/cdscompute/cdscompute/cdshandlers/services/handler.py\", line 49, in handle_request\n",
      "2020-09-16 16:35:47,377 ERROR       result = cached(context.method, proc, context, context.args, context.kwargs)\n",
      "2020-09-16 16:35:47,377 ERROR     File \"/opt/cdstoolbox/cdscompute/cdscompute/caching.py\", line 108, in cached\n",
      "2020-09-16 16:35:47,378 ERROR       result = proc(context, *context.args, **context.kwargs)\n",
      "2020-09-16 16:35:47,379 ERROR     File \"/opt/cdstoolbox/cdscompute/cdscompute/services.py\", line 118, in __call__\n",
      "2020-09-16 16:35:47,379 ERROR       return p(*args, **kwargs)\n",
      "2020-09-16 16:35:47,379 ERROR     File \"/opt/cdstoolbox/cdscompute/cdscompute/services.py\", line 59, in __call__\n",
      "2020-09-16 16:35:47,380 ERROR       return self.proc(context, *args, **kwargs)\n",
      "2020-09-16 16:35:47,380 ERROR     File \"/home/cds/cdsservices/services/mars.py\", line 347, in internal\n",
      "2020-09-16 16:35:47,380 ERROR       return mars(context, request, **kwargs)\n",
      "2020-09-16 16:35:47,380 ERROR     File \"/home/cds/cdsservices/services/mars.py\", line 48, in mars\n",
      "2020-09-16 16:35:47,381 ERROR       execute_mars(context, requests)\n",
      "2020-09-16 16:35:47,381 ERROR     File \"/home/cds/cdsservices/services/mars.py\", line 196, in execute_mars\n",
      "2020-09-16 16:35:47,381 ERROR       raise NoDataException(\"Request returned no data\", '')\n",
      "2020-09-16 16:35:47,381 ERROR   cdsinf.exceptions.NoDataException: Request returned no data\n"
     ]
    },
    {
     "ename": "Exception",
     "evalue": "no data is available within your requested subset. Request returned no data.",
     "output_type": "error",
     "traceback": [
      "\u001b[0;31m---------------------------------------------------------------------------\u001b[0m",
      "\u001b[0;31mException\u001b[0m                                 Traceback (most recent call last)",
      "\u001b[0;32m<ipython-input-16-6057ccc2053e>\u001b[0m in \u001b[0;36m<module>\u001b[0;34m\u001b[0m\n\u001b[1;32m      1\u001b[0m \u001b[0;31m# download data\u001b[0m\u001b[0;34m\u001b[0m\u001b[0;34m\u001b[0m\u001b[0;34m\u001b[0m\u001b[0m\n\u001b[0;32m----> 2\u001b[0;31m \u001b[0mera5_single\u001b[0m\u001b[0;34m.\u001b[0m\u001b[0mget_data_per_year\u001b[0m\u001b[0;34m(\u001b[0m\u001b[0myears\u001b[0m \u001b[0;34m=\u001b[0m \u001b[0mlist\u001b[0m\u001b[0;34m(\u001b[0m\u001b[0mnp\u001b[0m\u001b[0;34m.\u001b[0m\u001b[0marange\u001b[0m\u001b[0;34m(\u001b[0m\u001b[0;36m1979\u001b[0m\u001b[0;34m,\u001b[0m\u001b[0;36m2020\u001b[0m\u001b[0;34m)\u001b[0m\u001b[0;34m.\u001b[0m\u001b[0mastype\u001b[0m\u001b[0;34m(\u001b[0m\u001b[0mstr\u001b[0m\u001b[0;34m)\u001b[0m\u001b[0;34m)\u001b[0m\u001b[0;34m,\u001b[0m \u001b[0mmonths\u001b[0m \u001b[0;34m=\u001b[0m \u001b[0mlist\u001b[0m\u001b[0;34m(\u001b[0m\u001b[0mnp\u001b[0m\u001b[0;34m.\u001b[0m\u001b[0marange\u001b[0m\u001b[0;34m(\u001b[0m\u001b[0;36m5\u001b[0m\u001b[0;34m,\u001b[0m\u001b[0;36m10\u001b[0m\u001b[0;34m)\u001b[0m\u001b[0;34m.\u001b[0m\u001b[0mastype\u001b[0m\u001b[0;34m(\u001b[0m\u001b[0mstr\u001b[0m\u001b[0;34m)\u001b[0m\u001b[0;34m)\u001b[0m\u001b[0;34m)\u001b[0m\u001b[0;34m\u001b[0m\u001b[0;34m\u001b[0m\u001b[0m\n\u001b[0m",
      "\u001b[0;32m/media/juli/Data/projects/moisture_transport/moisture_transport/creampy/dataproducts.py\u001b[0m in \u001b[0;36mget_data_per_year\u001b[0;34m(self, years, months, days, hours, pressure_levels)\u001b[0m\n\u001b[1;32m    125\u001b[0m                         \u001b[0;34m\"day\"\u001b[0m\u001b[0;34m:\u001b[0m           \u001b[0mdays\u001b[0m\u001b[0;34m,\u001b[0m\u001b[0;34m\u001b[0m\u001b[0;34m\u001b[0m\u001b[0m\n\u001b[1;32m    126\u001b[0m                         \u001b[0;34m\"time\"\u001b[0m\u001b[0;34m:\u001b[0m          \u001b[0mhours\u001b[0m\u001b[0;34m\u001b[0m\u001b[0;34m\u001b[0m\u001b[0m\n\u001b[0;32m--> 127\u001b[0;31m                     }, filepath)\n\u001b[0m\u001b[1;32m    128\u001b[0m \u001b[0;34m\u001b[0m\u001b[0m\n\u001b[1;32m    129\u001b[0m                     \u001b[0mprint\u001b[0m\u001b[0;34m(\u001b[0m\u001b[0;34m'file downloaded and saved as '\u001b[0m\u001b[0;34m,\u001b[0m \u001b[0mfilepath\u001b[0m\u001b[0;34m)\u001b[0m\u001b[0;34m\u001b[0m\u001b[0;34m\u001b[0m\u001b[0m\n",
      "\u001b[0;32m~/anaconda3/lib/python3.6/site-packages/cdsapi/api.py\u001b[0m in \u001b[0;36mretrieve\u001b[0;34m(self, name, request, target)\u001b[0m\n\u001b[1;32m    308\u001b[0m \u001b[0;34m\u001b[0m\u001b[0m\n\u001b[1;32m    309\u001b[0m     \u001b[0;32mdef\u001b[0m \u001b[0mretrieve\u001b[0m\u001b[0;34m(\u001b[0m\u001b[0mself\u001b[0m\u001b[0;34m,\u001b[0m \u001b[0mname\u001b[0m\u001b[0;34m,\u001b[0m \u001b[0mrequest\u001b[0m\u001b[0;34m,\u001b[0m \u001b[0mtarget\u001b[0m\u001b[0;34m=\u001b[0m\u001b[0;32mNone\u001b[0m\u001b[0;34m)\u001b[0m\u001b[0;34m:\u001b[0m\u001b[0;34m\u001b[0m\u001b[0;34m\u001b[0m\u001b[0m\n\u001b[0;32m--> 310\u001b[0;31m         \u001b[0mresult\u001b[0m \u001b[0;34m=\u001b[0m \u001b[0mself\u001b[0m\u001b[0;34m.\u001b[0m\u001b[0m_api\u001b[0m\u001b[0;34m(\u001b[0m\u001b[0;34m'%s/resources/%s'\u001b[0m \u001b[0;34m%\u001b[0m \u001b[0;34m(\u001b[0m\u001b[0mself\u001b[0m\u001b[0;34m.\u001b[0m\u001b[0murl\u001b[0m\u001b[0;34m,\u001b[0m \u001b[0mname\u001b[0m\u001b[0;34m)\u001b[0m\u001b[0;34m,\u001b[0m \u001b[0mrequest\u001b[0m\u001b[0;34m,\u001b[0m \u001b[0;34m'POST'\u001b[0m\u001b[0;34m)\u001b[0m\u001b[0;34m\u001b[0m\u001b[0;34m\u001b[0m\u001b[0m\n\u001b[0m\u001b[1;32m    311\u001b[0m         \u001b[0;32mif\u001b[0m \u001b[0mtarget\u001b[0m \u001b[0;32mis\u001b[0m \u001b[0;32mnot\u001b[0m \u001b[0;32mNone\u001b[0m\u001b[0;34m:\u001b[0m\u001b[0;34m\u001b[0m\u001b[0;34m\u001b[0m\u001b[0m\n\u001b[1;32m    312\u001b[0m             \u001b[0mresult\u001b[0m\u001b[0;34m.\u001b[0m\u001b[0mdownload\u001b[0m\u001b[0;34m(\u001b[0m\u001b[0mtarget\u001b[0m\u001b[0;34m)\u001b[0m\u001b[0;34m\u001b[0m\u001b[0;34m\u001b[0m\u001b[0m\n",
      "\u001b[0;32m~/anaconda3/lib/python3.6/site-packages/cdsapi/api.py\u001b[0m in \u001b[0;36m_api\u001b[0;34m(self, url, request, method)\u001b[0m\n\u001b[1;32m    442\u001b[0m                         \u001b[0;32mbreak\u001b[0m\u001b[0;34m\u001b[0m\u001b[0;34m\u001b[0m\u001b[0m\n\u001b[1;32m    443\u001b[0m                     \u001b[0mself\u001b[0m\u001b[0;34m.\u001b[0m\u001b[0merror\u001b[0m\u001b[0;34m(\u001b[0m\u001b[0;34m\"  %s\"\u001b[0m\u001b[0;34m,\u001b[0m \u001b[0mn\u001b[0m\u001b[0;34m)\u001b[0m\u001b[0;34m\u001b[0m\u001b[0;34m\u001b[0m\u001b[0m\n\u001b[0;32m--> 444\u001b[0;31m                 \u001b[0;32mraise\u001b[0m \u001b[0mException\u001b[0m\u001b[0;34m(\u001b[0m\u001b[0;34m\"%s. %s.\"\u001b[0m \u001b[0;34m%\u001b[0m \u001b[0;34m(\u001b[0m\u001b[0mreply\u001b[0m\u001b[0;34m[\u001b[0m\u001b[0;34m'error'\u001b[0m\u001b[0;34m]\u001b[0m\u001b[0;34m.\u001b[0m\u001b[0mget\u001b[0m\u001b[0;34m(\u001b[0m\u001b[0;34m'message'\u001b[0m\u001b[0;34m)\u001b[0m\u001b[0;34m,\u001b[0m \u001b[0mreply\u001b[0m\u001b[0;34m[\u001b[0m\u001b[0;34m'error'\u001b[0m\u001b[0;34m]\u001b[0m\u001b[0;34m.\u001b[0m\u001b[0mget\u001b[0m\u001b[0;34m(\u001b[0m\u001b[0;34m'reason'\u001b[0m\u001b[0;34m)\u001b[0m\u001b[0;34m)\u001b[0m\u001b[0;34m)\u001b[0m\u001b[0;34m\u001b[0m\u001b[0;34m\u001b[0m\u001b[0m\n\u001b[0m\u001b[1;32m    445\u001b[0m \u001b[0;34m\u001b[0m\u001b[0m\n\u001b[1;32m    446\u001b[0m             \u001b[0;32mraise\u001b[0m \u001b[0mException\u001b[0m\u001b[0;34m(\u001b[0m\u001b[0;34m'Unknown API state [%s]'\u001b[0m \u001b[0;34m%\u001b[0m \u001b[0;34m(\u001b[0m\u001b[0mreply\u001b[0m\u001b[0;34m[\u001b[0m\u001b[0;34m'state'\u001b[0m\u001b[0;34m]\u001b[0m\u001b[0;34m,\u001b[0m\u001b[0;34m)\u001b[0m\u001b[0;34m)\u001b[0m\u001b[0;34m\u001b[0m\u001b[0;34m\u001b[0m\u001b[0m\n",
      "\u001b[0;31mException\u001b[0m: no data is available within your requested subset. Request returned no data."
     ]
    }
   ],
   "source": [
    "# download data \n",
    "era5_single.get_data_per_year(years = list(np.arange(1979,2020).astype(str)), months = list(np.arange(5,10).astype(str)))"
   ]
  },
  {
   "cell_type": "markdown",
   "metadata": {},
   "source": [
    "## Hourly ERA5 precip data for wavelet spectrum analysis "
   ]
  },
  {
   "cell_type": "code",
   "execution_count": null,
   "metadata": {},
   "outputs": [
    {
     "name": "stderr",
     "output_type": "stream",
     "text": [
      "2020-08-27 12:45:32,830 INFO Welcome to the CDS\n",
      "2020-08-27 12:45:32,830 INFO Sending request to https://cds.climate.copernicus.eu/api/v2/resources/reanalysis-era5-single-levels\n"
     ]
    },
    {
     "name": "stdout",
     "output_type": "stream",
     "text": [
      "omittted download for  era5_single-levels_1982_months56789_convective_precipitationlarge_scale_precipitationtotal_precipitationevaporation_60,50,10,130.nc\n"
     ]
    },
    {
     "name": "stderr",
     "output_type": "stream",
     "text": [
      "2020-08-27 12:45:32,985 INFO Request is completed\n",
      "2020-08-27 12:45:32,985 INFO Downloading http://136.156.133.37/cache-compute-0011/cache/data0/adaptor.mars.internal-1598523527.6131334-13236-5-df077f2a-727c-45c0-bda7-61915060dd85.nc to cache/era5_single-levels_1983_months56789_convective_precipitationlarge_scale_precipitationtotal_precipitationevaporation_60,50,10,130.nc (1.8G)\n",
      "2020-08-27 12:49:05,777 INFO Download rate 8.5M/s   \n",
      "2020-08-27 12:49:06,119 INFO Welcome to the CDS\n",
      "2020-08-27 12:49:06,119 INFO Sending request to https://cds.climate.copernicus.eu/api/v2/resources/reanalysis-era5-single-levels\n"
     ]
    },
    {
     "name": "stdout",
     "output_type": "stream",
     "text": [
      "file downloaded and saved as  cache/era5_single-levels_1983_months56789_convective_precipitationlarge_scale_precipitationtotal_precipitationevaporation_60,50,10,130.nc\n"
     ]
    },
    {
     "name": "stderr",
     "output_type": "stream",
     "text": [
      "2020-08-27 12:49:06,605 INFO Request is queued\n",
      "2020-08-27 12:49:07,638 INFO Request is running\n",
      "2020-08-27 13:15:26,808 INFO Request is completed\n",
      "2020-08-27 13:15:26,809 INFO Downloading http://136.156.132.105/cache-compute-0000/cache/data0/adaptor.mars.internal-1598525346.7679303-27924-39-50b2fff2-ee1b-40ff-b688-ffb205580915.nc to cache/era5_single-levels_1984_months56789_convective_precipitationlarge_scale_precipitationtotal_precipitationevaporation_60,50,10,130.nc (1.8G)\n",
      "2020-08-27 13:18:48,679 INFO Download rate 9M/s     \n",
      "2020-08-27 13:18:49,453 INFO Welcome to the CDS\n",
      "2020-08-27 13:18:49,453 INFO Sending request to https://cds.climate.copernicus.eu/api/v2/resources/reanalysis-era5-single-levels\n"
     ]
    },
    {
     "name": "stdout",
     "output_type": "stream",
     "text": [
      "file downloaded and saved as  cache/era5_single-levels_1984_months56789_convective_precipitationlarge_scale_precipitationtotal_precipitationevaporation_60,50,10,130.nc\n"
     ]
    },
    {
     "name": "stderr",
     "output_type": "stream",
     "text": [
      "2020-08-27 13:18:51,120 INFO Request is queued\n",
      "2020-08-27 13:18:53,688 INFO Request is running\n",
      "2020-08-27 13:43:11,156 INFO Request is completed\n",
      "2020-08-27 13:43:11,157 INFO Downloading http://136.156.133.42/cache-compute-0014/cache/data7/adaptor.mars.internal-1598527132.788269-23651-19-ef198261-438c-49c6-a86d-9aa038cfb28a.nc to cache/era5_single-levels_1985_months56789_convective_precipitationlarge_scale_precipitationtotal_precipitationevaporation_60,50,10,130.nc (1.8G)\n",
      "2020-08-27 13:46:29,939 INFO Download rate 9.1M/s   \n",
      "2020-08-27 13:46:30,369 INFO Welcome to the CDS\n",
      "2020-08-27 13:46:30,369 INFO Sending request to https://cds.climate.copernicus.eu/api/v2/resources/reanalysis-era5-single-levels\n"
     ]
    },
    {
     "name": "stdout",
     "output_type": "stream",
     "text": [
      "file downloaded and saved as  cache/era5_single-levels_1985_months56789_convective_precipitationlarge_scale_precipitationtotal_precipitationevaporation_60,50,10,130.nc\n"
     ]
    },
    {
     "name": "stderr",
     "output_type": "stream",
     "text": [
      "2020-08-27 13:46:30,620 INFO Request is queued\n",
      "2020-08-27 13:46:31,654 INFO Request is running\n",
      "2020-08-27 14:12:50,652 INFO Request is completed\n",
      "2020-08-27 14:12:50,652 INFO Downloading http://136.156.133.41/cache-compute-0013/cache/data5/adaptor.mars.internal-1598528791.1314566-24312-21-c03e91f6-391e-4ac0-8ecd-d7b4ffe62a08.nc to cache/era5_single-levels_1986_months56789_convective_precipitationlarge_scale_precipitationtotal_precipitationevaporation_60,50,10,130.nc (1.8G)\n",
      "2020-08-27 14:16:19,991 INFO Download rate 8.6M/s   \n",
      "2020-08-27 14:16:20,811 INFO Welcome to the CDS\n",
      "2020-08-27 14:16:20,812 INFO Sending request to https://cds.climate.copernicus.eu/api/v2/resources/reanalysis-era5-single-levels\n"
     ]
    },
    {
     "name": "stdout",
     "output_type": "stream",
     "text": [
      "file downloaded and saved as  cache/era5_single-levels_1986_months56789_convective_precipitationlarge_scale_precipitationtotal_precipitationevaporation_60,50,10,130.nc\n"
     ]
    },
    {
     "name": "stderr",
     "output_type": "stream",
     "text": [
      "2020-08-27 14:16:25,218 INFO Request is queued\n",
      "2020-08-27 14:16:26,251 INFO Request is running\n",
      "2020-08-27 14:40:45,286 INFO Request is completed\n",
      "2020-08-27 14:40:45,287 INFO Downloading http://136.156.133.46/cache-compute-0015/cache/data6/adaptor.mars.internal-1598530586.1858952-4724-7-3ab266c2-3f03-428a-9906-ed11fba2f5c0.nc to cache/era5_single-levels_1987_months56789_convective_precipitationlarge_scale_precipitationtotal_precipitationevaporation_60,50,10,130.nc (1.8G)\n",
      "2020-08-27 14:44:55,564 INFO Download rate 7.2M/s   \n",
      "2020-08-27 14:44:56,382 INFO Welcome to the CDS\n",
      "2020-08-27 14:44:56,383 INFO Sending request to https://cds.climate.copernicus.eu/api/v2/resources/reanalysis-era5-single-levels\n"
     ]
    },
    {
     "name": "stdout",
     "output_type": "stream",
     "text": [
      "file downloaded and saved as  cache/era5_single-levels_1987_months56789_convective_precipitationlarge_scale_precipitationtotal_precipitationevaporation_60,50,10,130.nc\n"
     ]
    },
    {
     "name": "stderr",
     "output_type": "stream",
     "text": [
      "2020-08-27 14:44:56,501 INFO Request is queued\n",
      "2020-08-27 14:44:57,535 INFO Request is running\n",
      "2020-08-27 15:09:16,477 INFO Request is completed\n",
      "2020-08-27 15:09:16,478 INFO Downloading http://136.156.132.236/cache-compute-0007/cache/data9/adaptor.mars.internal-1598532296.7733698-20004-1-8c5a101e-2142-41a2-bf7f-4cfd327dcbef.nc to cache/era5_single-levels_1988_months56789_convective_precipitationlarge_scale_precipitationtotal_precipitationevaporation_60,50,10,130.nc (1.8G)\n",
      "2020-08-27 15:13:18,161 INFO Download rate 7.5M/s   \n",
      "2020-08-27 15:13:19,130 INFO Welcome to the CDS\n",
      "2020-08-27 15:13:19,131 INFO Sending request to https://cds.climate.copernicus.eu/api/v2/resources/reanalysis-era5-single-levels\n"
     ]
    },
    {
     "name": "stdout",
     "output_type": "stream",
     "text": [
      "file downloaded and saved as  cache/era5_single-levels_1988_months56789_convective_precipitationlarge_scale_precipitationtotal_precipitationevaporation_60,50,10,130.nc\n"
     ]
    },
    {
     "name": "stderr",
     "output_type": "stream",
     "text": [
      "2020-08-27 15:13:20,744 INFO Request is queued\n",
      "2020-08-27 15:13:23,313 INFO Request is running\n",
      "2020-08-27 15:35:40,665 INFO Request is completed\n",
      "2020-08-27 15:35:40,665 INFO Downloading http://136.156.133.25/cache-compute-0008/cache/data4/adaptor.mars.internal-1598534002.8744597-29096-3-d4e5f276-7268-4b31-a4c0-f68e896acd4f.nc to cache/era5_single-levels_1989_months56789_convective_precipitationlarge_scale_precipitationtotal_precipitationevaporation_60,50,10,130.nc (1.8G)\n",
      " 68%|██████▊   | 1.20G/1.77G [02:39<18:12, 551kB/s] "
     ]
    }
   ],
   "source": [
    "# ERA5 pressure levels, variables q u v p, monthly resolution, domain \n",
    "variables = ['convective_precipitation', 'large_scale_precipitation', 'total_precipitation', 'evaporation']\n",
    "era5_single= creampy.dataproducts.ERA5('single-levels', variables, 'hourly', domain = ['60', '50', '10','130'] )\n",
    "\n",
    "# download data \n",
    "era5_single.get_data_per_year(years = list(np.arange(1982,2020).astype(str)), months = list(np.arange(5,10).astype(str)))"
   ]
  },
  {
   "cell_type": "markdown",
   "metadata": {},
   "source": [
    "## Hourly data for eddy calculation "
   ]
  }
 ],
 "metadata": {
  "kernelspec": {
   "display_name": "Python 3",
   "language": "python",
   "name": "python3"
  },
  "language_info": {
   "codemirror_mode": {
    "name": "ipython",
    "version": 3
   },
   "file_extension": ".py",
   "mimetype": "text/x-python",
   "name": "python",
   "nbconvert_exporter": "python",
   "pygments_lexer": "ipython3",
   "version": "3.6.7"
  }
 },
 "nbformat": 4,
 "nbformat_minor": 2
}
