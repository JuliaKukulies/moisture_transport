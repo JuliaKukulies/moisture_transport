{
 "cells": [
  {
   "cell_type": "markdown",
   "metadata": {},
   "source": [
    "## Download ERA5 summer mean variables at pressure levels\n"
   ]
  },
  {
   "cell_type": "code",
   "execution_count": 27,
   "metadata": {},
   "outputs": [],
   "source": [
    "import creampy\n",
    "from creampy.dataproducts import Pressure, Surface \n",
    "import xarray as xr\n",
    "import numpy as np"
   ]
  },
  {
   "cell_type": "code",
   "execution_count": 98,
   "metadata": {},
   "outputs": [],
   "source": [
    "# ERA5 pressure levels, variables q u v p, monthly resolution, domain \n",
    "variables =  ['geopotential', 'specific_humidity', 'u_component_of_wind',\n",
    "            'v_component_of_wind']\n",
    "\n",
    "variables = ['u', 'v']"
   ]
  },
  {
   "cell_type": "code",
   "execution_count": 99,
   "metadata": {},
   "outputs": [
    {
     "name": "stderr",
     "output_type": "stream",
     "text": [
      "2020-10-26 16:25:52,694 INFO Welcome to the CDS\n",
      "2020-10-26 16:25:52,695 INFO Sending request to https://cds.climate.copernicus.eu/api/v2/resources/reanalysis-era5-single-levels-monthly-means\n",
      "2020-10-26 16:25:53,028 INFO Request is queued\n",
      "2020-10-26 16:25:54,062 INFO Request is running\n",
      "2020-10-26 16:25:57,883 INFO Request is completed\n",
      "2020-10-26 16:25:57,884 INFO Downloading http://136.156.133.39/cache-compute-0012/cache/data9/adaptor.mars.internal-1603725953.6057448-17824-23-a494b750-327c-4218-ad1d-0742deba3587.nc to cache/era5_single-levels-monthly-means_1979_months56789_tcwv_60,50,10,130.nc (633.3K)\n",
      "2020-10-26 16:25:58,127 INFO Download rate 2.5M/s \n",
      "2020-10-26 16:25:58,315 INFO Welcome to the CDS\n",
      "2020-10-26 16:25:58,316 INFO Sending request to https://cds.climate.copernicus.eu/api/v2/resources/reanalysis-era5-single-levels-monthly-means\n"
     ]
    },
    {
     "name": "stdout",
     "output_type": "stream",
     "text": [
      "file downloaded and saved as  cache/era5_single-levels-monthly-means_1979_months56789_tcwv_60,50,10,130.nc\n"
     ]
    },
    {
     "name": "stderr",
     "output_type": "stream",
     "text": [
      "2020-10-26 16:25:58,554 INFO Request is queued\n",
      "2020-10-26 16:25:59,587 INFO Request is running\n",
      "2020-10-26 16:26:03,408 INFO Request is completed\n",
      "2020-10-26 16:26:03,408 INFO Downloading http://136.156.133.32/cache-compute-0009/cache/data7/adaptor.mars.internal-1603725959.0534837-30223-25-24011c35-fe4e-43e5-adf1-f18cbdc756de.nc to cache/era5_single-levels-monthly-means_1980_months56789_tcwv_60,50,10,130.nc (633.3K)\n",
      "2020-10-26 16:26:03,935 INFO Download rate 1.2M/s \n",
      "2020-10-26 16:26:04,311 INFO Welcome to the CDS\n",
      "2020-10-26 16:26:04,312 INFO Sending request to https://cds.climate.copernicus.eu/api/v2/resources/reanalysis-era5-single-levels-monthly-means\n"
     ]
    },
    {
     "name": "stdout",
     "output_type": "stream",
     "text": [
      "file downloaded and saved as  cache/era5_single-levels-monthly-means_1980_months56789_tcwv_60,50,10,130.nc\n"
     ]
    },
    {
     "name": "stderr",
     "output_type": "stream",
     "text": [
      "2020-10-26 16:26:04,391 INFO Request is queued\n",
      "2020-10-26 16:26:05,426 INFO Request is running\n",
      "2020-10-26 16:26:06,960 INFO Request is completed\n",
      "2020-10-26 16:26:06,961 INFO Downloading http://136.156.132.198/cache-compute-0003/cache/data4/adaptor.mars.internal-1603725964.8641956-10716-23-04bee3b2-561b-490c-ad49-e6f6af718193.nc to cache/era5_single-levels-monthly-means_1981_months56789_tcwv_60,50,10,130.nc (633.3K)\n",
      "2020-10-26 16:26:07,463 INFO Download rate 1.2M/s \n",
      "2020-10-26 16:26:07,649 INFO Welcome to the CDS\n",
      "2020-10-26 16:26:07,650 INFO Sending request to https://cds.climate.copernicus.eu/api/v2/resources/reanalysis-era5-single-levels-monthly-means\n"
     ]
    },
    {
     "name": "stdout",
     "output_type": "stream",
     "text": [
      "file downloaded and saved as  cache/era5_single-levels-monthly-means_1981_months56789_tcwv_60,50,10,130.nc\n"
     ]
    },
    {
     "name": "stderr",
     "output_type": "stream",
     "text": [
      "2020-10-26 16:26:08,472 INFO Request is queued\n",
      "2020-10-26 16:26:09,508 INFO Request is running\n",
      "2020-10-26 16:26:13,328 INFO Request is completed\n",
      "2020-10-26 16:26:13,328 INFO Downloading http://136.156.132.210/cache-compute-0005/cache/data7/adaptor.mars.internal-1603725969.1573572-6996-1-62e23f9a-78aa-4d64-abfb-c42e078c418a.nc to cache/era5_single-levels-monthly-means_1982_months56789_tcwv_60,50,10,130.nc (633.3K)\n",
      "2020-10-26 16:26:13,857 INFO Download rate 1.2M/s \n",
      "2020-10-26 16:26:14,079 INFO Welcome to the CDS\n",
      "2020-10-26 16:26:14,079 INFO Sending request to https://cds.climate.copernicus.eu/api/v2/resources/reanalysis-era5-single-levels-monthly-means\n"
     ]
    },
    {
     "name": "stdout",
     "output_type": "stream",
     "text": [
      "file downloaded and saved as  cache/era5_single-levels-monthly-means_1982_months56789_tcwv_60,50,10,130.nc\n"
     ]
    },
    {
     "name": "stderr",
     "output_type": "stream",
     "text": [
      "2020-10-26 16:26:14,180 INFO Request is queued\n",
      "2020-10-26 16:26:15,214 INFO Request is running\n",
      "2020-10-26 16:26:19,035 INFO Request is completed\n",
      "2020-10-26 16:26:19,036 INFO Downloading http://136.156.133.42/cache-compute-0014/cache/data3/adaptor.mars.internal-1603725974.5877757-861-3-6452b56a-d253-487c-b22d-775c873c4e02.nc to cache/era5_single-levels-monthly-means_1983_months56789_tcwv_60,50,10,130.nc (633.3K)\n",
      "2020-10-26 16:26:19,267 INFO Download rate 2.7M/s \n",
      "2020-10-26 16:26:19,441 INFO Welcome to the CDS\n",
      "2020-10-26 16:26:19,442 INFO Sending request to https://cds.climate.copernicus.eu/api/v2/resources/reanalysis-era5-single-levels-monthly-means\n"
     ]
    },
    {
     "name": "stdout",
     "output_type": "stream",
     "text": [
      "file downloaded and saved as  cache/era5_single-levels-monthly-means_1983_months56789_tcwv_60,50,10,130.nc\n"
     ]
    },
    {
     "name": "stderr",
     "output_type": "stream",
     "text": [
      "2020-10-26 16:26:19,569 INFO Request is queued\n",
      "2020-10-26 16:26:20,604 INFO Request is running\n",
      "2020-10-26 16:26:22,140 INFO Request is completed\n",
      "2020-10-26 16:26:22,140 INFO Downloading http://136.156.133.41/cache-compute-0013/cache/data5/adaptor.mars.internal-1603725979.7095065-6180-23-7e5e2695-d9ea-43cc-867f-ddc319b4f107.nc to cache/era5_single-levels-monthly-means_1984_months56789_tcwv_60,50,10,130.nc (633.3K)\n",
      "2020-10-26 16:26:22,639 INFO Download rate 1.2M/s \n",
      "2020-10-26 16:26:22,800 INFO Welcome to the CDS\n",
      "2020-10-26 16:26:22,801 INFO Sending request to https://cds.climate.copernicus.eu/api/v2/resources/reanalysis-era5-single-levels-monthly-means\n"
     ]
    },
    {
     "name": "stdout",
     "output_type": "stream",
     "text": [
      "file downloaded and saved as  cache/era5_single-levels-monthly-means_1984_months56789_tcwv_60,50,10,130.nc\n"
     ]
    },
    {
     "name": "stderr",
     "output_type": "stream",
     "text": [
      "2020-10-26 16:26:22,926 INFO Request is queued\n",
      "2020-10-26 16:26:23,963 INFO Request is running\n",
      "2020-10-26 16:26:25,502 INFO Request is completed\n",
      "2020-10-26 16:26:25,503 INFO Downloading http://136.156.132.236/cache-compute-0007/cache/data9/adaptor.mars.internal-1603725983.1069646-18927-27-7ed966cc-4e51-4834-8e8c-c1c461c8fbc0.nc to cache/era5_single-levels-monthly-means_1985_months56789_tcwv_60,50,10,130.nc (633.3K)\n",
      "2020-10-26 16:26:25,745 INFO Download rate 2.6M/s \n",
      "2020-10-26 16:26:25,925 INFO Welcome to the CDS\n",
      "2020-10-26 16:26:25,925 INFO Sending request to https://cds.climate.copernicus.eu/api/v2/resources/reanalysis-era5-single-levels-monthly-means\n"
     ]
    },
    {
     "name": "stdout",
     "output_type": "stream",
     "text": [
      "file downloaded and saved as  cache/era5_single-levels-monthly-means_1985_months56789_tcwv_60,50,10,130.nc\n"
     ]
    },
    {
     "name": "stderr",
     "output_type": "stream",
     "text": [
      "2020-10-26 16:26:26,037 INFO Request is queued\n",
      "2020-10-26 16:26:27,071 INFO Request is running\n",
      "2020-10-26 16:26:28,606 INFO Request is completed\n",
      "2020-10-26 16:26:28,607 INFO Downloading http://136.156.132.201/cache-compute-0004/cache/data7/adaptor.mars.internal-1603725986.1790535-7800-20-796d5e40-fdcb-404d-9e69-c65c12a477a0.nc to cache/era5_single-levels-monthly-means_1986_months56789_tcwv_60,50,10,130.nc (633.3K)\n",
      "2020-10-26 16:26:29,133 INFO Download rate 1.2M/s \n",
      "2020-10-26 16:26:29,497 INFO Welcome to the CDS\n",
      "2020-10-26 16:26:29,497 INFO Sending request to https://cds.climate.copernicus.eu/api/v2/resources/reanalysis-era5-single-levels-monthly-means\n"
     ]
    },
    {
     "name": "stdout",
     "output_type": "stream",
     "text": [
      "file downloaded and saved as  cache/era5_single-levels-monthly-means_1986_months56789_tcwv_60,50,10,130.nc\n"
     ]
    },
    {
     "name": "stderr",
     "output_type": "stream",
     "text": [
      "2020-10-26 16:26:29,846 INFO Request is queued\n",
      "2020-10-26 16:26:30,881 INFO Request is running\n",
      "2020-10-26 16:26:32,416 INFO Request is completed\n",
      "2020-10-26 16:26:32,417 INFO Downloading http://136.156.132.153/cache-compute-0002/cache/data6/adaptor.mars.internal-1603725990.026914-22302-19-e3c39561-6e4c-4eff-9d0d-6a2f537e4913.nc to cache/era5_single-levels-monthly-means_1987_months56789_tcwv_60,50,10,130.nc (633.3K)\n",
      "2020-10-26 16:26:32,917 INFO Download rate 1.2M/s \n",
      "2020-10-26 16:26:33,078 INFO Welcome to the CDS\n",
      "2020-10-26 16:26:33,079 INFO Sending request to https://cds.climate.copernicus.eu/api/v2/resources/reanalysis-era5-single-levels-monthly-means\n"
     ]
    },
    {
     "name": "stdout",
     "output_type": "stream",
     "text": [
      "file downloaded and saved as  cache/era5_single-levels-monthly-means_1987_months56789_tcwv_60,50,10,130.nc\n"
     ]
    },
    {
     "name": "stderr",
     "output_type": "stream",
     "text": [
      "2020-10-26 16:26:33,804 INFO Request is queued\n",
      "2020-10-26 16:26:34,838 INFO Request is running\n",
      "2020-10-26 16:26:36,373 INFO Request is completed\n",
      "2020-10-26 16:26:36,374 INFO Downloading http://136.156.132.235/cache-compute-0006/cache/data1/adaptor.mars.internal-1603725993.9818149-31418-24-0f0e0f98-aaea-4c18-8090-f20ed6eac143.nc to cache/era5_single-levels-monthly-means_1988_months56789_tcwv_60,50,10,130.nc (633.3K)\n",
      "2020-10-26 16:26:36,902 INFO Download rate 1.2M/s \n",
      "2020-10-26 16:26:37,402 INFO Welcome to the CDS\n",
      "2020-10-26 16:26:37,403 INFO Sending request to https://cds.climate.copernicus.eu/api/v2/resources/reanalysis-era5-single-levels-monthly-means\n"
     ]
    },
    {
     "name": "stdout",
     "output_type": "stream",
     "text": [
      "file downloaded and saved as  cache/era5_single-levels-monthly-means_1988_months56789_tcwv_60,50,10,130.nc\n"
     ]
    },
    {
     "name": "stderr",
     "output_type": "stream",
     "text": [
      "2020-10-26 16:26:37,501 INFO Request is queued\n",
      "2020-10-26 16:26:38,534 INFO Request is running\n",
      "2020-10-26 16:26:40,073 INFO Request is completed\n",
      "2020-10-26 16:26:40,074 INFO Downloading http://136.156.133.32/cache-compute-0009/cache/data8/adaptor.mars.internal-1603725997.7160559-7794-1-1d86a0bd-1562-411e-94d7-80f6dc71b68d.nc to cache/era5_single-levels-monthly-means_1989_months56789_tcwv_60,50,10,130.nc (633.3K)\n",
      "2020-10-26 16:26:40,326 INFO Download rate 2.5M/s \n",
      "2020-10-26 16:26:40,582 INFO Welcome to the CDS\n",
      "2020-10-26 16:26:40,583 INFO Sending request to https://cds.climate.copernicus.eu/api/v2/resources/reanalysis-era5-single-levels-monthly-means\n"
     ]
    },
    {
     "name": "stdout",
     "output_type": "stream",
     "text": [
      "file downloaded and saved as  cache/era5_single-levels-monthly-means_1989_months56789_tcwv_60,50,10,130.nc\n"
     ]
    },
    {
     "name": "stderr",
     "output_type": "stream",
     "text": [
      "2020-10-26 16:26:40,750 INFO Request is queued\n",
      "2020-10-26 16:26:41,789 INFO Request is running\n",
      "2020-10-26 16:26:43,328 INFO Request is completed\n",
      "2020-10-26 16:26:43,330 INFO Downloading http://136.156.133.37/cache-compute-0011/cache/data7/adaptor.mars.internal-1603726000.9026656-2952-14-214460a3-353f-4f8b-8ccd-b356b2eb0eb5.nc to cache/era5_single-levels-monthly-means_1990_months56789_tcwv_60,50,10,130.nc (633.3K)\n",
      "2020-10-26 16:26:43,586 INFO Download rate 2.4M/s \n",
      "2020-10-26 16:26:43,805 INFO Welcome to the CDS\n",
      "2020-10-26 16:26:43,806 INFO Sending request to https://cds.climate.copernicus.eu/api/v2/resources/reanalysis-era5-single-levels-monthly-means\n"
     ]
    },
    {
     "name": "stdout",
     "output_type": "stream",
     "text": [
      "file downloaded and saved as  cache/era5_single-levels-monthly-means_1990_months56789_tcwv_60,50,10,130.nc\n"
     ]
    },
    {
     "name": "stderr",
     "output_type": "stream",
     "text": [
      "2020-10-26 16:26:43,908 INFO Request is queued\n",
      "2020-10-26 16:26:44,949 INFO Request is running\n",
      "2020-10-26 16:26:46,492 INFO Request is completed\n",
      "2020-10-26 16:26:46,494 INFO Downloading http://136.156.133.42/cache-compute-0014/cache/data9/adaptor.mars.internal-1603726004.2959356-861-6-2f726585-c49d-4dd8-802d-05e9caac86b3.nc to cache/era5_single-levels-monthly-means_1991_months56789_tcwv_60,50,10,130.nc (633.3K)\n",
      "2020-10-26 16:26:47,001 INFO Download rate 1.2M/s \n",
      "2020-10-26 16:26:47,258 INFO Welcome to the CDS\n",
      "2020-10-26 16:26:47,260 INFO Sending request to https://cds.climate.copernicus.eu/api/v2/resources/reanalysis-era5-single-levels-monthly-means\n"
     ]
    },
    {
     "name": "stdout",
     "output_type": "stream",
     "text": [
      "file downloaded and saved as  cache/era5_single-levels-monthly-means_1991_months56789_tcwv_60,50,10,130.nc\n"
     ]
    },
    {
     "name": "stderr",
     "output_type": "stream",
     "text": [
      "2020-10-26 16:26:47,417 INFO Request is queued\n",
      "2020-10-26 16:26:48,456 INFO Request is running\n",
      "2020-10-26 16:26:49,996 INFO Request is completed\n",
      "2020-10-26 16:26:49,998 INFO Downloading http://136.156.132.210/cache-compute-0005/cache/data3/adaptor.mars.internal-1603726007.7089288-31932-18-2dd4980d-6bb4-4e26-8793-e34b10b8b274.nc to cache/era5_single-levels-monthly-means_1992_months56789_tcwv_60,50,10,130.nc (633.3K)\n",
      "2020-10-26 16:26:50,250 INFO Download rate 2.5M/s \n",
      "2020-10-26 16:26:50,733 INFO Welcome to the CDS\n",
      "2020-10-26 16:26:50,735 INFO Sending request to https://cds.climate.copernicus.eu/api/v2/resources/reanalysis-era5-single-levels-monthly-means\n"
     ]
    },
    {
     "name": "stdout",
     "output_type": "stream",
     "text": [
      "file downloaded and saved as  cache/era5_single-levels-monthly-means_1992_months56789_tcwv_60,50,10,130.nc\n"
     ]
    },
    {
     "name": "stderr",
     "output_type": "stream",
     "text": [
      "2020-10-26 16:26:50,836 INFO Request is queued\n",
      "2020-10-26 16:26:51,877 INFO Request is running\n",
      "2020-10-26 16:26:59,119 INFO Request is completed\n",
      "2020-10-26 16:26:59,120 INFO Downloading http://136.156.133.37/cache-compute-0011/cache/data1/adaptor.mars.internal-1603726011.8093352-24293-18-4654c917-b9ef-4176-a541-0693f9b67569.nc to cache/era5_single-levels-monthly-means_1993_months56789_tcwv_60,50,10,130.nc (633.3K)\n",
      "2020-10-26 16:26:59,619 INFO Download rate 1.2M/s \n",
      "2020-10-26 16:26:59,885 INFO Welcome to the CDS\n",
      "2020-10-26 16:26:59,886 INFO Sending request to https://cds.climate.copernicus.eu/api/v2/resources/reanalysis-era5-single-levels-monthly-means\n"
     ]
    },
    {
     "name": "stdout",
     "output_type": "stream",
     "text": [
      "file downloaded and saved as  cache/era5_single-levels-monthly-means_1993_months56789_tcwv_60,50,10,130.nc\n"
     ]
    },
    {
     "name": "stderr",
     "output_type": "stream",
     "text": [
      "2020-10-26 16:26:59,999 INFO Request is queued\n",
      "2020-10-26 16:27:01,033 INFO Request is running\n",
      "2020-10-26 16:27:04,854 INFO Request is completed\n",
      "2020-10-26 16:27:04,855 INFO Downloading http://136.156.133.37/cache-compute-0011/cache/data6/adaptor.mars.internal-1603726020.394349-1893-24-cbdc5f9a-85c3-4797-a92c-659916d18246.nc to cache/era5_single-levels-monthly-means_1994_months56789_tcwv_60,50,10,130.nc (633.3K)\n",
      "2020-10-26 16:27:05,381 INFO Download rate 1.2M/s \n",
      "2020-10-26 16:27:05,601 INFO Welcome to the CDS\n",
      "2020-10-26 16:27:05,602 INFO Sending request to https://cds.climate.copernicus.eu/api/v2/resources/reanalysis-era5-single-levels-monthly-means\n"
     ]
    },
    {
     "name": "stdout",
     "output_type": "stream",
     "text": [
      "file downloaded and saved as  cache/era5_single-levels-monthly-means_1994_months56789_tcwv_60,50,10,130.nc\n"
     ]
    },
    {
     "name": "stderr",
     "output_type": "stream",
     "text": [
      "2020-10-26 16:27:05,746 INFO Request is queued\n",
      "2020-10-26 16:27:06,781 INFO Request is running\n",
      "2020-10-26 16:27:08,320 INFO Request is completed\n",
      "2020-10-26 16:27:08,321 INFO Downloading http://136.156.133.32/cache-compute-0009/cache/data7/adaptor.mars.internal-1603726025.9688919-32210-24-4e73b56e-6b9c-4bca-a691-f506cacbbd62.nc to cache/era5_single-levels-monthly-means_1995_months56789_tcwv_60,50,10,130.nc (633.3K)\n",
      "2020-10-26 16:27:08,821 INFO Download rate 1.2M/s \n",
      "2020-10-26 16:27:09,000 INFO Welcome to the CDS\n",
      "2020-10-26 16:27:09,000 INFO Sending request to https://cds.climate.copernicus.eu/api/v2/resources/reanalysis-era5-single-levels-monthly-means\n"
     ]
    },
    {
     "name": "stdout",
     "output_type": "stream",
     "text": [
      "file downloaded and saved as  cache/era5_single-levels-monthly-means_1995_months56789_tcwv_60,50,10,130.nc\n"
     ]
    },
    {
     "name": "stderr",
     "output_type": "stream",
     "text": [
      "2020-10-26 16:27:09,117 INFO Request is queued\n",
      "2020-10-26 16:27:10,152 INFO Request is running\n",
      "2020-10-26 16:27:13,972 INFO Request is completed\n",
      "2020-10-26 16:27:13,973 INFO Downloading http://136.156.133.32/cache-compute-0009/cache/data0/adaptor.mars.internal-1603726029.7230904-27571-13-5a29ac7f-fba3-4d82-b5d7-7cb1411ff4f6.nc to cache/era5_single-levels-monthly-means_1996_months56789_tcwv_60,50,10,130.nc (633.3K)\n",
      "2020-10-26 16:27:14,215 INFO Download rate 2.6M/s \n",
      "2020-10-26 16:27:14,488 INFO Welcome to the CDS\n",
      "2020-10-26 16:27:14,489 INFO Sending request to https://cds.climate.copernicus.eu/api/v2/resources/reanalysis-era5-single-levels-monthly-means\n"
     ]
    },
    {
     "name": "stdout",
     "output_type": "stream",
     "text": [
      "file downloaded and saved as  cache/era5_single-levels-monthly-means_1996_months56789_tcwv_60,50,10,130.nc\n"
     ]
    },
    {
     "name": "stderr",
     "output_type": "stream",
     "text": [
      "2020-10-26 16:27:14,618 INFO Request is queued\n",
      "2020-10-26 16:27:15,653 INFO Request is running\n",
      "2020-10-26 16:27:19,476 INFO Request is completed\n",
      "2020-10-26 16:27:19,477 INFO Downloading http://136.156.133.32/cache-compute-0009/cache/data0/adaptor.mars.internal-1603726035.1954083-6955-10-570cee6b-c063-4403-9910-8f2c9165b284.nc to cache/era5_single-levels-monthly-means_1997_months56789_tcwv_60,50,10,130.nc (633.3K)\n",
      "2020-10-26 16:27:19,980 INFO Download rate 1.2M/s \n",
      "2020-10-26 16:27:20,186 INFO Welcome to the CDS\n",
      "2020-10-26 16:27:20,187 INFO Sending request to https://cds.climate.copernicus.eu/api/v2/resources/reanalysis-era5-single-levels-monthly-means\n"
     ]
    },
    {
     "name": "stdout",
     "output_type": "stream",
     "text": [
      "file downloaded and saved as  cache/era5_single-levels-monthly-means_1997_months56789_tcwv_60,50,10,130.nc\n"
     ]
    },
    {
     "name": "stderr",
     "output_type": "stream",
     "text": [
      "2020-10-26 16:27:20,482 INFO Request is queued\n",
      "2020-10-26 16:27:21,517 INFO Request is running\n",
      "2020-10-26 16:27:23,052 INFO Request is completed\n",
      "2020-10-26 16:27:23,052 INFO Downloading http://136.156.133.42/cache-compute-0014/cache/data2/adaptor.mars.internal-1603726040.6681664-25938-29-db1073d2-27b4-44c4-9d57-90fced764f29.nc to cache/era5_single-levels-monthly-means_1998_months56789_tcwv_60,50,10,130.nc (633.3K)\n",
      "2020-10-26 16:27:23,297 INFO Download rate 2.5M/s \n",
      "2020-10-26 16:27:23,516 INFO Welcome to the CDS\n",
      "2020-10-26 16:27:23,517 INFO Sending request to https://cds.climate.copernicus.eu/api/v2/resources/reanalysis-era5-single-levels-monthly-means\n"
     ]
    },
    {
     "name": "stdout",
     "output_type": "stream",
     "text": [
      "file downloaded and saved as  cache/era5_single-levels-monthly-means_1998_months56789_tcwv_60,50,10,130.nc\n"
     ]
    },
    {
     "name": "stderr",
     "output_type": "stream",
     "text": [
      "2020-10-26 16:27:23,759 INFO Request is queued\n",
      "2020-10-26 16:27:24,794 INFO Request is running\n",
      "2020-10-26 16:27:28,615 INFO Request is completed\n",
      "2020-10-26 16:27:28,616 INFO Downloading http://136.156.132.210/cache-compute-0005/cache/data8/adaptor.mars.internal-1603726044.4447427-24071-30-9be840fe-af15-4e59-8687-e611f57e22b5.nc to cache/era5_single-levels-monthly-means_1999_months56789_tcwv_60,50,10,130.nc (633.3K)\n",
      "2020-10-26 16:27:29,116 INFO Download rate 1.2M/s \n",
      "2020-10-26 16:27:29,284 INFO Welcome to the CDS\n",
      "2020-10-26 16:27:29,285 INFO Sending request to https://cds.climate.copernicus.eu/api/v2/resources/reanalysis-era5-single-levels-monthly-means\n"
     ]
    },
    {
     "name": "stdout",
     "output_type": "stream",
     "text": [
      "file downloaded and saved as  cache/era5_single-levels-monthly-means_1999_months56789_tcwv_60,50,10,130.nc\n"
     ]
    },
    {
     "name": "stderr",
     "output_type": "stream",
     "text": [
      "2020-10-26 16:27:29,428 INFO Request is queued\n",
      "2020-10-26 16:27:30,463 INFO Request is running\n",
      "2020-10-26 16:27:31,998 INFO Request is completed\n",
      "2020-10-26 16:27:31,999 INFO Downloading http://136.156.132.105/cache-compute-0000/cache/data3/adaptor.mars.internal-1603726049.712534-15650-3-52b7af82-27f5-456a-8954-bfe7d7537544.nc to cache/era5_single-levels-monthly-means_2000_months56789_tcwv_60,50,10,130.nc (633.3K)\n",
      "2020-10-26 16:27:32,555 INFO Download rate 1.1M/s \n",
      "2020-10-26 16:27:32,749 INFO Welcome to the CDS\n",
      "2020-10-26 16:27:32,749 INFO Sending request to https://cds.climate.copernicus.eu/api/v2/resources/reanalysis-era5-single-levels-monthly-means\n"
     ]
    },
    {
     "name": "stdout",
     "output_type": "stream",
     "text": [
      "file downloaded and saved as  cache/era5_single-levels-monthly-means_2000_months56789_tcwv_60,50,10,130.nc\n"
     ]
    },
    {
     "name": "stderr",
     "output_type": "stream",
     "text": [
      "2020-10-26 16:27:33,052 INFO Request is queued\n",
      "2020-10-26 16:27:34,088 INFO Request is running\n",
      "2020-10-26 16:27:35,714 INFO Request is completed\n",
      "2020-10-26 16:27:35,715 INFO Downloading http://136.156.133.42/cache-compute-0014/cache/data1/adaptor.mars.internal-1603726053.264642-1256-6-4c8f5978-11d8-4d88-bf85-b7644ef32e8b.nc to cache/era5_single-levels-monthly-means_2001_months56789_tcwv_60,50,10,130.nc (633.3K)\n",
      "2020-10-26 16:27:35,958 INFO Download rate 2.5M/s \n",
      "2020-10-26 16:27:36,167 INFO Welcome to the CDS\n",
      "2020-10-26 16:27:36,168 INFO Sending request to https://cds.climate.copernicus.eu/api/v2/resources/reanalysis-era5-single-levels-monthly-means\n"
     ]
    },
    {
     "name": "stdout",
     "output_type": "stream",
     "text": [
      "file downloaded and saved as  cache/era5_single-levels-monthly-means_2001_months56789_tcwv_60,50,10,130.nc\n"
     ]
    },
    {
     "name": "stderr",
     "output_type": "stream",
     "text": [
      "2020-10-26 16:27:36,256 INFO Request is queued\n",
      "2020-10-26 16:27:37,291 INFO Request is running\n",
      "2020-10-26 16:27:38,826 INFO Request is completed\n",
      "2020-10-26 16:27:38,827 INFO Downloading http://136.156.133.39/cache-compute-0012/cache/data3/adaptor.mars.internal-1603726056.7431917-20165-22-acbff8a4-2d10-4cf0-83b9-b497204d8cc2.nc to cache/era5_single-levels-monthly-means_2002_months56789_tcwv_60,50,10,130.nc (633.3K)\n",
      "2020-10-26 16:27:39,353 INFO Download rate 1.2M/s \n",
      "2020-10-26 16:27:39,558 INFO Welcome to the CDS\n",
      "2020-10-26 16:27:39,558 INFO Sending request to https://cds.climate.copernicus.eu/api/v2/resources/reanalysis-era5-single-levels-monthly-means\n"
     ]
    },
    {
     "name": "stdout",
     "output_type": "stream",
     "text": [
      "file downloaded and saved as  cache/era5_single-levels-monthly-means_2002_months56789_tcwv_60,50,10,130.nc\n"
     ]
    },
    {
     "name": "stderr",
     "output_type": "stream",
     "text": [
      "2020-10-26 16:27:39,716 INFO Request is queued\n",
      "2020-10-26 16:27:40,750 INFO Request is running\n",
      "2020-10-26 16:27:42,285 INFO Request is completed\n",
      "2020-10-26 16:27:42,286 INFO Downloading http://136.156.133.32/cache-compute-0009/cache/data7/adaptor.mars.internal-1603726059.8686056-32210-27-00ddc0a7-0656-419d-a430-e28f38883208.nc to cache/era5_single-levels-monthly-means_2003_months56789_tcwv_60,50,10,130.nc (633.3K)\n",
      "2020-10-26 16:27:42,815 INFO Download rate 1.2M/s \n",
      "2020-10-26 16:27:42,988 INFO Welcome to the CDS\n",
      "2020-10-26 16:27:42,989 INFO Sending request to https://cds.climate.copernicus.eu/api/v2/resources/reanalysis-era5-single-levels-monthly-means\n"
     ]
    },
    {
     "name": "stdout",
     "output_type": "stream",
     "text": [
      "file downloaded and saved as  cache/era5_single-levels-monthly-means_2003_months56789_tcwv_60,50,10,130.nc\n"
     ]
    },
    {
     "name": "stderr",
     "output_type": "stream",
     "text": [
      "2020-10-26 16:27:43,123 INFO Request is queued\n",
      "2020-10-26 16:27:44,157 INFO Request is running\n",
      "2020-10-26 16:27:45,691 INFO Request is completed\n",
      "2020-10-26 16:27:45,692 INFO Downloading http://136.156.133.39/cache-compute-0012/cache/data2/adaptor.mars.internal-1603726063.640327-21618-20-e2866220-738b-4699-9424-e4d2ceb4dc2d.nc to cache/era5_single-levels-monthly-means_2004_months56789_tcwv_60,50,10,130.nc (633.3K)\n",
      "2020-10-26 16:27:45,934 INFO Download rate 2.6M/s \n",
      "2020-10-26 16:27:46,111 INFO Welcome to the CDS\n",
      "2020-10-26 16:27:46,111 INFO Sending request to https://cds.climate.copernicus.eu/api/v2/resources/reanalysis-era5-single-levels-monthly-means\n"
     ]
    },
    {
     "name": "stdout",
     "output_type": "stream",
     "text": [
      "file downloaded and saved as  cache/era5_single-levels-monthly-means_2004_months56789_tcwv_60,50,10,130.nc\n"
     ]
    },
    {
     "name": "stderr",
     "output_type": "stream",
     "text": [
      "2020-10-26 16:27:46,208 INFO Request is queued\n",
      "2020-10-26 16:27:47,242 INFO Request is running\n",
      "2020-10-26 16:27:48,776 INFO Request is completed\n",
      "2020-10-26 16:27:48,777 INFO Downloading http://136.156.132.210/cache-compute-0005/cache/data5/adaptor.mars.internal-1603726066.3649285-6996-6-f7e0327a-931b-4be5-a543-a0bad8551cc6.nc to cache/era5_single-levels-monthly-means_2005_months56789_tcwv_60,50,10,130.nc (633.3K)\n",
      "2020-10-26 16:27:49,303 INFO Download rate 1.2M/s \n"
     ]
    },
    {
     "name": "stdout",
     "output_type": "stream",
     "text": [
      "file downloaded and saved as  cache/era5_single-levels-monthly-means_2005_months56789_tcwv_60,50,10,130.nc\n"
     ]
    },
    {
     "name": "stderr",
     "output_type": "stream",
     "text": [
      "2020-10-26 16:27:49,651 INFO Welcome to the CDS\n",
      "2020-10-26 16:27:49,652 INFO Sending request to https://cds.climate.copernicus.eu/api/v2/resources/reanalysis-era5-single-levels-monthly-means\n",
      "2020-10-26 16:27:49,832 INFO Request is queued\n",
      "2020-10-26 16:27:50,866 INFO Request is running\n",
      "2020-10-26 16:27:52,402 INFO Request is completed\n",
      "2020-10-26 16:27:52,403 INFO Downloading http://136.156.132.201/cache-compute-0004/cache/data9/adaptor.mars.internal-1603726070.1642513-8749-16-c6cabb8d-5339-48f1-b125-61550d2d7f5a.nc to cache/era5_single-levels-monthly-means_2006_months56789_tcwv_60,50,10,130.nc (633.3K)\n",
      "2020-10-26 16:27:52,929 INFO Download rate 1.2M/s \n",
      "2020-10-26 16:27:53,103 INFO Welcome to the CDS\n",
      "2020-10-26 16:27:53,103 INFO Sending request to https://cds.climate.copernicus.eu/api/v2/resources/reanalysis-era5-single-levels-monthly-means\n"
     ]
    },
    {
     "name": "stdout",
     "output_type": "stream",
     "text": [
      "file downloaded and saved as  cache/era5_single-levels-monthly-means_2006_months56789_tcwv_60,50,10,130.nc\n"
     ]
    },
    {
     "name": "stderr",
     "output_type": "stream",
     "text": [
      "2020-10-26 16:27:53,199 INFO Request is queued\n",
      "2020-10-26 16:27:54,234 INFO Request is running\n",
      "2020-10-26 16:27:55,769 INFO Request is completed\n",
      "2020-10-26 16:27:55,769 INFO Downloading http://136.156.132.235/cache-compute-0006/cache/data7/adaptor.mars.internal-1603726073.47104-6196-7-37c3fdb9-0f31-4d3b-b357-f672e872f2f5.nc to cache/era5_single-levels-monthly-means_2007_months56789_tcwv_60,50,10,130.nc (633.3K)\n",
      "2020-10-26 16:27:56,014 INFO Download rate 2.5M/s \n",
      "2020-10-26 16:27:56,176 INFO Welcome to the CDS\n",
      "2020-10-26 16:27:56,177 INFO Sending request to https://cds.climate.copernicus.eu/api/v2/resources/reanalysis-era5-single-levels-monthly-means\n"
     ]
    },
    {
     "name": "stdout",
     "output_type": "stream",
     "text": [
      "file downloaded and saved as  cache/era5_single-levels-monthly-means_2007_months56789_tcwv_60,50,10,130.nc\n"
     ]
    },
    {
     "name": "stderr",
     "output_type": "stream",
     "text": [
      "2020-10-26 16:27:56,294 INFO Request is queued\n",
      "2020-10-26 16:27:57,328 INFO Request is running\n",
      "2020-10-26 16:27:58,863 INFO Request is completed\n",
      "2020-10-26 16:27:58,864 INFO Downloading http://136.156.133.41/cache-compute-0013/cache/data7/adaptor.mars.internal-1603726076.6476815-8858-10-680f7416-2995-4071-8cf3-bc5ddae702e9.nc to cache/era5_single-levels-monthly-means_2008_months56789_tcwv_60,50,10,130.nc (633.3K)\n",
      "2020-10-26 16:27:59,363 INFO Download rate 1.2M/s \n",
      "2020-10-26 16:27:59,690 INFO Welcome to the CDS\n",
      "2020-10-26 16:27:59,690 INFO Sending request to https://cds.climate.copernicus.eu/api/v2/resources/reanalysis-era5-single-levels-monthly-means\n"
     ]
    },
    {
     "name": "stdout",
     "output_type": "stream",
     "text": [
      "file downloaded and saved as  cache/era5_single-levels-monthly-means_2008_months56789_tcwv_60,50,10,130.nc\n"
     ]
    },
    {
     "name": "stderr",
     "output_type": "stream",
     "text": [
      "2020-10-26 16:27:59,809 INFO Request is queued\n",
      "2020-10-26 16:28:00,844 INFO Request is running\n",
      "2020-10-26 16:28:04,664 INFO Request is completed\n",
      "2020-10-26 16:28:04,665 INFO Downloading http://136.156.132.153/cache-compute-0002/cache/data0/adaptor.mars.internal-1603726080.022633-24075-21-e4e0f991-fcbe-4a0f-855d-8d4270d9227c.nc to cache/era5_single-levels-monthly-means_2009_months56789_tcwv_60,50,10,130.nc (633.3K)\n",
      "2020-10-26 16:28:05,191 INFO Download rate 1.2M/s \n",
      "2020-10-26 16:28:05,414 INFO Welcome to the CDS\n",
      "2020-10-26 16:28:05,415 INFO Sending request to https://cds.climate.copernicus.eu/api/v2/resources/reanalysis-era5-single-levels-monthly-means\n"
     ]
    },
    {
     "name": "stdout",
     "output_type": "stream",
     "text": [
      "file downloaded and saved as  cache/era5_single-levels-monthly-means_2009_months56789_tcwv_60,50,10,130.nc\n"
     ]
    },
    {
     "name": "stderr",
     "output_type": "stream",
     "text": [
      "2020-10-26 16:28:05,523 INFO Request is queued\n",
      "2020-10-26 16:28:06,557 INFO Request is running\n",
      "2020-10-26 16:28:08,094 INFO Request is completed\n",
      "2020-10-26 16:28:08,094 INFO Downloading http://136.156.133.46/cache-compute-0015/cache/data0/adaptor.mars.internal-1603726085.9603698-22813-1-73c89c2b-854b-45d2-986b-ec2bb19ecd5d.nc to cache/era5_single-levels-monthly-means_2010_months56789_tcwv_60,50,10,130.nc (633.3K)\n",
      "2020-10-26 16:28:08,594 INFO Download rate 1.2M/s \n",
      "2020-10-26 16:28:08,757 INFO Welcome to the CDS\n",
      "2020-10-26 16:28:08,757 INFO Sending request to https://cds.climate.copernicus.eu/api/v2/resources/reanalysis-era5-single-levels-monthly-means\n"
     ]
    },
    {
     "name": "stdout",
     "output_type": "stream",
     "text": [
      "file downloaded and saved as  cache/era5_single-levels-monthly-means_2010_months56789_tcwv_60,50,10,130.nc\n"
     ]
    },
    {
     "name": "stderr",
     "output_type": "stream",
     "text": [
      "2020-10-26 16:28:08,916 INFO Request is queued\n",
      "2020-10-26 16:28:09,951 INFO Request is running\n",
      "2020-10-26 16:28:11,485 INFO Request is completed\n",
      "2020-10-26 16:28:11,486 INFO Downloading http://136.156.133.39/cache-compute-0012/cache/data5/adaptor.mars.internal-1603726089.4381125-17824-31-7c16af1c-c745-4229-ad6e-b57a61b2b991.nc to cache/era5_single-levels-monthly-means_2011_months56789_tcwv_60,50,10,130.nc (633.3K)\n",
      "2020-10-26 16:28:11,984 INFO Download rate 1.2M/s \n",
      "2020-10-26 16:28:12,178 INFO Welcome to the CDS\n",
      "2020-10-26 16:28:12,179 INFO Sending request to https://cds.climate.copernicus.eu/api/v2/resources/reanalysis-era5-single-levels-monthly-means\n"
     ]
    },
    {
     "name": "stdout",
     "output_type": "stream",
     "text": [
      "file downloaded and saved as  cache/era5_single-levels-monthly-means_2011_months56789_tcwv_60,50,10,130.nc\n"
     ]
    },
    {
     "name": "stderr",
     "output_type": "stream",
     "text": [
      "2020-10-26 16:28:12,373 INFO Request is queued\n",
      "2020-10-26 16:28:13,408 INFO Request is running\n",
      "2020-10-26 16:28:14,942 INFO Request is completed\n",
      "2020-10-26 16:28:14,943 INFO Downloading http://136.156.132.235/cache-compute-0006/cache/data8/adaptor.mars.internal-1603726092.5330923-3152-16-f7ed8c95-fb82-43b5-9b2b-1d754ad4e284.nc to cache/era5_single-levels-monthly-means_2012_months56789_tcwv_60,50,10,130.nc (633.3K)\n",
      "2020-10-26 16:28:15,500 INFO Download rate 1.1M/s \n",
      "2020-10-26 16:28:15,662 INFO Welcome to the CDS\n",
      "2020-10-26 16:28:15,662 INFO Sending request to https://cds.climate.copernicus.eu/api/v2/resources/reanalysis-era5-single-levels-monthly-means\n",
      "2020-10-26 16:28:15,727 INFO Request is queued\n"
     ]
    },
    {
     "name": "stdout",
     "output_type": "stream",
     "text": [
      "file downloaded and saved as  cache/era5_single-levels-monthly-means_2012_months56789_tcwv_60,50,10,130.nc\n"
     ]
    },
    {
     "name": "stderr",
     "output_type": "stream",
     "text": [
      "2020-10-26 16:28:16,762 INFO Request is running\n",
      "2020-10-26 16:28:18,298 INFO Request is completed\n",
      "2020-10-26 16:28:18,299 INFO Downloading http://136.156.133.32/cache-compute-0009/cache/data0/adaptor.mars.internal-1603726096.0939052-7794-6-02d47430-135a-446f-ae03-d9a326278df1.nc to cache/era5_single-levels-monthly-means_2013_months56789_tcwv_60,50,10,130.nc (633.3K)\n",
      "2020-10-26 16:28:18,825 INFO Download rate 1.2M/s \n",
      "2020-10-26 16:28:19,004 INFO Welcome to the CDS\n",
      "2020-10-26 16:28:19,004 INFO Sending request to https://cds.climate.copernicus.eu/api/v2/resources/reanalysis-era5-single-levels-monthly-means\n"
     ]
    },
    {
     "name": "stdout",
     "output_type": "stream",
     "text": [
      "file downloaded and saved as  cache/era5_single-levels-monthly-means_2013_months56789_tcwv_60,50,10,130.nc\n"
     ]
    },
    {
     "name": "stderr",
     "output_type": "stream",
     "text": [
      "2020-10-26 16:28:19,086 INFO Request is queued\n",
      "2020-10-26 16:28:20,122 INFO Request is running\n",
      "2020-10-26 16:28:21,658 INFO Request is completed\n",
      "2020-10-26 16:28:21,659 INFO Downloading http://136.156.133.36/cache-compute-0010/cache/data3/adaptor.mars.internal-1603726099.4101973-12374-9-16b91c39-7ff6-4d18-a0b2-b1cef8a9b16e.nc to cache/era5_single-levels-monthly-means_2014_months56789_tcwv_60,50,10,130.nc (633.3K)\n",
      "2020-10-26 16:28:22,186 INFO Download rate 1.2M/s \n",
      "2020-10-26 16:28:22,356 INFO Welcome to the CDS\n",
      "2020-10-26 16:28:22,357 INFO Sending request to https://cds.climate.copernicus.eu/api/v2/resources/reanalysis-era5-single-levels-monthly-means\n"
     ]
    },
    {
     "name": "stdout",
     "output_type": "stream",
     "text": [
      "file downloaded and saved as  cache/era5_single-levels-monthly-means_2014_months56789_tcwv_60,50,10,130.nc\n"
     ]
    },
    {
     "name": "stderr",
     "output_type": "stream",
     "text": [
      "2020-10-26 16:28:22,437 INFO Request is queued\n",
      "2020-10-26 16:28:23,470 INFO Request is running\n",
      "2020-10-26 16:28:27,290 INFO Request is completed\n",
      "2020-10-26 16:28:27,291 INFO Downloading http://136.156.132.201/cache-compute-0004/cache/data9/adaptor.mars.internal-1603726103.1288157-9470-16-bbf76548-58b2-4e34-8f71-110e9408d78d.nc to cache/era5_single-levels-monthly-means_2015_months56789_tcwv_60,50,10,130.nc (633.3K)\n",
      "2020-10-26 16:28:27,791 INFO Download rate 1.2M/s \n",
      "2020-10-26 16:28:27,993 INFO Welcome to the CDS\n",
      "2020-10-26 16:28:27,993 INFO Sending request to https://cds.climate.copernicus.eu/api/v2/resources/reanalysis-era5-single-levels-monthly-means\n"
     ]
    },
    {
     "name": "stdout",
     "output_type": "stream",
     "text": [
      "file downloaded and saved as  cache/era5_single-levels-monthly-means_2015_months56789_tcwv_60,50,10,130.nc\n"
     ]
    },
    {
     "name": "stderr",
     "output_type": "stream",
     "text": [
      "2020-10-26 16:28:28,445 INFO Request is queued\n",
      "2020-10-26 16:28:29,479 INFO Request is running\n",
      "2020-10-26 16:28:31,014 INFO Request is completed\n",
      "2020-10-26 16:28:31,014 INFO Downloading http://136.156.133.32/cache-compute-0009/cache/data4/adaptor.mars.internal-1603726108.6915371-7550-10-542cb716-51e8-4814-97ac-a3948cf63a8b.nc to cache/era5_single-levels-monthly-means_2016_months56789_tcwv_60,50,10,130.nc (633.3K)\n",
      "2020-10-26 16:28:31,542 INFO Download rate 1.2M/s \n",
      "2020-10-26 16:28:32,053 INFO Welcome to the CDS\n",
      "2020-10-26 16:28:32,053 INFO Sending request to https://cds.climate.copernicus.eu/api/v2/resources/reanalysis-era5-single-levels-monthly-means\n"
     ]
    },
    {
     "name": "stdout",
     "output_type": "stream",
     "text": [
      "file downloaded and saved as  cache/era5_single-levels-monthly-means_2016_months56789_tcwv_60,50,10,130.nc\n"
     ]
    },
    {
     "name": "stderr",
     "output_type": "stream",
     "text": [
      "2020-10-26 16:28:32,201 INFO Request is queued\n",
      "2020-10-26 16:28:33,236 INFO Request is running\n",
      "2020-10-26 16:28:37,057 INFO Request is completed\n",
      "2020-10-26 16:28:37,058 INFO Downloading http://136.156.132.153/cache-compute-0002/cache/data1/adaptor.mars.internal-1603726112.5379555-24829-20-81436d37-563d-444b-8a3d-9040f8fc65f3.nc to cache/era5_single-levels-monthly-means_2017_months56789_tcwv_60,50,10,130.nc (633.3K)\n",
      "2020-10-26 16:28:37,584 INFO Download rate 1.2M/s \n",
      "2020-10-26 16:28:37,764 INFO Welcome to the CDS\n",
      "2020-10-26 16:28:37,764 INFO Sending request to https://cds.climate.copernicus.eu/api/v2/resources/reanalysis-era5-single-levels-monthly-means\n"
     ]
    },
    {
     "name": "stdout",
     "output_type": "stream",
     "text": [
      "file downloaded and saved as  cache/era5_single-levels-monthly-means_2017_months56789_tcwv_60,50,10,130.nc\n"
     ]
    },
    {
     "name": "stderr",
     "output_type": "stream",
     "text": [
      "2020-10-26 16:28:37,908 INFO Request is queued\n",
      "2020-10-26 16:28:38,948 INFO Request is running\n",
      "2020-10-26 16:28:42,767 INFO Request is completed\n",
      "2020-10-26 16:28:42,768 INFO Downloading http://136.156.133.25/cache-compute-0008/cache/data1/adaptor.mars.internal-1603726118.4969232-30973-24-7cf48106-53b1-414a-8b24-c4030640ced0.nc to cache/era5_single-levels-monthly-means_2018_months56789_tcwv_60,50,10,130.nc (633.3K)\n",
      "2020-10-26 16:28:43,011 INFO Download rate 2.6M/s \n",
      "2020-10-26 16:28:43,224 INFO Welcome to the CDS\n",
      "2020-10-26 16:28:43,224 INFO Sending request to https://cds.climate.copernicus.eu/api/v2/resources/reanalysis-era5-single-levels-monthly-means\n"
     ]
    },
    {
     "name": "stdout",
     "output_type": "stream",
     "text": [
      "file downloaded and saved as  cache/era5_single-levels-monthly-means_2018_months56789_tcwv_60,50,10,130.nc\n"
     ]
    },
    {
     "name": "stderr",
     "output_type": "stream",
     "text": [
      "2020-10-26 16:28:43,548 INFO Request is queued\n",
      "2020-10-26 16:28:44,581 INFO Request is running\n",
      "2020-10-26 16:28:46,116 INFO Request is completed\n",
      "2020-10-26 16:28:46,117 INFO Downloading http://136.156.133.39/cache-compute-0012/cache/data7/adaptor.mars.internal-1603726123.972222-21174-26-21a3a084-704a-4ec4-bf29-9c5b6f42ab09.nc to cache/era5_single-levels-monthly-means_2019_months56789_tcwv_60,50,10,130.nc (633.3K)\n",
      "2020-10-26 16:28:46,645 INFO Download rate 1.2M/s \n"
     ]
    },
    {
     "name": "stdout",
     "output_type": "stream",
     "text": [
      "file downloaded and saved as  cache/era5_single-levels-monthly-means_2019_months56789_tcwv_60,50,10,130.nc\n"
     ]
    }
   ],
   "source": [
    "era5_pressure = creampy.dataproducts.ERA5('single-levels', variables, 'monthly', domain = ['60', '50', '10','130'])\n",
    "era5_pressure.get_data_per_year(np.arange(1979,2020).astype(str),  months = ['5', '6', '7','8', '9'], pressure_levels ='all')"
   ]
  },
  {
   "cell_type": "markdown",
   "metadata": {},
   "source": [
    "## Download ERA5 data for 2D precip\n",
    "\n"
   ]
  },
  {
   "cell_type": "code",
   "execution_count": 15,
   "metadata": {},
   "outputs": [],
   "source": [
    "# ERA5 pressure levels, variables q u v p, monthly resolution, domain \n",
    "variables = ['convective_precipitation', 'large_scale_precipitation', 'total_precipitation']\n",
    "variables = ['vertically_integrated_moisture_divergence']\n",
    "era5_single= creampy.dataproducts.ERA5('single-levels', variables, 'monthly', domain = ['60', '50', '10','130'] )"
   ]
  },
  {
   "cell_type": "code",
   "execution_count": 16,
   "metadata": {},
   "outputs": [
    {
     "name": "stderr",
     "output_type": "stream",
     "text": [
      "2020-09-16 16:35:25,551 INFO Welcome to the CDS\n",
      "2020-09-16 16:35:25,552 INFO Sending request to https://cds.climate.copernicus.eu/api/v2/resources/reanalysis-era5-single-levels-monthly-means\n",
      "2020-09-16 16:35:26,363 INFO Request is queued\n",
      "2020-09-16 16:35:28,946 INFO Request is running\n",
      "2020-09-16 16:35:47,374 INFO Request is failed\n",
      "2020-09-16 16:35:47,375 ERROR Message: no data is available within your requested subset\n",
      "2020-09-16 16:35:47,376 ERROR Reason:  Request returned no data\n",
      "2020-09-16 16:35:47,376 ERROR   Traceback (most recent call last):\n",
      "2020-09-16 16:35:47,376 ERROR     File \"/opt/cdstoolbox/cdscompute/cdscompute/cdshandlers/services/handler.py\", line 49, in handle_request\n",
      "2020-09-16 16:35:47,377 ERROR       result = cached(context.method, proc, context, context.args, context.kwargs)\n",
      "2020-09-16 16:35:47,377 ERROR     File \"/opt/cdstoolbox/cdscompute/cdscompute/caching.py\", line 108, in cached\n",
      "2020-09-16 16:35:47,378 ERROR       result = proc(context, *context.args, **context.kwargs)\n",
      "2020-09-16 16:35:47,379 ERROR     File \"/opt/cdstoolbox/cdscompute/cdscompute/services.py\", line 118, in __call__\n",
      "2020-09-16 16:35:47,379 ERROR       return p(*args, **kwargs)\n",
      "2020-09-16 16:35:47,379 ERROR     File \"/opt/cdstoolbox/cdscompute/cdscompute/services.py\", line 59, in __call__\n",
      "2020-09-16 16:35:47,380 ERROR       return self.proc(context, *args, **kwargs)\n",
      "2020-09-16 16:35:47,380 ERROR     File \"/home/cds/cdsservices/services/mars.py\", line 347, in internal\n",
      "2020-09-16 16:35:47,380 ERROR       return mars(context, request, **kwargs)\n",
      "2020-09-16 16:35:47,380 ERROR     File \"/home/cds/cdsservices/services/mars.py\", line 48, in mars\n",
      "2020-09-16 16:35:47,381 ERROR       execute_mars(context, requests)\n",
      "2020-09-16 16:35:47,381 ERROR     File \"/home/cds/cdsservices/services/mars.py\", line 196, in execute_mars\n",
      "2020-09-16 16:35:47,381 ERROR       raise NoDataException(\"Request returned no data\", '')\n",
      "2020-09-16 16:35:47,381 ERROR   cdsinf.exceptions.NoDataException: Request returned no data\n"
     ]
    },
    {
     "ename": "Exception",
     "evalue": "no data is available within your requested subset. Request returned no data.",
     "output_type": "error",
     "traceback": [
      "\u001b[0;31m---------------------------------------------------------------------------\u001b[0m",
      "\u001b[0;31mException\u001b[0m                                 Traceback (most recent call last)",
      "\u001b[0;32m<ipython-input-16-6057ccc2053e>\u001b[0m in \u001b[0;36m<module>\u001b[0;34m\u001b[0m\n\u001b[1;32m      1\u001b[0m \u001b[0;31m# download data\u001b[0m\u001b[0;34m\u001b[0m\u001b[0;34m\u001b[0m\u001b[0;34m\u001b[0m\u001b[0m\n\u001b[0;32m----> 2\u001b[0;31m \u001b[0mera5_single\u001b[0m\u001b[0;34m.\u001b[0m\u001b[0mget_data_per_year\u001b[0m\u001b[0;34m(\u001b[0m\u001b[0myears\u001b[0m \u001b[0;34m=\u001b[0m \u001b[0mlist\u001b[0m\u001b[0;34m(\u001b[0m\u001b[0mnp\u001b[0m\u001b[0;34m.\u001b[0m\u001b[0marange\u001b[0m\u001b[0;34m(\u001b[0m\u001b[0;36m1979\u001b[0m\u001b[0;34m,\u001b[0m\u001b[0;36m2020\u001b[0m\u001b[0;34m)\u001b[0m\u001b[0;34m.\u001b[0m\u001b[0mastype\u001b[0m\u001b[0;34m(\u001b[0m\u001b[0mstr\u001b[0m\u001b[0;34m)\u001b[0m\u001b[0;34m)\u001b[0m\u001b[0;34m,\u001b[0m \u001b[0mmonths\u001b[0m \u001b[0;34m=\u001b[0m \u001b[0mlist\u001b[0m\u001b[0;34m(\u001b[0m\u001b[0mnp\u001b[0m\u001b[0;34m.\u001b[0m\u001b[0marange\u001b[0m\u001b[0;34m(\u001b[0m\u001b[0;36m5\u001b[0m\u001b[0;34m,\u001b[0m\u001b[0;36m10\u001b[0m\u001b[0;34m)\u001b[0m\u001b[0;34m.\u001b[0m\u001b[0mastype\u001b[0m\u001b[0;34m(\u001b[0m\u001b[0mstr\u001b[0m\u001b[0;34m)\u001b[0m\u001b[0;34m)\u001b[0m\u001b[0;34m)\u001b[0m\u001b[0;34m\u001b[0m\u001b[0;34m\u001b[0m\u001b[0m\n\u001b[0m",
      "\u001b[0;32m/media/juli/Data/projects/moisture_transport/moisture_transport/creampy/dataproducts.py\u001b[0m in \u001b[0;36mget_data_per_year\u001b[0;34m(self, years, months, days, hours, pressure_levels)\u001b[0m\n\u001b[1;32m    125\u001b[0m                         \u001b[0;34m\"day\"\u001b[0m\u001b[0;34m:\u001b[0m           \u001b[0mdays\u001b[0m\u001b[0;34m,\u001b[0m\u001b[0;34m\u001b[0m\u001b[0;34m\u001b[0m\u001b[0m\n\u001b[1;32m    126\u001b[0m                         \u001b[0;34m\"time\"\u001b[0m\u001b[0;34m:\u001b[0m          \u001b[0mhours\u001b[0m\u001b[0;34m\u001b[0m\u001b[0;34m\u001b[0m\u001b[0m\n\u001b[0;32m--> 127\u001b[0;31m                     }, filepath)\n\u001b[0m\u001b[1;32m    128\u001b[0m \u001b[0;34m\u001b[0m\u001b[0m\n\u001b[1;32m    129\u001b[0m                     \u001b[0mprint\u001b[0m\u001b[0;34m(\u001b[0m\u001b[0;34m'file downloaded and saved as '\u001b[0m\u001b[0;34m,\u001b[0m \u001b[0mfilepath\u001b[0m\u001b[0;34m)\u001b[0m\u001b[0;34m\u001b[0m\u001b[0;34m\u001b[0m\u001b[0m\n",
      "\u001b[0;32m~/anaconda3/lib/python3.6/site-packages/cdsapi/api.py\u001b[0m in \u001b[0;36mretrieve\u001b[0;34m(self, name, request, target)\u001b[0m\n\u001b[1;32m    308\u001b[0m \u001b[0;34m\u001b[0m\u001b[0m\n\u001b[1;32m    309\u001b[0m     \u001b[0;32mdef\u001b[0m \u001b[0mretrieve\u001b[0m\u001b[0;34m(\u001b[0m\u001b[0mself\u001b[0m\u001b[0;34m,\u001b[0m \u001b[0mname\u001b[0m\u001b[0;34m,\u001b[0m \u001b[0mrequest\u001b[0m\u001b[0;34m,\u001b[0m \u001b[0mtarget\u001b[0m\u001b[0;34m=\u001b[0m\u001b[0;32mNone\u001b[0m\u001b[0;34m)\u001b[0m\u001b[0;34m:\u001b[0m\u001b[0;34m\u001b[0m\u001b[0;34m\u001b[0m\u001b[0m\n\u001b[0;32m--> 310\u001b[0;31m         \u001b[0mresult\u001b[0m \u001b[0;34m=\u001b[0m \u001b[0mself\u001b[0m\u001b[0;34m.\u001b[0m\u001b[0m_api\u001b[0m\u001b[0;34m(\u001b[0m\u001b[0;34m'%s/resources/%s'\u001b[0m \u001b[0;34m%\u001b[0m \u001b[0;34m(\u001b[0m\u001b[0mself\u001b[0m\u001b[0;34m.\u001b[0m\u001b[0murl\u001b[0m\u001b[0;34m,\u001b[0m \u001b[0mname\u001b[0m\u001b[0;34m)\u001b[0m\u001b[0;34m,\u001b[0m \u001b[0mrequest\u001b[0m\u001b[0;34m,\u001b[0m \u001b[0;34m'POST'\u001b[0m\u001b[0;34m)\u001b[0m\u001b[0;34m\u001b[0m\u001b[0;34m\u001b[0m\u001b[0m\n\u001b[0m\u001b[1;32m    311\u001b[0m         \u001b[0;32mif\u001b[0m \u001b[0mtarget\u001b[0m \u001b[0;32mis\u001b[0m \u001b[0;32mnot\u001b[0m \u001b[0;32mNone\u001b[0m\u001b[0;34m:\u001b[0m\u001b[0;34m\u001b[0m\u001b[0;34m\u001b[0m\u001b[0m\n\u001b[1;32m    312\u001b[0m             \u001b[0mresult\u001b[0m\u001b[0;34m.\u001b[0m\u001b[0mdownload\u001b[0m\u001b[0;34m(\u001b[0m\u001b[0mtarget\u001b[0m\u001b[0;34m)\u001b[0m\u001b[0;34m\u001b[0m\u001b[0;34m\u001b[0m\u001b[0m\n",
      "\u001b[0;32m~/anaconda3/lib/python3.6/site-packages/cdsapi/api.py\u001b[0m in \u001b[0;36m_api\u001b[0;34m(self, url, request, method)\u001b[0m\n\u001b[1;32m    442\u001b[0m                         \u001b[0;32mbreak\u001b[0m\u001b[0;34m\u001b[0m\u001b[0;34m\u001b[0m\u001b[0m\n\u001b[1;32m    443\u001b[0m                     \u001b[0mself\u001b[0m\u001b[0;34m.\u001b[0m\u001b[0merror\u001b[0m\u001b[0;34m(\u001b[0m\u001b[0;34m\"  %s\"\u001b[0m\u001b[0;34m,\u001b[0m \u001b[0mn\u001b[0m\u001b[0;34m)\u001b[0m\u001b[0;34m\u001b[0m\u001b[0;34m\u001b[0m\u001b[0m\n\u001b[0;32m--> 444\u001b[0;31m                 \u001b[0;32mraise\u001b[0m \u001b[0mException\u001b[0m\u001b[0;34m(\u001b[0m\u001b[0;34m\"%s. %s.\"\u001b[0m \u001b[0;34m%\u001b[0m \u001b[0;34m(\u001b[0m\u001b[0mreply\u001b[0m\u001b[0;34m[\u001b[0m\u001b[0;34m'error'\u001b[0m\u001b[0;34m]\u001b[0m\u001b[0;34m.\u001b[0m\u001b[0mget\u001b[0m\u001b[0;34m(\u001b[0m\u001b[0;34m'message'\u001b[0m\u001b[0;34m)\u001b[0m\u001b[0;34m,\u001b[0m \u001b[0mreply\u001b[0m\u001b[0;34m[\u001b[0m\u001b[0;34m'error'\u001b[0m\u001b[0;34m]\u001b[0m\u001b[0;34m.\u001b[0m\u001b[0mget\u001b[0m\u001b[0;34m(\u001b[0m\u001b[0;34m'reason'\u001b[0m\u001b[0;34m)\u001b[0m\u001b[0;34m)\u001b[0m\u001b[0;34m)\u001b[0m\u001b[0;34m\u001b[0m\u001b[0;34m\u001b[0m\u001b[0m\n\u001b[0m\u001b[1;32m    445\u001b[0m \u001b[0;34m\u001b[0m\u001b[0m\n\u001b[1;32m    446\u001b[0m             \u001b[0;32mraise\u001b[0m \u001b[0mException\u001b[0m\u001b[0;34m(\u001b[0m\u001b[0;34m'Unknown API state [%s]'\u001b[0m \u001b[0;34m%\u001b[0m \u001b[0;34m(\u001b[0m\u001b[0mreply\u001b[0m\u001b[0;34m[\u001b[0m\u001b[0;34m'state'\u001b[0m\u001b[0;34m]\u001b[0m\u001b[0;34m,\u001b[0m\u001b[0;34m)\u001b[0m\u001b[0;34m)\u001b[0m\u001b[0;34m\u001b[0m\u001b[0;34m\u001b[0m\u001b[0m\n",
      "\u001b[0;31mException\u001b[0m: no data is available within your requested subset. Request returned no data."
     ]
    }
   ],
   "source": [
    "# download data \n",
    "era5_single.get_data_per_year(years = list(np.arange(1979,2020).astype(str)), months = list(np.arange(5,10).astype(str)))"
   ]
  },
  {
   "cell_type": "markdown",
   "metadata": {},
   "source": [
    "## Hourly ERA5 precip data for wavelet spectrum analysis "
   ]
  },
  {
   "cell_type": "code",
   "execution_count": null,
   "metadata": {},
   "outputs": [
    {
     "name": "stderr",
     "output_type": "stream",
     "text": [
      "2020-08-27 12:45:32,830 INFO Welcome to the CDS\n",
      "2020-08-27 12:45:32,830 INFO Sending request to https://cds.climate.copernicus.eu/api/v2/resources/reanalysis-era5-single-levels\n"
     ]
    },
    {
     "name": "stdout",
     "output_type": "stream",
     "text": [
      "omittted download for  era5_single-levels_1982_months56789_convective_precipitationlarge_scale_precipitationtotal_precipitationevaporation_60,50,10,130.nc\n"
     ]
    },
    {
     "name": "stderr",
     "output_type": "stream",
     "text": [
      "2020-08-27 12:45:32,985 INFO Request is completed\n",
      "2020-08-27 12:45:32,985 INFO Downloading http://136.156.133.37/cache-compute-0011/cache/data0/adaptor.mars.internal-1598523527.6131334-13236-5-df077f2a-727c-45c0-bda7-61915060dd85.nc to cache/era5_single-levels_1983_months56789_convective_precipitationlarge_scale_precipitationtotal_precipitationevaporation_60,50,10,130.nc (1.8G)\n",
      "2020-08-27 12:49:05,777 INFO Download rate 8.5M/s   \n",
      "2020-08-27 12:49:06,119 INFO Welcome to the CDS\n",
      "2020-08-27 12:49:06,119 INFO Sending request to https://cds.climate.copernicus.eu/api/v2/resources/reanalysis-era5-single-levels\n"
     ]
    },
    {
     "name": "stdout",
     "output_type": "stream",
     "text": [
      "file downloaded and saved as  cache/era5_single-levels_1983_months56789_convective_precipitationlarge_scale_precipitationtotal_precipitationevaporation_60,50,10,130.nc\n"
     ]
    },
    {
     "name": "stderr",
     "output_type": "stream",
     "text": [
      "2020-08-27 12:49:06,605 INFO Request is queued\n",
      "2020-08-27 12:49:07,638 INFO Request is running\n",
      "2020-08-27 13:15:26,808 INFO Request is completed\n",
      "2020-08-27 13:15:26,809 INFO Downloading http://136.156.132.105/cache-compute-0000/cache/data0/adaptor.mars.internal-1598525346.7679303-27924-39-50b2fff2-ee1b-40ff-b688-ffb205580915.nc to cache/era5_single-levels_1984_months56789_convective_precipitationlarge_scale_precipitationtotal_precipitationevaporation_60,50,10,130.nc (1.8G)\n",
      "2020-08-27 13:18:48,679 INFO Download rate 9M/s     \n",
      "2020-08-27 13:18:49,453 INFO Welcome to the CDS\n",
      "2020-08-27 13:18:49,453 INFO Sending request to https://cds.climate.copernicus.eu/api/v2/resources/reanalysis-era5-single-levels\n"
     ]
    },
    {
     "name": "stdout",
     "output_type": "stream",
     "text": [
      "file downloaded and saved as  cache/era5_single-levels_1984_months56789_convective_precipitationlarge_scale_precipitationtotal_precipitationevaporation_60,50,10,130.nc\n"
     ]
    },
    {
     "name": "stderr",
     "output_type": "stream",
     "text": [
      "2020-08-27 13:18:51,120 INFO Request is queued\n",
      "2020-08-27 13:18:53,688 INFO Request is running\n",
      "2020-08-27 13:43:11,156 INFO Request is completed\n",
      "2020-08-27 13:43:11,157 INFO Downloading http://136.156.133.42/cache-compute-0014/cache/data7/adaptor.mars.internal-1598527132.788269-23651-19-ef198261-438c-49c6-a86d-9aa038cfb28a.nc to cache/era5_single-levels_1985_months56789_convective_precipitationlarge_scale_precipitationtotal_precipitationevaporation_60,50,10,130.nc (1.8G)\n",
      "2020-08-27 13:46:29,939 INFO Download rate 9.1M/s   \n",
      "2020-08-27 13:46:30,369 INFO Welcome to the CDS\n",
      "2020-08-27 13:46:30,369 INFO Sending request to https://cds.climate.copernicus.eu/api/v2/resources/reanalysis-era5-single-levels\n"
     ]
    },
    {
     "name": "stdout",
     "output_type": "stream",
     "text": [
      "file downloaded and saved as  cache/era5_single-levels_1985_months56789_convective_precipitationlarge_scale_precipitationtotal_precipitationevaporation_60,50,10,130.nc\n"
     ]
    },
    {
     "name": "stderr",
     "output_type": "stream",
     "text": [
      "2020-08-27 13:46:30,620 INFO Request is queued\n",
      "2020-08-27 13:46:31,654 INFO Request is running\n",
      "2020-08-27 14:12:50,652 INFO Request is completed\n",
      "2020-08-27 14:12:50,652 INFO Downloading http://136.156.133.41/cache-compute-0013/cache/data5/adaptor.mars.internal-1598528791.1314566-24312-21-c03e91f6-391e-4ac0-8ecd-d7b4ffe62a08.nc to cache/era5_single-levels_1986_months56789_convective_precipitationlarge_scale_precipitationtotal_precipitationevaporation_60,50,10,130.nc (1.8G)\n",
      "2020-08-27 14:16:19,991 INFO Download rate 8.6M/s   \n",
      "2020-08-27 14:16:20,811 INFO Welcome to the CDS\n",
      "2020-08-27 14:16:20,812 INFO Sending request to https://cds.climate.copernicus.eu/api/v2/resources/reanalysis-era5-single-levels\n"
     ]
    },
    {
     "name": "stdout",
     "output_type": "stream",
     "text": [
      "file downloaded and saved as  cache/era5_single-levels_1986_months56789_convective_precipitationlarge_scale_precipitationtotal_precipitationevaporation_60,50,10,130.nc\n"
     ]
    },
    {
     "name": "stderr",
     "output_type": "stream",
     "text": [
      "2020-08-27 14:16:25,218 INFO Request is queued\n",
      "2020-08-27 14:16:26,251 INFO Request is running\n",
      "2020-08-27 14:40:45,286 INFO Request is completed\n",
      "2020-08-27 14:40:45,287 INFO Downloading http://136.156.133.46/cache-compute-0015/cache/data6/adaptor.mars.internal-1598530586.1858952-4724-7-3ab266c2-3f03-428a-9906-ed11fba2f5c0.nc to cache/era5_single-levels_1987_months56789_convective_precipitationlarge_scale_precipitationtotal_precipitationevaporation_60,50,10,130.nc (1.8G)\n",
      "2020-08-27 14:44:55,564 INFO Download rate 7.2M/s   \n",
      "2020-08-27 14:44:56,382 INFO Welcome to the CDS\n",
      "2020-08-27 14:44:56,383 INFO Sending request to https://cds.climate.copernicus.eu/api/v2/resources/reanalysis-era5-single-levels\n"
     ]
    },
    {
     "name": "stdout",
     "output_type": "stream",
     "text": [
      "file downloaded and saved as  cache/era5_single-levels_1987_months56789_convective_precipitationlarge_scale_precipitationtotal_precipitationevaporation_60,50,10,130.nc\n"
     ]
    },
    {
     "name": "stderr",
     "output_type": "stream",
     "text": [
      "2020-08-27 14:44:56,501 INFO Request is queued\n",
      "2020-08-27 14:44:57,535 INFO Request is running\n",
      "2020-08-27 15:09:16,477 INFO Request is completed\n",
      "2020-08-27 15:09:16,478 INFO Downloading http://136.156.132.236/cache-compute-0007/cache/data9/adaptor.mars.internal-1598532296.7733698-20004-1-8c5a101e-2142-41a2-bf7f-4cfd327dcbef.nc to cache/era5_single-levels_1988_months56789_convective_precipitationlarge_scale_precipitationtotal_precipitationevaporation_60,50,10,130.nc (1.8G)\n",
      "2020-08-27 15:13:18,161 INFO Download rate 7.5M/s   \n",
      "2020-08-27 15:13:19,130 INFO Welcome to the CDS\n",
      "2020-08-27 15:13:19,131 INFO Sending request to https://cds.climate.copernicus.eu/api/v2/resources/reanalysis-era5-single-levels\n"
     ]
    },
    {
     "name": "stdout",
     "output_type": "stream",
     "text": [
      "file downloaded and saved as  cache/era5_single-levels_1988_months56789_convective_precipitationlarge_scale_precipitationtotal_precipitationevaporation_60,50,10,130.nc\n"
     ]
    },
    {
     "name": "stderr",
     "output_type": "stream",
     "text": [
      "2020-08-27 15:13:20,744 INFO Request is queued\n",
      "2020-08-27 15:13:23,313 INFO Request is running\n",
      "2020-08-27 15:35:40,665 INFO Request is completed\n",
      "2020-08-27 15:35:40,665 INFO Downloading http://136.156.133.25/cache-compute-0008/cache/data4/adaptor.mars.internal-1598534002.8744597-29096-3-d4e5f276-7268-4b31-a4c0-f68e896acd4f.nc to cache/era5_single-levels_1989_months56789_convective_precipitationlarge_scale_precipitationtotal_precipitationevaporation_60,50,10,130.nc (1.8G)\n",
      " 68%|██████▊   | 1.20G/1.77G [02:39<18:12, 551kB/s] "
     ]
    }
   ],
   "source": [
    "# ERA5 pressure levels, variables q u v p, monthly resolution, domain \n",
    "variables = ['convective_precipitation', 'large_scale_precipitation', 'total_precipitation', 'evaporation']\n",
    "era5_single= creampy.dataproducts.ERA5('single-levels', variables, 'hourly', domain = ['60', '50', '10','130'] )\n",
    "\n",
    "# download data \n",
    "era5_single.get_data_per_year(years = list(np.arange(1982,2020).astype(str)), months = list(np.arange(5,10).astype(str)))"
   ]
  },
  {
   "cell_type": "markdown",
   "metadata": {},
   "source": [
    "## Hourly data for eddy calculation "
   ]
  }
 ],
 "metadata": {
  "kernelspec": {
   "display_name": "Python 3",
   "language": "python",
   "name": "python3"
  },
  "language_info": {
   "codemirror_mode": {
    "name": "ipython",
    "version": 3
   },
   "file_extension": ".py",
   "mimetype": "text/x-python",
   "name": "python",
   "nbconvert_exporter": "python",
   "pygments_lexer": "ipython3",
   "version": "3.6.7"
  }
 },
 "nbformat": 4,
 "nbformat_minor": 2
}
